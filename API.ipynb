{
 "cells": [
  {
   "cell_type": "code",
   "execution_count": 1,
   "metadata": {},
   "outputs": [],
   "source": [
    "import pandas as pd\n",
    "import numpy as np"
   ]
  },
  {
   "cell_type": "code",
   "execution_count": 2,
   "metadata": {},
   "outputs": [],
   "source": [
    "games=pd.read_parquet('Datasets/steam_games.parquet')\n",
    "users_items=pd.read_parquet('Datasets/users_items.parquet')\n",
    "user_reviews=pd.read_parquet('Datasets/user_reviews.parquet')"
   ]
  },
  {
   "cell_type": "code",
   "execution_count": 6,
   "metadata": {},
   "outputs": [
    {
     "name": "stdout",
     "output_type": "stream",
     "text": [
      "<class 'pandas.core.frame.DataFrame'>\n",
      "Index: 5153209 entries, 0 to 5170013\n",
      "Data columns (total 4 columns):\n",
      " #   Column            Dtype  \n",
      "---  ------            -----  \n",
      " 0   user_id           object \n",
      " 1   items_count       int64  \n",
      " 2   item_id           int64  \n",
      " 3   playtime_forever  float64\n",
      "dtypes: float64(1), int64(2), object(1)\n",
      "memory usage: 196.6+ MB\n"
     ]
    }
   ],
   "source": [
    "users_items.info()\n"
   ]
  },
  {
   "cell_type": "code",
   "execution_count": 7,
   "metadata": {},
   "outputs": [
    {
     "name": "stdout",
     "output_type": "stream",
     "text": [
      "<class 'pandas.core.frame.DataFrame'>\n",
      "Index: 59305 entries, 0 to 59332\n",
      "Data columns (total 4 columns):\n",
      " #   Column     Non-Null Count  Dtype \n",
      "---  ------     --------------  ----- \n",
      " 0   user_id    59305 non-null  object\n",
      " 1   item_id    59305 non-null  object\n",
      " 2   recommend  59305 non-null  bool  \n",
      " 3   sentiment  59305 non-null  int64 \n",
      "dtypes: bool(1), int64(1), object(2)\n",
      "memory usage: 1.9+ MB\n"
     ]
    }
   ],
   "source": [
    "user_reviews.info()"
   ]
  },
  {
   "cell_type": "code",
   "execution_count": 8,
   "metadata": {},
   "outputs": [
    {
     "name": "stdout",
     "output_type": "stream",
     "text": [
      "<class 'pandas.core.frame.DataFrame'>\n",
      "Index: 22528 entries, 88310 to 120443\n",
      "Data columns (total 7 columns):\n",
      " #   Column        Non-Null Count  Dtype  \n",
      "---  ------        --------------  -----  \n",
      " 0   genres        22528 non-null  object \n",
      " 1   app_name      22528 non-null  object \n",
      " 2   tags          22528 non-null  object \n",
      " 3   price         22528 non-null  float64\n",
      " 4   id            22528 non-null  int64  \n",
      " 5   developer     22528 non-null  object \n",
      " 6   release_year  22528 non-null  object \n",
      "dtypes: float64(1), int64(1), object(5)\n",
      "memory usage: 1.4+ MB\n"
     ]
    }
   ],
   "source": [
    "games.info()"
   ]
  },
  {
   "cell_type": "markdown",
   "metadata": {},
   "source": [
    "def developer( desarrollador : str ): Cantidad de items y porcentaje de contenido Free por año según empresa desarrolladora. Ejemplo de retorno:"
   ]
  },
  {
   "cell_type": "code",
   "execution_count": null,
   "metadata": {},
   "outputs": [],
   "source": []
  },
  {
   "cell_type": "markdown",
   "metadata": {},
   "source": [
    "def userdata( User_id : str ): Debe devolver cantidad de dinero gastado por el usuario, el porcentaje de recomendación en base a reviews.recommend y cantidad de items.\n",
    "\n",
    "Ejemplo de retorno: {\"Usuario X\" : us213ndjss09sdf, \"Dinero gastado\": 200 USD, \"% de recomendación\": 20%, \"cantidad de items\": 5}"
   ]
  },
  {
   "cell_type": "code",
   "execution_count": null,
   "metadata": {},
   "outputs": [],
   "source": []
  },
  {
   "cell_type": "markdown",
   "metadata": {},
   "source": [
    "def UserForGenre( genero : str ): Debe devolver el usuario que acumula más horas jugadas para el género dado y una lista de la acumulación de horas jugadas por año de lanzamiento.\n",
    "\n",
    "Ejemplo de retorno: {\"Usuario con más horas jugadas para Género X\" : us213ndjss09sdf, \"Horas jugadas\":[{Año: 2013, Horas: 203}, {Año: 2012, Horas: 100}, {Año: 2011, Horas: 23}]}"
   ]
  },
  {
   "cell_type": "code",
   "execution_count": 3,
   "metadata": {},
   "outputs": [
    {
     "data": {
      "text/html": [
       "<div>\n",
       "<style scoped>\n",
       "    .dataframe tbody tr th:only-of-type {\n",
       "        vertical-align: middle;\n",
       "    }\n",
       "\n",
       "    .dataframe tbody tr th {\n",
       "        vertical-align: top;\n",
       "    }\n",
       "\n",
       "    .dataframe thead th {\n",
       "        text-align: right;\n",
       "    }\n",
       "</style>\n",
       "<table border=\"1\" class=\"dataframe\">\n",
       "  <thead>\n",
       "    <tr style=\"text-align: right;\">\n",
       "      <th></th>\n",
       "      <th>user_id</th>\n",
       "      <th>playtime_forever</th>\n",
       "      <th>genres</th>\n",
       "      <th>release_year</th>\n",
       "    </tr>\n",
       "  </thead>\n",
       "  <tbody>\n",
       "    <tr>\n",
       "      <th>0</th>\n",
       "      <td>76561197970982479</td>\n",
       "      <td>6.0</td>\n",
       "      <td>[Action]</td>\n",
       "      <td>2000</td>\n",
       "    </tr>\n",
       "    <tr>\n",
       "      <th>1</th>\n",
       "      <td>js41637</td>\n",
       "      <td>0.0</td>\n",
       "      <td>[Action]</td>\n",
       "      <td>2000</td>\n",
       "    </tr>\n",
       "    <tr>\n",
       "      <th>2</th>\n",
       "      <td>Riot-Punch</td>\n",
       "      <td>0.0</td>\n",
       "      <td>[Action]</td>\n",
       "      <td>2000</td>\n",
       "    </tr>\n",
       "    <tr>\n",
       "      <th>3</th>\n",
       "      <td>doctr</td>\n",
       "      <td>93.0</td>\n",
       "      <td>[Action]</td>\n",
       "      <td>2000</td>\n",
       "    </tr>\n",
       "    <tr>\n",
       "      <th>4</th>\n",
       "      <td>corrupted_soul</td>\n",
       "      <td>108.0</td>\n",
       "      <td>[Action]</td>\n",
       "      <td>2000</td>\n",
       "    </tr>\n",
       "    <tr>\n",
       "      <th>...</th>\n",
       "      <td>...</td>\n",
       "      <td>...</td>\n",
       "      <td>...</td>\n",
       "      <td>...</td>\n",
       "    </tr>\n",
       "    <tr>\n",
       "      <th>4039495</th>\n",
       "      <td>peter1023199</td>\n",
       "      <td>6.0</td>\n",
       "      <td>[Racing, Simulation, Sports]</td>\n",
       "      <td>2016</td>\n",
       "    </tr>\n",
       "    <tr>\n",
       "      <th>4039496</th>\n",
       "      <td>76561198071808318</td>\n",
       "      <td>46.0</td>\n",
       "      <td>[Adventure, Indie]</td>\n",
       "      <td>2016</td>\n",
       "    </tr>\n",
       "    <tr>\n",
       "      <th>4039497</th>\n",
       "      <td>76561198081168593</td>\n",
       "      <td>51.0</td>\n",
       "      <td>[Strategy]</td>\n",
       "      <td>2016</td>\n",
       "    </tr>\n",
       "    <tr>\n",
       "      <th>4039498</th>\n",
       "      <td>76561198107283457</td>\n",
       "      <td>164.0</td>\n",
       "      <td>[Action, Casual, Indie, Simulation]</td>\n",
       "      <td>2016</td>\n",
       "    </tr>\n",
       "    <tr>\n",
       "      <th>4039499</th>\n",
       "      <td>inven</td>\n",
       "      <td>0.0</td>\n",
       "      <td>[Adventure, Indie, RPG]</td>\n",
       "      <td>2016</td>\n",
       "    </tr>\n",
       "  </tbody>\n",
       "</table>\n",
       "<p>4039500 rows × 4 columns</p>\n",
       "</div>"
      ],
      "text/plain": [
       "                   user_id  playtime_forever  \\\n",
       "0        76561197970982479               6.0   \n",
       "1                  js41637               0.0   \n",
       "2               Riot-Punch               0.0   \n",
       "3                    doctr              93.0   \n",
       "4           corrupted_soul             108.0   \n",
       "...                    ...               ...   \n",
       "4039495       peter1023199               6.0   \n",
       "4039496  76561198071808318              46.0   \n",
       "4039497  76561198081168593              51.0   \n",
       "4039498  76561198107283457             164.0   \n",
       "4039499              inven               0.0   \n",
       "\n",
       "                                      genres release_year  \n",
       "0                                   [Action]         2000  \n",
       "1                                   [Action]         2000  \n",
       "2                                   [Action]         2000  \n",
       "3                                   [Action]         2000  \n",
       "4                                   [Action]         2000  \n",
       "...                                      ...          ...  \n",
       "4039495         [Racing, Simulation, Sports]         2016  \n",
       "4039496                   [Adventure, Indie]         2016  \n",
       "4039497                           [Strategy]         2016  \n",
       "4039498  [Action, Casual, Indie, Simulation]         2016  \n",
       "4039499              [Adventure, Indie, RPG]         2016  \n",
       "\n",
       "[4039500 rows x 4 columns]"
      ]
     },
     "execution_count": 3,
     "metadata": {},
     "output_type": "execute_result"
    }
   ],
   "source": [
    "df_users_genre=pd.merge(users_items,games[['id','genres','release_year']],left_on='item_id',right_on='id')\n",
    "df_users_genre.drop(columns=['id','items_count','item_id',],inplace=True)\n",
    "df_users_genre"
   ]
  },
  {
   "cell_type": "code",
   "execution_count": 4,
   "metadata": {},
   "outputs": [
    {
     "name": "stdout",
     "output_type": "stream",
     "text": [
      "<class 'pandas.core.frame.DataFrame'>\n",
      "RangeIndex: 4039500 entries, 0 to 4039499\n",
      "Data columns (total 4 columns):\n",
      " #   Column            Dtype  \n",
      "---  ------            -----  \n",
      " 0   user_id           object \n",
      " 1   playtime_forever  float64\n",
      " 2   genres            object \n",
      " 3   release_year      object \n",
      "dtypes: float64(1), object(3)\n",
      "memory usage: 123.3+ MB\n"
     ]
    }
   ],
   "source": [
    "df_users_genre.info()"
   ]
  },
  {
   "cell_type": "code",
   "execution_count": 5,
   "metadata": {},
   "outputs": [
    {
     "data": {
      "text/plain": [
       "user_id             0\n",
       "playtime_forever    0\n",
       "genres              0\n",
       "release_year        0\n",
       "dtype: int64"
      ]
     },
     "execution_count": 5,
     "metadata": {},
     "output_type": "execute_result"
    }
   ],
   "source": [
    "df_users_genre.isnull().sum()"
   ]
  },
  {
   "cell_type": "code",
   "execution_count": 50,
   "metadata": {},
   "outputs": [
    {
     "data": {
      "text/html": [
       "<div>\n",
       "<style scoped>\n",
       "    .dataframe tbody tr th:only-of-type {\n",
       "        vertical-align: middle;\n",
       "    }\n",
       "\n",
       "    .dataframe tbody tr th {\n",
       "        vertical-align: top;\n",
       "    }\n",
       "\n",
       "    .dataframe thead th {\n",
       "        text-align: right;\n",
       "    }\n",
       "</style>\n",
       "<table border=\"1\" class=\"dataframe\">\n",
       "  <thead>\n",
       "    <tr style=\"text-align: right;\">\n",
       "      <th></th>\n",
       "      <th>user_id</th>\n",
       "      <th>release_year</th>\n",
       "      <th>genres</th>\n",
       "      <th>total_playtime</th>\n",
       "    </tr>\n",
       "  </thead>\n",
       "  <tbody>\n",
       "    <tr>\n",
       "      <th>0</th>\n",
       "      <td>--000--</td>\n",
       "      <td>2006</td>\n",
       "      <td>Indie</td>\n",
       "      <td>925.0</td>\n",
       "    </tr>\n",
       "    <tr>\n",
       "      <th>1</th>\n",
       "      <td>--000--</td>\n",
       "      <td>2006</td>\n",
       "      <td>Simulation</td>\n",
       "      <td>925.0</td>\n",
       "    </tr>\n",
       "    <tr>\n",
       "      <th>2</th>\n",
       "      <td>--000--</td>\n",
       "      <td>2009</td>\n",
       "      <td>Action</td>\n",
       "      <td>5329.0</td>\n",
       "    </tr>\n",
       "    <tr>\n",
       "      <th>3</th>\n",
       "      <td>--000--</td>\n",
       "      <td>2010</td>\n",
       "      <td>Action</td>\n",
       "      <td>22.0</td>\n",
       "    </tr>\n",
       "    <tr>\n",
       "      <th>4</th>\n",
       "      <td>--000--</td>\n",
       "      <td>2010</td>\n",
       "      <td>Free to Play</td>\n",
       "      <td>22.0</td>\n",
       "    </tr>\n",
       "    <tr>\n",
       "      <th>...</th>\n",
       "      <td>...</td>\n",
       "      <td>...</td>\n",
       "      <td>...</td>\n",
       "      <td>...</td>\n",
       "    </tr>\n",
       "    <tr>\n",
       "      <th>3339195</th>\n",
       "      <td>zzzmidmiss</td>\n",
       "      <td>2016</td>\n",
       "      <td>Casual</td>\n",
       "      <td>0.0</td>\n",
       "    </tr>\n",
       "    <tr>\n",
       "      <th>3339196</th>\n",
       "      <td>zzzmidmiss</td>\n",
       "      <td>2016</td>\n",
       "      <td>Early Access</td>\n",
       "      <td>0.0</td>\n",
       "    </tr>\n",
       "    <tr>\n",
       "      <th>3339197</th>\n",
       "      <td>zzzmidmiss</td>\n",
       "      <td>2016</td>\n",
       "      <td>Indie</td>\n",
       "      <td>0.0</td>\n",
       "    </tr>\n",
       "    <tr>\n",
       "      <th>3339198</th>\n",
       "      <td>zzzmidmiss</td>\n",
       "      <td>2016</td>\n",
       "      <td>Simulation</td>\n",
       "      <td>0.0</td>\n",
       "    </tr>\n",
       "    <tr>\n",
       "      <th>3339199</th>\n",
       "      <td>zzzmidmiss</td>\n",
       "      <td>2016</td>\n",
       "      <td>Strategy</td>\n",
       "      <td>0.0</td>\n",
       "    </tr>\n",
       "  </tbody>\n",
       "</table>\n",
       "<p>3339200 rows × 4 columns</p>\n",
       "</div>"
      ],
      "text/plain": [
       "            user_id release_year        genres  total_playtime\n",
       "0           --000--         2006         Indie           925.0\n",
       "1           --000--         2006    Simulation           925.0\n",
       "2           --000--         2009        Action          5329.0\n",
       "3           --000--         2010        Action            22.0\n",
       "4           --000--         2010  Free to Play            22.0\n",
       "...             ...          ...           ...             ...\n",
       "3339195  zzzmidmiss         2016        Casual             0.0\n",
       "3339196  zzzmidmiss         2016  Early Access             0.0\n",
       "3339197  zzzmidmiss         2016         Indie             0.0\n",
       "3339198  zzzmidmiss         2016    Simulation             0.0\n",
       "3339199  zzzmidmiss         2016      Strategy             0.0\n",
       "\n",
       "[3339200 rows x 4 columns]"
      ]
     },
     "execution_count": 50,
     "metadata": {},
     "output_type": "execute_result"
    }
   ],
   "source": [
    "df_genres_exploded = df_users_genre.explode(\"genres\")\n",
    "df_genres_exploded\n"
   ]
  },
  {
   "cell_type": "code",
   "execution_count": 9,
   "metadata": {},
   "outputs": [
    {
     "data": {
      "text/plain": [
       "user_id             0\n",
       "playtime_forever    0\n",
       "genres              0\n",
       "release_year        0\n",
       "dtype: int64"
      ]
     },
     "execution_count": 9,
     "metadata": {},
     "output_type": "execute_result"
    }
   ],
   "source": [
    "df_genres_exploded.isnull().sum()"
   ]
  },
  {
   "cell_type": "code",
   "execution_count": 51,
   "metadata": {},
   "outputs": [
    {
     "ename": "KeyError",
     "evalue": "\"Column(s) ['playtime_forever'] do not exist\"",
     "output_type": "error",
     "traceback": [
      "\u001b[1;31m---------------------------------------------------------------------------\u001b[0m",
      "\u001b[1;31mKeyError\u001b[0m                                  Traceback (most recent call last)",
      "Cell \u001b[1;32mIn[51], line 2\u001b[0m\n\u001b[0;32m      1\u001b[0m \u001b[38;5;66;03m#Agrupo por usuario y año y sumo las horas jugadas\u001b[39;00m\n\u001b[1;32m----> 2\u001b[0m df_users_genre\u001b[38;5;241m=\u001b[39m\u001b[43mdf_genres_exploded\u001b[49m\u001b[38;5;241;43m.\u001b[39;49m\u001b[43mgroupby\u001b[49m\u001b[43m(\u001b[49m\u001b[43m[\u001b[49m\u001b[38;5;124;43m'\u001b[39;49m\u001b[38;5;124;43muser_id\u001b[39;49m\u001b[38;5;124;43m'\u001b[39;49m\u001b[43m,\u001b[49m\u001b[38;5;124;43m'\u001b[39;49m\u001b[38;5;124;43mrelease_year\u001b[39;49m\u001b[38;5;124;43m'\u001b[39;49m\u001b[43m,\u001b[49m\u001b[38;5;124;43m'\u001b[39;49m\u001b[38;5;124;43mgenres\u001b[39;49m\u001b[38;5;124;43m'\u001b[39;49m\u001b[43m]\u001b[49m\u001b[43m)\u001b[49m\u001b[38;5;241;43m.\u001b[39;49m\u001b[43magg\u001b[49m\u001b[43m(\u001b[49m\u001b[43m{\u001b[49m\u001b[38;5;124;43m'\u001b[39;49m\u001b[38;5;124;43mplaytime_forever\u001b[39;49m\u001b[38;5;124;43m'\u001b[39;49m\u001b[43m:\u001b[49m\u001b[38;5;124;43m'\u001b[39;49m\u001b[38;5;124;43msum\u001b[39;49m\u001b[38;5;124;43m'\u001b[39;49m\u001b[43m}\u001b[49m\u001b[43m)\u001b[49m\u001b[38;5;241m.\u001b[39mreset_index()\n",
      "File \u001b[1;32mc:\\Users\\juan\\AppData\\Local\\Programs\\Python\\Python312\\Lib\\site-packages\\pandas\\core\\groupby\\generic.py:1445\u001b[0m, in \u001b[0;36mDataFrameGroupBy.aggregate\u001b[1;34m(self, func, engine, engine_kwargs, *args, **kwargs)\u001b[0m\n\u001b[0;32m   1442\u001b[0m     kwargs[\u001b[38;5;124m\"\u001b[39m\u001b[38;5;124mengine_kwargs\u001b[39m\u001b[38;5;124m\"\u001b[39m] \u001b[38;5;241m=\u001b[39m engine_kwargs\n\u001b[0;32m   1444\u001b[0m op \u001b[38;5;241m=\u001b[39m GroupByApply(\u001b[38;5;28mself\u001b[39m, func, args\u001b[38;5;241m=\u001b[39margs, kwargs\u001b[38;5;241m=\u001b[39mkwargs)\n\u001b[1;32m-> 1445\u001b[0m result \u001b[38;5;241m=\u001b[39m \u001b[43mop\u001b[49m\u001b[38;5;241;43m.\u001b[39;49m\u001b[43magg\u001b[49m\u001b[43m(\u001b[49m\u001b[43m)\u001b[49m\n\u001b[0;32m   1446\u001b[0m \u001b[38;5;28;01mif\u001b[39;00m \u001b[38;5;129;01mnot\u001b[39;00m is_dict_like(func) \u001b[38;5;129;01mand\u001b[39;00m result \u001b[38;5;129;01mis\u001b[39;00m \u001b[38;5;129;01mnot\u001b[39;00m \u001b[38;5;28;01mNone\u001b[39;00m:\n\u001b[0;32m   1447\u001b[0m     \u001b[38;5;66;03m# GH #52849\u001b[39;00m\n\u001b[0;32m   1448\u001b[0m     \u001b[38;5;28;01mif\u001b[39;00m \u001b[38;5;129;01mnot\u001b[39;00m \u001b[38;5;28mself\u001b[39m\u001b[38;5;241m.\u001b[39mas_index \u001b[38;5;129;01mand\u001b[39;00m is_list_like(func):\n",
      "File \u001b[1;32mc:\\Users\\juan\\AppData\\Local\\Programs\\Python\\Python312\\Lib\\site-packages\\pandas\\core\\apply.py:175\u001b[0m, in \u001b[0;36mApply.agg\u001b[1;34m(self)\u001b[0m\n\u001b[0;32m    172\u001b[0m     \u001b[38;5;28;01mreturn\u001b[39;00m \u001b[38;5;28mself\u001b[39m\u001b[38;5;241m.\u001b[39mapply_str()\n\u001b[0;32m    174\u001b[0m \u001b[38;5;28;01mif\u001b[39;00m is_dict_like(func):\n\u001b[1;32m--> 175\u001b[0m     \u001b[38;5;28;01mreturn\u001b[39;00m \u001b[38;5;28;43mself\u001b[39;49m\u001b[38;5;241;43m.\u001b[39;49m\u001b[43magg_dict_like\u001b[49m\u001b[43m(\u001b[49m\u001b[43m)\u001b[49m\n\u001b[0;32m    176\u001b[0m \u001b[38;5;28;01melif\u001b[39;00m is_list_like(func):\n\u001b[0;32m    177\u001b[0m     \u001b[38;5;66;03m# we require a list, but not a 'str'\u001b[39;00m\n\u001b[0;32m    178\u001b[0m     \u001b[38;5;28;01mreturn\u001b[39;00m \u001b[38;5;28mself\u001b[39m\u001b[38;5;241m.\u001b[39magg_list_like()\n",
      "File \u001b[1;32mc:\\Users\\juan\\AppData\\Local\\Programs\\Python\\Python312\\Lib\\site-packages\\pandas\\core\\apply.py:406\u001b[0m, in \u001b[0;36mApply.agg_dict_like\u001b[1;34m(self)\u001b[0m\n\u001b[0;32m    398\u001b[0m \u001b[38;5;28;01mdef\u001b[39;00m \u001b[38;5;21magg_dict_like\u001b[39m(\u001b[38;5;28mself\u001b[39m) \u001b[38;5;241m-\u001b[39m\u001b[38;5;241m>\u001b[39m DataFrame \u001b[38;5;241m|\u001b[39m Series:\n\u001b[0;32m    399\u001b[0m \u001b[38;5;250m    \u001b[39m\u001b[38;5;124;03m\"\"\"\u001b[39;00m\n\u001b[0;32m    400\u001b[0m \u001b[38;5;124;03m    Compute aggregation in the case of a dict-like argument.\u001b[39;00m\n\u001b[0;32m    401\u001b[0m \n\u001b[1;32m   (...)\u001b[0m\n\u001b[0;32m    404\u001b[0m \u001b[38;5;124;03m    Result of aggregation.\u001b[39;00m\n\u001b[0;32m    405\u001b[0m \u001b[38;5;124;03m    \"\"\"\u001b[39;00m\n\u001b[1;32m--> 406\u001b[0m     \u001b[38;5;28;01mreturn\u001b[39;00m \u001b[38;5;28;43mself\u001b[39;49m\u001b[38;5;241;43m.\u001b[39;49m\u001b[43magg_or_apply_dict_like\u001b[49m\u001b[43m(\u001b[49m\u001b[43mop_name\u001b[49m\u001b[38;5;241;43m=\u001b[39;49m\u001b[38;5;124;43m\"\u001b[39;49m\u001b[38;5;124;43magg\u001b[39;49m\u001b[38;5;124;43m\"\u001b[39;49m\u001b[43m)\u001b[49m\n",
      "File \u001b[1;32mc:\\Users\\juan\\AppData\\Local\\Programs\\Python\\Python312\\Lib\\site-packages\\pandas\\core\\apply.py:1390\u001b[0m, in \u001b[0;36mGroupByApply.agg_or_apply_dict_like\u001b[1;34m(self, op_name)\u001b[0m\n\u001b[0;32m   1385\u001b[0m     kwargs\u001b[38;5;241m.\u001b[39mupdate({\u001b[38;5;124m\"\u001b[39m\u001b[38;5;124mengine\u001b[39m\u001b[38;5;124m\"\u001b[39m: engine, \u001b[38;5;124m\"\u001b[39m\u001b[38;5;124mengine_kwargs\u001b[39m\u001b[38;5;124m\"\u001b[39m: engine_kwargs})\n\u001b[0;32m   1387\u001b[0m \u001b[38;5;28;01mwith\u001b[39;00m com\u001b[38;5;241m.\u001b[39mtemp_setattr(\n\u001b[0;32m   1388\u001b[0m     obj, \u001b[38;5;124m\"\u001b[39m\u001b[38;5;124mas_index\u001b[39m\u001b[38;5;124m\"\u001b[39m, \u001b[38;5;28;01mTrue\u001b[39;00m, condition\u001b[38;5;241m=\u001b[39m\u001b[38;5;28mhasattr\u001b[39m(obj, \u001b[38;5;124m\"\u001b[39m\u001b[38;5;124mas_index\u001b[39m\u001b[38;5;124m\"\u001b[39m)\n\u001b[0;32m   1389\u001b[0m ):\n\u001b[1;32m-> 1390\u001b[0m     result_index, result_data \u001b[38;5;241m=\u001b[39m \u001b[38;5;28;43mself\u001b[39;49m\u001b[38;5;241;43m.\u001b[39;49m\u001b[43mcompute_dict_like\u001b[49m\u001b[43m(\u001b[49m\n\u001b[0;32m   1391\u001b[0m \u001b[43m        \u001b[49m\u001b[43mop_name\u001b[49m\u001b[43m,\u001b[49m\u001b[43m \u001b[49m\u001b[43mselected_obj\u001b[49m\u001b[43m,\u001b[49m\u001b[43m \u001b[49m\u001b[43mselection\u001b[49m\u001b[43m,\u001b[49m\u001b[43m \u001b[49m\u001b[43mkwargs\u001b[49m\n\u001b[0;32m   1392\u001b[0m \u001b[43m    \u001b[49m\u001b[43m)\u001b[49m\n\u001b[0;32m   1393\u001b[0m result \u001b[38;5;241m=\u001b[39m \u001b[38;5;28mself\u001b[39m\u001b[38;5;241m.\u001b[39mwrap_results_dict_like(selected_obj, result_index, result_data)\n\u001b[0;32m   1394\u001b[0m \u001b[38;5;28;01mreturn\u001b[39;00m result\n",
      "File \u001b[1;32mc:\\Users\\juan\\AppData\\Local\\Programs\\Python\\Python312\\Lib\\site-packages\\pandas\\core\\apply.py:445\u001b[0m, in \u001b[0;36mApply.compute_dict_like\u001b[1;34m(self, op_name, selected_obj, selection, kwargs)\u001b[0m\n\u001b[0;32m    443\u001b[0m is_groupby \u001b[38;5;241m=\u001b[39m \u001b[38;5;28misinstance\u001b[39m(obj, (DataFrameGroupBy, SeriesGroupBy))\n\u001b[0;32m    444\u001b[0m func \u001b[38;5;241m=\u001b[39m cast(AggFuncTypeDict, \u001b[38;5;28mself\u001b[39m\u001b[38;5;241m.\u001b[39mfunc)\n\u001b[1;32m--> 445\u001b[0m func \u001b[38;5;241m=\u001b[39m \u001b[38;5;28;43mself\u001b[39;49m\u001b[38;5;241;43m.\u001b[39;49m\u001b[43mnormalize_dictlike_arg\u001b[49m\u001b[43m(\u001b[49m\u001b[43mop_name\u001b[49m\u001b[43m,\u001b[49m\u001b[43m \u001b[49m\u001b[43mselected_obj\u001b[49m\u001b[43m,\u001b[49m\u001b[43m \u001b[49m\u001b[43mfunc\u001b[49m\u001b[43m)\u001b[49m\n\u001b[0;32m    447\u001b[0m is_non_unique_col \u001b[38;5;241m=\u001b[39m (\n\u001b[0;32m    448\u001b[0m     selected_obj\u001b[38;5;241m.\u001b[39mndim \u001b[38;5;241m==\u001b[39m \u001b[38;5;241m2\u001b[39m\n\u001b[0;32m    449\u001b[0m     \u001b[38;5;129;01mand\u001b[39;00m selected_obj\u001b[38;5;241m.\u001b[39mcolumns\u001b[38;5;241m.\u001b[39mnunique() \u001b[38;5;241m<\u001b[39m \u001b[38;5;28mlen\u001b[39m(selected_obj\u001b[38;5;241m.\u001b[39mcolumns)\n\u001b[0;32m    450\u001b[0m )\n\u001b[0;32m    452\u001b[0m \u001b[38;5;28;01mif\u001b[39;00m selected_obj\u001b[38;5;241m.\u001b[39mndim \u001b[38;5;241m==\u001b[39m \u001b[38;5;241m1\u001b[39m:\n\u001b[0;32m    453\u001b[0m     \u001b[38;5;66;03m# key only used for output\u001b[39;00m\n",
      "File \u001b[1;32mc:\\Users\\juan\\AppData\\Local\\Programs\\Python\\Python312\\Lib\\site-packages\\pandas\\core\\apply.py:639\u001b[0m, in \u001b[0;36mApply.normalize_dictlike_arg\u001b[1;34m(self, how, obj, func)\u001b[0m\n\u001b[0;32m    637\u001b[0m     cols \u001b[38;5;241m=\u001b[39m Index(\u001b[38;5;28mlist\u001b[39m(func\u001b[38;5;241m.\u001b[39mkeys()))\u001b[38;5;241m.\u001b[39mdifference(obj\u001b[38;5;241m.\u001b[39mcolumns, sort\u001b[38;5;241m=\u001b[39m\u001b[38;5;28;01mTrue\u001b[39;00m)\n\u001b[0;32m    638\u001b[0m     \u001b[38;5;28;01mif\u001b[39;00m \u001b[38;5;28mlen\u001b[39m(cols) \u001b[38;5;241m>\u001b[39m \u001b[38;5;241m0\u001b[39m:\n\u001b[1;32m--> 639\u001b[0m         \u001b[38;5;28;01mraise\u001b[39;00m \u001b[38;5;167;01mKeyError\u001b[39;00m(\u001b[38;5;124mf\u001b[39m\u001b[38;5;124m\"\u001b[39m\u001b[38;5;124mColumn(s) \u001b[39m\u001b[38;5;132;01m{\u001b[39;00m\u001b[38;5;28mlist\u001b[39m(cols)\u001b[38;5;132;01m}\u001b[39;00m\u001b[38;5;124m do not exist\u001b[39m\u001b[38;5;124m\"\u001b[39m)\n\u001b[0;32m    641\u001b[0m aggregator_types \u001b[38;5;241m=\u001b[39m (\u001b[38;5;28mlist\u001b[39m, \u001b[38;5;28mtuple\u001b[39m, \u001b[38;5;28mdict\u001b[39m)\n\u001b[0;32m    643\u001b[0m \u001b[38;5;66;03m# if we have a dict of any non-scalars\u001b[39;00m\n\u001b[0;32m    644\u001b[0m \u001b[38;5;66;03m# eg. {'A' : ['mean']}, normalize all to\u001b[39;00m\n\u001b[0;32m    645\u001b[0m \u001b[38;5;66;03m# be list-likes\u001b[39;00m\n\u001b[0;32m    646\u001b[0m \u001b[38;5;66;03m# Cannot use func.values() because arg may be a Series\u001b[39;00m\n",
      "\u001b[1;31mKeyError\u001b[0m: \"Column(s) ['playtime_forever'] do not exist\""
     ]
    }
   ],
   "source": [
    "#Agrupo por usuario y año y sumo las horas jugadas\n",
    "df_users_genre=df_genres_exploded.groupby(['user_id','release_year','genres']).agg({'playtime_forever':'sum'}).reset_index()"
   ]
  },
  {
   "cell_type": "code",
   "execution_count": 52,
   "metadata": {},
   "outputs": [],
   "source": [
    "df_users_genre.rename(columns={'playtime_forever':'total_playtime'},inplace=True)"
   ]
  },
  {
   "cell_type": "code",
   "execution_count": 53,
   "metadata": {},
   "outputs": [],
   "source": [
    "df_max_playtime_per_genre = df_users_genre.groupby('genres')['total_playtime'].idxmax()\n",
    "df_users_max_playtime = df_users_genre.loc[df_max_playtime_per_genre]"
   ]
  },
  {
   "cell_type": "code",
   "execution_count": 54,
   "metadata": {},
   "outputs": [
    {
     "data": {
      "text/html": [
       "<div>\n",
       "<style scoped>\n",
       "    .dataframe tbody tr th:only-of-type {\n",
       "        vertical-align: middle;\n",
       "    }\n",
       "\n",
       "    .dataframe tbody tr th {\n",
       "        vertical-align: top;\n",
       "    }\n",
       "\n",
       "    .dataframe thead th {\n",
       "        text-align: right;\n",
       "    }\n",
       "</style>\n",
       "<table border=\"1\" class=\"dataframe\">\n",
       "  <thead>\n",
       "    <tr style=\"text-align: right;\">\n",
       "      <th></th>\n",
       "      <th>user_id</th>\n",
       "      <th>release_year</th>\n",
       "      <th>genres</th>\n",
       "      <th>total_playtime</th>\n",
       "    </tr>\n",
       "  </thead>\n",
       "  <tbody>\n",
       "    <tr>\n",
       "      <th>1932045</th>\n",
       "      <td>Evilutional</td>\n",
       "      <td>2012</td>\n",
       "      <td>Action</td>\n",
       "      <td>680991.0</td>\n",
       "    </tr>\n",
       "    <tr>\n",
       "      <th>2238007</th>\n",
       "      <td>REBAS_AS_F-T</td>\n",
       "      <td>2016</td>\n",
       "      <td>Adventure</td>\n",
       "      <td>788530.0</td>\n",
       "    </tr>\n",
       "    <tr>\n",
       "      <th>823370</th>\n",
       "      <td>76561198059330972</td>\n",
       "      <td>2013</td>\n",
       "      <td>Animation &amp;amp; Modeling</td>\n",
       "      <td>65427.0</td>\n",
       "    </tr>\n",
       "    <tr>\n",
       "      <th>2060542</th>\n",
       "      <td>KJ72</td>\n",
       "      <td>2014</td>\n",
       "      <td>Audio Production</td>\n",
       "      <td>18940.0</td>\n",
       "    </tr>\n",
       "    <tr>\n",
       "      <th>1932047</th>\n",
       "      <td>Evilutional</td>\n",
       "      <td>2012</td>\n",
       "      <td>Casual</td>\n",
       "      <td>636870.0</td>\n",
       "    </tr>\n",
       "    <tr>\n",
       "      <th>393475</th>\n",
       "      <td>76561198035718256</td>\n",
       "      <td>2012</td>\n",
       "      <td>Design &amp;amp; Illustration</td>\n",
       "      <td>102554.0</td>\n",
       "    </tr>\n",
       "    <tr>\n",
       "      <th>96956</th>\n",
       "      <td>76561197978756659</td>\n",
       "      <td>2013</td>\n",
       "      <td>Early Access</td>\n",
       "      <td>316786.0</td>\n",
       "    </tr>\n",
       "    <tr>\n",
       "      <th>823372</th>\n",
       "      <td>76561198059330972</td>\n",
       "      <td>2013</td>\n",
       "      <td>Education</td>\n",
       "      <td>65427.0</td>\n",
       "    </tr>\n",
       "    <tr>\n",
       "      <th>1932049</th>\n",
       "      <td>Evilutional</td>\n",
       "      <td>2012</td>\n",
       "      <td>Free to Play</td>\n",
       "      <td>671216.0</td>\n",
       "    </tr>\n",
       "    <tr>\n",
       "      <th>2238011</th>\n",
       "      <td>REBAS_AS_F-T</td>\n",
       "      <td>2016</td>\n",
       "      <td>Indie</td>\n",
       "      <td>808265.0</td>\n",
       "    </tr>\n",
       "    <tr>\n",
       "      <th>1932051</th>\n",
       "      <td>Evilutional</td>\n",
       "      <td>2012</td>\n",
       "      <td>Massively Multiplayer</td>\n",
       "      <td>670089.0</td>\n",
       "    </tr>\n",
       "    <tr>\n",
       "      <th>2302465</th>\n",
       "      <td>Sky_Wolf</td>\n",
       "      <td>2014</td>\n",
       "      <td>Photo Editing</td>\n",
       "      <td>21885.0</td>\n",
       "    </tr>\n",
       "    <tr>\n",
       "      <th>1932052</th>\n",
       "      <td>Evilutional</td>\n",
       "      <td>2012</td>\n",
       "      <td>RPG</td>\n",
       "      <td>640889.0</td>\n",
       "    </tr>\n",
       "    <tr>\n",
       "      <th>1903214</th>\n",
       "      <td>DownSyndromeKid</td>\n",
       "      <td>2011</td>\n",
       "      <td>Racing</td>\n",
       "      <td>295361.0</td>\n",
       "    </tr>\n",
       "    <tr>\n",
       "      <th>2587684</th>\n",
       "      <td>clawbot44</td>\n",
       "      <td>2006</td>\n",
       "      <td>Simulation</td>\n",
       "      <td>723162.0</td>\n",
       "    </tr>\n",
       "    <tr>\n",
       "      <th>2775598</th>\n",
       "      <td>hterrormc</td>\n",
       "      <td>2015</td>\n",
       "      <td>Software Training</td>\n",
       "      <td>4456.0</td>\n",
       "    </tr>\n",
       "    <tr>\n",
       "      <th>264034</th>\n",
       "      <td>76561198019112245</td>\n",
       "      <td>2014</td>\n",
       "      <td>Sports</td>\n",
       "      <td>182988.0</td>\n",
       "    </tr>\n",
       "    <tr>\n",
       "      <th>3139423</th>\n",
       "      <td>shinomegami</td>\n",
       "      <td>2003</td>\n",
       "      <td>Strategy</td>\n",
       "      <td>531616.0</td>\n",
       "    </tr>\n",
       "    <tr>\n",
       "      <th>1202750</th>\n",
       "      <td>76561198073642113</td>\n",
       "      <td>2014</td>\n",
       "      <td>Utilities</td>\n",
       "      <td>207651.0</td>\n",
       "    </tr>\n",
       "    <tr>\n",
       "      <th>939634</th>\n",
       "      <td>76561198064117170</td>\n",
       "      <td>2014</td>\n",
       "      <td>Video Production</td>\n",
       "      <td>11711.0</td>\n",
       "    </tr>\n",
       "    <tr>\n",
       "      <th>393480</th>\n",
       "      <td>76561198035718256</td>\n",
       "      <td>2012</td>\n",
       "      <td>Web Publishing</td>\n",
       "      <td>102554.0</td>\n",
       "    </tr>\n",
       "  </tbody>\n",
       "</table>\n",
       "</div>"
      ],
      "text/plain": [
       "                   user_id release_year                     genres  \\\n",
       "1932045        Evilutional         2012                     Action   \n",
       "2238007       REBAS_AS_F-T         2016                  Adventure   \n",
       "823370   76561198059330972         2013   Animation &amp; Modeling   \n",
       "2060542               KJ72         2014           Audio Production   \n",
       "1932047        Evilutional         2012                     Casual   \n",
       "393475   76561198035718256         2012  Design &amp; Illustration   \n",
       "96956    76561197978756659         2013               Early Access   \n",
       "823372   76561198059330972         2013                  Education   \n",
       "1932049        Evilutional         2012               Free to Play   \n",
       "2238011       REBAS_AS_F-T         2016                      Indie   \n",
       "1932051        Evilutional         2012      Massively Multiplayer   \n",
       "2302465           Sky_Wolf         2014              Photo Editing   \n",
       "1932052        Evilutional         2012                        RPG   \n",
       "1903214    DownSyndromeKid         2011                     Racing   \n",
       "2587684          clawbot44         2006                 Simulation   \n",
       "2775598          hterrormc         2015          Software Training   \n",
       "264034   76561198019112245         2014                     Sports   \n",
       "3139423        shinomegami         2003                   Strategy   \n",
       "1202750  76561198073642113         2014                  Utilities   \n",
       "939634   76561198064117170         2014           Video Production   \n",
       "393480   76561198035718256         2012             Web Publishing   \n",
       "\n",
       "         total_playtime  \n",
       "1932045        680991.0  \n",
       "2238007        788530.0  \n",
       "823370          65427.0  \n",
       "2060542         18940.0  \n",
       "1932047        636870.0  \n",
       "393475         102554.0  \n",
       "96956          316786.0  \n",
       "823372          65427.0  \n",
       "1932049        671216.0  \n",
       "2238011        808265.0  \n",
       "1932051        670089.0  \n",
       "2302465         21885.0  \n",
       "1932052        640889.0  \n",
       "1903214        295361.0  \n",
       "2587684        723162.0  \n",
       "2775598          4456.0  \n",
       "264034         182988.0  \n",
       "3139423        531616.0  \n",
       "1202750        207651.0  \n",
       "939634          11711.0  \n",
       "393480         102554.0  "
      ]
     },
     "execution_count": 54,
     "metadata": {},
     "output_type": "execute_result"
    }
   ],
   "source": [
    "df_users_max_playtime"
   ]
  },
  {
   "cell_type": "code",
   "execution_count": 55,
   "metadata": {},
   "outputs": [],
   "source": [
    "df_users_for_genre = df_users_genre.merge(df_users_max_playtime, on=[\"user_id\", \"genres\"])\n"
   ]
  },
  {
   "cell_type": "code",
   "execution_count": 57,
   "metadata": {},
   "outputs": [
    {
     "data": {
      "text/html": [
       "<div>\n",
       "<style scoped>\n",
       "    .dataframe tbody tr th:only-of-type {\n",
       "        vertical-align: middle;\n",
       "    }\n",
       "\n",
       "    .dataframe tbody tr th {\n",
       "        vertical-align: top;\n",
       "    }\n",
       "\n",
       "    .dataframe thead th {\n",
       "        text-align: right;\n",
       "    }\n",
       "</style>\n",
       "<table border=\"1\" class=\"dataframe\">\n",
       "  <thead>\n",
       "    <tr style=\"text-align: right;\">\n",
       "      <th></th>\n",
       "      <th>user_id</th>\n",
       "      <th>release_year_x</th>\n",
       "      <th>genres</th>\n",
       "      <th>total_playtime_x</th>\n",
       "      <th>release_year_y</th>\n",
       "      <th>total_playtime_y</th>\n",
       "    </tr>\n",
       "  </thead>\n",
       "  <tbody>\n",
       "    <tr>\n",
       "      <th>25</th>\n",
       "      <td>Evilutional</td>\n",
       "      <td>2003</td>\n",
       "      <td>Action</td>\n",
       "      <td>0.0</td>\n",
       "      <td>2012</td>\n",
       "      <td>680991.0</td>\n",
       "    </tr>\n",
       "    <tr>\n",
       "      <th>26</th>\n",
       "      <td>Evilutional</td>\n",
       "      <td>2006</td>\n",
       "      <td>Action</td>\n",
       "      <td>0.0</td>\n",
       "      <td>2012</td>\n",
       "      <td>680991.0</td>\n",
       "    </tr>\n",
       "    <tr>\n",
       "      <th>27</th>\n",
       "      <td>Evilutional</td>\n",
       "      <td>2009</td>\n",
       "      <td>Action</td>\n",
       "      <td>2037.0</td>\n",
       "      <td>2012</td>\n",
       "      <td>680991.0</td>\n",
       "    </tr>\n",
       "    <tr>\n",
       "      <th>28</th>\n",
       "      <td>Evilutional</td>\n",
       "      <td>2010</td>\n",
       "      <td>Action</td>\n",
       "      <td>4102.0</td>\n",
       "      <td>2012</td>\n",
       "      <td>680991.0</td>\n",
       "    </tr>\n",
       "    <tr>\n",
       "      <th>29</th>\n",
       "      <td>Evilutional</td>\n",
       "      <td>2011</td>\n",
       "      <td>Action</td>\n",
       "      <td>1968.0</td>\n",
       "      <td>2012</td>\n",
       "      <td>680991.0</td>\n",
       "    </tr>\n",
       "    <tr>\n",
       "      <th>30</th>\n",
       "      <td>Evilutional</td>\n",
       "      <td>2012</td>\n",
       "      <td>Action</td>\n",
       "      <td>680991.0</td>\n",
       "      <td>2012</td>\n",
       "      <td>680991.0</td>\n",
       "    </tr>\n",
       "    <tr>\n",
       "      <th>31</th>\n",
       "      <td>Evilutional</td>\n",
       "      <td>2013</td>\n",
       "      <td>Action</td>\n",
       "      <td>69726.0</td>\n",
       "      <td>2012</td>\n",
       "      <td>680991.0</td>\n",
       "    </tr>\n",
       "    <tr>\n",
       "      <th>32</th>\n",
       "      <td>Evilutional</td>\n",
       "      <td>2014</td>\n",
       "      <td>Action</td>\n",
       "      <td>24226.0</td>\n",
       "      <td>2012</td>\n",
       "      <td>680991.0</td>\n",
       "    </tr>\n",
       "    <tr>\n",
       "      <th>33</th>\n",
       "      <td>Evilutional</td>\n",
       "      <td>2015</td>\n",
       "      <td>Action</td>\n",
       "      <td>112.0</td>\n",
       "      <td>2012</td>\n",
       "      <td>680991.0</td>\n",
       "    </tr>\n",
       "    <tr>\n",
       "      <th>34</th>\n",
       "      <td>Evilutional</td>\n",
       "      <td>2016</td>\n",
       "      <td>Action</td>\n",
       "      <td>1291.0</td>\n",
       "      <td>2012</td>\n",
       "      <td>680991.0</td>\n",
       "    </tr>\n",
       "    <tr>\n",
       "      <th>35</th>\n",
       "      <td>Evilutional</td>\n",
       "      <td>2017</td>\n",
       "      <td>Action</td>\n",
       "      <td>10894.0</td>\n",
       "      <td>2012</td>\n",
       "      <td>680991.0</td>\n",
       "    </tr>\n",
       "  </tbody>\n",
       "</table>\n",
       "</div>"
      ],
      "text/plain": [
       "        user_id release_year_x  genres  total_playtime_x release_year_y  \\\n",
       "25  Evilutional           2003  Action               0.0           2012   \n",
       "26  Evilutional           2006  Action               0.0           2012   \n",
       "27  Evilutional           2009  Action            2037.0           2012   \n",
       "28  Evilutional           2010  Action            4102.0           2012   \n",
       "29  Evilutional           2011  Action            1968.0           2012   \n",
       "30  Evilutional           2012  Action          680991.0           2012   \n",
       "31  Evilutional           2013  Action           69726.0           2012   \n",
       "32  Evilutional           2014  Action           24226.0           2012   \n",
       "33  Evilutional           2015  Action             112.0           2012   \n",
       "34  Evilutional           2016  Action            1291.0           2012   \n",
       "35  Evilutional           2017  Action           10894.0           2012   \n",
       "\n",
       "    total_playtime_y  \n",
       "25          680991.0  \n",
       "26          680991.0  \n",
       "27          680991.0  \n",
       "28          680991.0  \n",
       "29          680991.0  \n",
       "30          680991.0  \n",
       "31          680991.0  \n",
       "32          680991.0  \n",
       "33          680991.0  \n",
       "34          680991.0  \n",
       "35          680991.0  "
      ]
     },
     "execution_count": 57,
     "metadata": {},
     "output_type": "execute_result"
    }
   ],
   "source": [
    "df_users_for_genre[df_users_for_genre['genres']=='Action']"
   ]
  },
  {
   "cell_type": "markdown",
   "metadata": {},
   "source": [
    "def best_developer_year( año : int ): Devuelve el top 3 de desarrolladores con juegos MÁS recomendados por usuarios para el año dado. (reviews.recommend = True y comentarios positivos)\n",
    "\n",
    "Ejemplo de retorno: [{\"Puesto 1\" : X}, {\"Puesto 2\" : Y},{\"Puesto 3\" : Z}]"
   ]
  },
  {
   "cell_type": "code",
   "execution_count": null,
   "metadata": {},
   "outputs": [],
   "source": []
  },
  {
   "cell_type": "markdown",
   "metadata": {},
   "source": [
    "def developer_reviews_analysis( desarrolladora : str ): Según el desarrollador, se devuelve un diccionario con el nombre del desarrollador como llave y una lista con la cantidad total de registros de reseñas de usuarios que se encuentren categorizados con un análisis de sentimiento como valor positivo o negativo.\n",
    "\n",
    "Ejemplo de retorno: {'Valve' : [Negative = 182, Positive = 278]}"
   ]
  },
  {
   "cell_type": "code",
   "execution_count": 16,
   "metadata": {},
   "outputs": [],
   "source": [
    "user_reviews['item_id']=user_reviews['item_id'].astype('int64')\n",
    "games['id'] = games['id'].astype('int64')"
   ]
  },
  {
   "cell_type": "code",
   "execution_count": 24,
   "metadata": {},
   "outputs": [
    {
     "data": {
      "text/plain": [
       "item_id\n",
       "True     49057\n",
       "False    10248\n",
       "Name: count, dtype: int64"
      ]
     },
     "execution_count": 24,
     "metadata": {},
     "output_type": "execute_result"
    }
   ],
   "source": [
    "user_reviews['item_id'].isin(games['id']).value_counts()"
   ]
  },
  {
   "cell_type": "code",
   "execution_count": 29,
   "metadata": {},
   "outputs": [],
   "source": [
    "df_dev_reviews=pd.merge(user_reviews,games[['developer','id']],left_on='item_id',right_on='id',how='left')"
   ]
  },
  {
   "cell_type": "code",
   "execution_count": 34,
   "metadata": {},
   "outputs": [],
   "source": [
    "df_dev_reviews=df_dev_reviews.dropna()\n"
   ]
  },
  {
   "cell_type": "code",
   "execution_count": 41,
   "metadata": {},
   "outputs": [],
   "source": [
    "df_dev_reviews=df_dev_reviews.drop(['user_id','recommend','id','item_id'],axis=1)"
   ]
  },
  {
   "cell_type": "code",
   "execution_count": 50,
   "metadata": {},
   "outputs": [
    {
     "data": {
      "text/plain": [
       "sentiment\n",
       "1    8435\n",
       "2    1009\n",
       "0     113\n",
       "Name: count, dtype: int64"
      ]
     },
     "execution_count": 50,
     "metadata": {},
     "output_type": "execute_result"
    }
   ],
   "source": [
    "df_dev_reviews[df_dev_reviews['developer']=='Valve']['sentiment'].value_counts()\n"
   ]
  },
  {
   "cell_type": "code",
   "execution_count": 118,
   "metadata": {},
   "outputs": [],
   "source": [
    "df_dev_counts_reviews = df_dev_reviews.groupby('developer')['sentiment'].value_counts().unstack().reset_index()\n",
    "df_dev_counts_reviews.columns = ['developer', 'Negative', 'Neutral', 'Positive']"
   ]
  },
  {
   "cell_type": "code",
   "execution_count": 119,
   "metadata": {},
   "outputs": [
    {
     "data": {
      "text/plain": [
       "developer  Negative  Neutral  Positive\n",
       "Valve      113.0     8435.0   1009.0      1\n",
       "Name: count, dtype: int64"
      ]
     },
     "execution_count": 119,
     "metadata": {},
     "output_type": "execute_result"
    }
   ],
   "source": [
    "df_dev_counts_reviews[df_dev_counts_reviews['developer']==\"Valve\"].value_counts()"
   ]
  },
  {
   "cell_type": "code",
   "execution_count": 120,
   "metadata": {},
   "outputs": [],
   "source": [
    "#Convierto los NaN en 0\n",
    "df_dev_counts=df_dev_counts_reviews.fillna(0)"
   ]
  },
  {
   "cell_type": "code",
   "execution_count": 121,
   "metadata": {},
   "outputs": [
    {
     "data": {
      "text/plain": [
       "developer    高考恋爱委员会,橘子班\n",
       "Negative           113.0\n",
       "Neutral           8435.0\n",
       "Positive          1009.0\n",
       "dtype: object"
      ]
     },
     "execution_count": 121,
     "metadata": {},
     "output_type": "execute_result"
    }
   ],
   "source": [
    "#Como podemos ver el valor maximo de las columnas numericas es 8435 por lo que se puede cambiar el tipo de dato a int16\n",
    "df_dev_counts.max()"
   ]
  },
  {
   "cell_type": "code",
   "execution_count": 122,
   "metadata": {},
   "outputs": [],
   "source": [
    "df_dev_counts_reviews[['Negative', 'Neutral', 'Positive']] = df_dev_counts[['Negative', 'Neutral', 'Positive']].astype('int16')"
   ]
  },
  {
   "cell_type": "code",
   "execution_count": 123,
   "metadata": {},
   "outputs": [
    {
     "name": "stdout",
     "output_type": "stream",
     "text": [
      "<class 'pandas.core.frame.DataFrame'>\n",
      "RangeIndex: 2030 entries, 0 to 2029\n",
      "Data columns (total 4 columns):\n",
      " #   Column     Non-Null Count  Dtype \n",
      "---  ------     --------------  ----- \n",
      " 0   developer  2030 non-null   object\n",
      " 1   Negative   2030 non-null   int16 \n",
      " 2   Neutral    2030 non-null   int16 \n",
      " 3   Positive   2030 non-null   int16 \n",
      "dtypes: int16(3), object(1)\n",
      "memory usage: 27.9+ KB\n"
     ]
    }
   ],
   "source": [
    "df_dev_counts_reviews.info()"
   ]
  },
  {
   "cell_type": "code",
   "execution_count": 124,
   "metadata": {},
   "outputs": [],
   "source": [
    "#Se elimina la columna Neutral que no sirve para el endpoint\n",
    "df_dev_counts_reviews.drop('Neutral',axis=1,inplace=True)"
   ]
  },
  {
   "cell_type": "code",
   "execution_count": 125,
   "metadata": {},
   "outputs": [],
   "source": [
    "df_dev_counts_reviews.to_parquet(r'Datasets/dev_counts_reviews.parquet')"
   ]
  },
  {
   "cell_type": "code",
   "execution_count": 126,
   "metadata": {},
   "outputs": [
    {
     "data": {
      "text/html": [
       "<div>\n",
       "<style scoped>\n",
       "    .dataframe tbody tr th:only-of-type {\n",
       "        vertical-align: middle;\n",
       "    }\n",
       "\n",
       "    .dataframe tbody tr th {\n",
       "        vertical-align: top;\n",
       "    }\n",
       "\n",
       "    .dataframe thead th {\n",
       "        text-align: right;\n",
       "    }\n",
       "</style>\n",
       "<table border=\"1\" class=\"dataframe\">\n",
       "  <thead>\n",
       "    <tr style=\"text-align: right;\">\n",
       "      <th></th>\n",
       "      <th>developer</th>\n",
       "      <th>Negative</th>\n",
       "      <th>Positive</th>\n",
       "    </tr>\n",
       "  </thead>\n",
       "  <tbody>\n",
       "    <tr>\n",
       "      <th>0</th>\n",
       "      <td>07th Expansion</td>\n",
       "      <td>0</td>\n",
       "      <td>0</td>\n",
       "    </tr>\n",
       "    <tr>\n",
       "      <th>1</th>\n",
       "      <td>10th Art Studio,Adventure Productions</td>\n",
       "      <td>0</td>\n",
       "      <td>0</td>\n",
       "    </tr>\n",
       "    <tr>\n",
       "      <th>2</th>\n",
       "      <td>10tons Ltd</td>\n",
       "      <td>0</td>\n",
       "      <td>0</td>\n",
       "    </tr>\n",
       "    <tr>\n",
       "      <th>3</th>\n",
       "      <td>11 bit studios</td>\n",
       "      <td>2</td>\n",
       "      <td>1</td>\n",
       "    </tr>\n",
       "    <tr>\n",
       "      <th>4</th>\n",
       "      <td>14° East</td>\n",
       "      <td>1</td>\n",
       "      <td>0</td>\n",
       "    </tr>\n",
       "    <tr>\n",
       "      <th>...</th>\n",
       "      <td>...</td>\n",
       "      <td>...</td>\n",
       "      <td>...</td>\n",
       "    </tr>\n",
       "    <tr>\n",
       "      <th>2025</th>\n",
       "      <td>xXarabongXx</td>\n",
       "      <td>0</td>\n",
       "      <td>0</td>\n",
       "    </tr>\n",
       "    <tr>\n",
       "      <th>2026</th>\n",
       "      <td>△○□× (Miwashiba)</td>\n",
       "      <td>0</td>\n",
       "      <td>0</td>\n",
       "    </tr>\n",
       "    <tr>\n",
       "      <th>2027</th>\n",
       "      <td>インレ,Inre</td>\n",
       "      <td>0</td>\n",
       "      <td>0</td>\n",
       "    </tr>\n",
       "    <tr>\n",
       "      <th>2028</th>\n",
       "      <td>橘子班</td>\n",
       "      <td>0</td>\n",
       "      <td>0</td>\n",
       "    </tr>\n",
       "    <tr>\n",
       "      <th>2029</th>\n",
       "      <td>高考恋爱委员会,橘子班</td>\n",
       "      <td>0</td>\n",
       "      <td>0</td>\n",
       "    </tr>\n",
       "  </tbody>\n",
       "</table>\n",
       "<p>2030 rows × 3 columns</p>\n",
       "</div>"
      ],
      "text/plain": [
       "                                  developer  Negative  Positive\n",
       "0                            07th Expansion         0         0\n",
       "1     10th Art Studio,Adventure Productions         0         0\n",
       "2                                10tons Ltd         0         0\n",
       "3                            11 bit studios         2         1\n",
       "4                                  14° East         1         0\n",
       "...                                     ...       ...       ...\n",
       "2025                            xXarabongXx         0         0\n",
       "2026                       △○□× (Miwashiba)         0         0\n",
       "2027                               インレ,Inre         0         0\n",
       "2028                                    橘子班         0         0\n",
       "2029                            高考恋爱委员会,橘子班         0         0\n",
       "\n",
       "[2030 rows x 3 columns]"
      ]
     },
     "execution_count": 126,
     "metadata": {},
     "output_type": "execute_result"
    }
   ],
   "source": [
    "prueba=pd.read_parquet(r'Datasets/dev_counts_reviews.parquet')\n",
    "prueba"
   ]
  }
 ],
 "metadata": {
  "kernelspec": {
   "display_name": "Python 3",
   "language": "python",
   "name": "python3"
  },
  "language_info": {
   "codemirror_mode": {
    "name": "ipython",
    "version": 3
   },
   "file_extension": ".py",
   "mimetype": "text/x-python",
   "name": "python",
   "nbconvert_exporter": "python",
   "pygments_lexer": "ipython3",
   "version": "3.12.1"
  }
 },
 "nbformat": 4,
 "nbformat_minor": 2
}
