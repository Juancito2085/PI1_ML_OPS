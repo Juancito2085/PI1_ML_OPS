{
 "cells": [
  {
   "cell_type": "markdown",
   "metadata": {},
   "source": [
    "# ETL"
   ]
  },
  {
   "cell_type": "code",
   "execution_count": 2,
   "metadata": {},
   "outputs": [],
   "source": [
    "import pandas as pd\n",
    "import numpy as np\n",
    "import gzip\n",
    "import json\n",
    "import re\n",
    "import ast"
   ]
  },
  {
   "cell_type": "markdown",
   "metadata": {},
   "source": [
    "## steam_games.json.gz"
   ]
  },
  {
   "cell_type": "code",
   "execution_count": 5,
   "metadata": {},
   "outputs": [],
   "source": [
    "with gzip.open(r'E:\\Data Science\\PI1\\Datasets\\steam_games.json.gz','rt',encoding='utf-8') as f:\n",
    "    df_games= pd.read_json(f, lines=True)\n"
   ]
  },
  {
   "cell_type": "code",
   "execution_count": 6,
   "metadata": {},
   "outputs": [
    {
     "name": "stdout",
     "output_type": "stream",
     "text": [
      "<class 'pandas.core.frame.DataFrame'>\n",
      "RangeIndex: 120445 entries, 0 to 120444\n",
      "Data columns (total 13 columns):\n",
      " #   Column        Non-Null Count  Dtype  \n",
      "---  ------        --------------  -----  \n",
      " 0   publisher     24083 non-null  object \n",
      " 1   genres        28852 non-null  object \n",
      " 2   app_name      32133 non-null  object \n",
      " 3   title         30085 non-null  object \n",
      " 4   url           32135 non-null  object \n",
      " 5   release_date  30068 non-null  object \n",
      " 6   tags          31972 non-null  object \n",
      " 7   reviews_url   32133 non-null  object \n",
      " 8   specs         31465 non-null  object \n",
      " 9   price         30758 non-null  object \n",
      " 10  early_access  32135 non-null  float64\n",
      " 11  id            32133 non-null  float64\n",
      " 12  developer     28836 non-null  object \n",
      "dtypes: float64(2), object(11)\n",
      "memory usage: 11.9+ MB\n"
     ]
    }
   ],
   "source": [
    "df_games.info()"
   ]
  },
  {
   "cell_type": "code",
   "execution_count": 8,
   "metadata": {},
   "outputs": [],
   "source": [
    "#Se eliminan todas las filas que estan vacías por completo\n",
    "df_games.dropna(how='all', axis=0,inplace=True)"
   ]
  },
  {
   "cell_type": "code",
   "execution_count": 10,
   "metadata": {},
   "outputs": [
    {
     "data": {
      "text/plain": [
       "publisher       8052\n",
       "genres          3283\n",
       "app_name           2\n",
       "title           2050\n",
       "url                0\n",
       "release_date    2067\n",
       "tags             163\n",
       "reviews_url        2\n",
       "specs            670\n",
       "price           1377\n",
       "early_access       0\n",
       "id                 2\n",
       "developer       3299\n",
       "dtype: int64"
      ]
     },
     "execution_count": 10,
     "metadata": {},
     "output_type": "execute_result"
    }
   ],
   "source": [
    "#Se revisan los valores nulos\n",
    "df_games.isnull().sum()"
   ]
  },
  {
   "cell_type": "code",
   "execution_count": 12,
   "metadata": {},
   "outputs": [
    {
     "data": {
      "text/plain": [
       "Index(['publisher', 'genres', 'app_name', 'title', 'url', 'release_date',\n",
       "       'tags', 'reviews_url', 'specs', 'price', 'early_access', 'id',\n",
       "       'developer'],\n",
       "      dtype='object')"
      ]
     },
     "execution_count": 12,
     "metadata": {},
     "output_type": "execute_result"
    }
   ],
   "source": [
    "df_games.columns"
   ]
  },
  {
   "cell_type": "code",
   "execution_count": 13,
   "metadata": {},
   "outputs": [],
   "source": [
    "#Se eleiminan las columnas que no se van a utilizar \n",
    "df_games.drop(['url', 'publisher', 'reviews_url','specs', 'price', 'early_access'], axis=1, inplace=True)"
   ]
  },
  {
   "cell_type": "code",
   "execution_count": 15,
   "metadata": {},
   "outputs": [
    {
     "data": {
      "text/plain": [
       "29530"
      ]
     },
     "execution_count": 15,
     "metadata": {},
     "output_type": "execute_result"
    }
   ],
   "source": [
    "#Se comparan los valores de las columnas 'title' y 'app_name' para ver si son iguales\n",
    "(df_games['title']==df_games['app_name']).sum()"
   ]
  },
  {
   "cell_type": "code",
   "execution_count": 16,
   "metadata": {},
   "outputs": [
    {
     "data": {
      "text/plain": [
       "30085"
      ]
     },
     "execution_count": 16,
     "metadata": {},
     "output_type": "execute_result"
    }
   ],
   "source": [
    "#Debido a que la mayoría de los titulos son iguales a los nombres de las apps, se decide eliminar la columna 'title' \n",
    "\n",
    "df_games['title'].notnull().sum()"
   ]
  },
  {
   "cell_type": "code",
   "execution_count": 17,
   "metadata": {},
   "outputs": [],
   "source": [
    "df_games.drop(['title'], axis=1, inplace=True)"
   ]
  },
  {
   "cell_type": "code",
   "execution_count": 19,
   "metadata": {},
   "outputs": [],
   "source": [
    "# Se crea el parquet necesario para las posteriores etapas\n",
    "df_games.to_parquet(r'E:\\Data Science\\PI1\\Datasets\\steam_games.parquet')"
   ]
  },
  {
   "cell_type": "markdown",
   "metadata": {},
   "source": [
    "## user_items"
   ]
  },
  {
   "cell_type": "code",
   "execution_count": 20,
   "metadata": {},
   "outputs": [],
   "source": [
    "data1 = []\n",
    "\n",
    "with gzip.open(r'E:\\Data Science\\PI1\\Datasets\\users_items.json.gz', 'rt', encoding='utf-8') as file:\n",
    "    for line in file:\n",
    "        try:\n",
    "            json_data = ast.literal_eval(line)\n",
    "            data1.append(json_data)\n",
    "        except ValueError as e:\n",
    "            print(f\"Error en la línea: {line}\")\n",
    "            continue\n",
    "\n",
    "df_users = pd.DataFrame(data1)"
   ]
  },
  {
   "cell_type": "code",
   "execution_count": 21,
   "metadata": {},
   "outputs": [
    {
     "data": {
      "text/html": [
       "<div>\n",
       "<style scoped>\n",
       "    .dataframe tbody tr th:only-of-type {\n",
       "        vertical-align: middle;\n",
       "    }\n",
       "\n",
       "    .dataframe tbody tr th {\n",
       "        vertical-align: top;\n",
       "    }\n",
       "\n",
       "    .dataframe thead th {\n",
       "        text-align: right;\n",
       "    }\n",
       "</style>\n",
       "<table border=\"1\" class=\"dataframe\">\n",
       "  <thead>\n",
       "    <tr style=\"text-align: right;\">\n",
       "      <th></th>\n",
       "      <th>user_id</th>\n",
       "      <th>items_count</th>\n",
       "      <th>steam_id</th>\n",
       "      <th>user_url</th>\n",
       "      <th>items</th>\n",
       "    </tr>\n",
       "  </thead>\n",
       "  <tbody>\n",
       "    <tr>\n",
       "      <th>0</th>\n",
       "      <td>76561197970982479</td>\n",
       "      <td>277</td>\n",
       "      <td>76561197970982479</td>\n",
       "      <td>http://steamcommunity.com/profiles/76561197970...</td>\n",
       "      <td>[{'item_id': '10', 'item_name': 'Counter-Strik...</td>\n",
       "    </tr>\n",
       "    <tr>\n",
       "      <th>1</th>\n",
       "      <td>js41637</td>\n",
       "      <td>888</td>\n",
       "      <td>76561198035864385</td>\n",
       "      <td>http://steamcommunity.com/id/js41637</td>\n",
       "      <td>[{'item_id': '10', 'item_name': 'Counter-Strik...</td>\n",
       "    </tr>\n",
       "    <tr>\n",
       "      <th>2</th>\n",
       "      <td>evcentric</td>\n",
       "      <td>137</td>\n",
       "      <td>76561198007712555</td>\n",
       "      <td>http://steamcommunity.com/id/evcentric</td>\n",
       "      <td>[{'item_id': '1200', 'item_name': 'Red Orchest...</td>\n",
       "    </tr>\n",
       "    <tr>\n",
       "      <th>3</th>\n",
       "      <td>Riot-Punch</td>\n",
       "      <td>328</td>\n",
       "      <td>76561197963445855</td>\n",
       "      <td>http://steamcommunity.com/id/Riot-Punch</td>\n",
       "      <td>[{'item_id': '10', 'item_name': 'Counter-Strik...</td>\n",
       "    </tr>\n",
       "    <tr>\n",
       "      <th>4</th>\n",
       "      <td>doctr</td>\n",
       "      <td>541</td>\n",
       "      <td>76561198002099482</td>\n",
       "      <td>http://steamcommunity.com/id/doctr</td>\n",
       "      <td>[{'item_id': '300', 'item_name': 'Day of Defea...</td>\n",
       "    </tr>\n",
       "    <tr>\n",
       "      <th>...</th>\n",
       "      <td>...</td>\n",
       "      <td>...</td>\n",
       "      <td>...</td>\n",
       "      <td>...</td>\n",
       "      <td>...</td>\n",
       "    </tr>\n",
       "    <tr>\n",
       "      <th>88305</th>\n",
       "      <td>76561198323066619</td>\n",
       "      <td>22</td>\n",
       "      <td>76561198323066619</td>\n",
       "      <td>http://steamcommunity.com/profiles/76561198323...</td>\n",
       "      <td>[{'item_id': '413850', 'item_name': 'CS:GO Pla...</td>\n",
       "    </tr>\n",
       "    <tr>\n",
       "      <th>88306</th>\n",
       "      <td>76561198326700687</td>\n",
       "      <td>177</td>\n",
       "      <td>76561198326700687</td>\n",
       "      <td>http://steamcommunity.com/profiles/76561198326...</td>\n",
       "      <td>[{'item_id': '11020', 'item_name': 'TrackMania...</td>\n",
       "    </tr>\n",
       "    <tr>\n",
       "      <th>88307</th>\n",
       "      <td>XxLaughingJackClown77xX</td>\n",
       "      <td>0</td>\n",
       "      <td>76561198328759259</td>\n",
       "      <td>http://steamcommunity.com/id/XxLaughingJackClo...</td>\n",
       "      <td>[]</td>\n",
       "    </tr>\n",
       "    <tr>\n",
       "      <th>88308</th>\n",
       "      <td>76561198329548331</td>\n",
       "      <td>7</td>\n",
       "      <td>76561198329548331</td>\n",
       "      <td>http://steamcommunity.com/profiles/76561198329...</td>\n",
       "      <td>[{'item_id': '304930', 'item_name': 'Unturned'...</td>\n",
       "    </tr>\n",
       "    <tr>\n",
       "      <th>88309</th>\n",
       "      <td>edward_tremethick</td>\n",
       "      <td>0</td>\n",
       "      <td>76561198331598578</td>\n",
       "      <td>http://steamcommunity.com/id/edward_tremethick</td>\n",
       "      <td>[]</td>\n",
       "    </tr>\n",
       "  </tbody>\n",
       "</table>\n",
       "<p>88310 rows × 5 columns</p>\n",
       "</div>"
      ],
      "text/plain": [
       "                       user_id  items_count           steam_id  \\\n",
       "0            76561197970982479          277  76561197970982479   \n",
       "1                      js41637          888  76561198035864385   \n",
       "2                    evcentric          137  76561198007712555   \n",
       "3                   Riot-Punch          328  76561197963445855   \n",
       "4                        doctr          541  76561198002099482   \n",
       "...                        ...          ...                ...   \n",
       "88305        76561198323066619           22  76561198323066619   \n",
       "88306        76561198326700687          177  76561198326700687   \n",
       "88307  XxLaughingJackClown77xX            0  76561198328759259   \n",
       "88308        76561198329548331            7  76561198329548331   \n",
       "88309        edward_tremethick            0  76561198331598578   \n",
       "\n",
       "                                                user_url  \\\n",
       "0      http://steamcommunity.com/profiles/76561197970...   \n",
       "1                   http://steamcommunity.com/id/js41637   \n",
       "2                 http://steamcommunity.com/id/evcentric   \n",
       "3                http://steamcommunity.com/id/Riot-Punch   \n",
       "4                     http://steamcommunity.com/id/doctr   \n",
       "...                                                  ...   \n",
       "88305  http://steamcommunity.com/profiles/76561198323...   \n",
       "88306  http://steamcommunity.com/profiles/76561198326...   \n",
       "88307  http://steamcommunity.com/id/XxLaughingJackClo...   \n",
       "88308  http://steamcommunity.com/profiles/76561198329...   \n",
       "88309     http://steamcommunity.com/id/edward_tremethick   \n",
       "\n",
       "                                                   items  \n",
       "0      [{'item_id': '10', 'item_name': 'Counter-Strik...  \n",
       "1      [{'item_id': '10', 'item_name': 'Counter-Strik...  \n",
       "2      [{'item_id': '1200', 'item_name': 'Red Orchest...  \n",
       "3      [{'item_id': '10', 'item_name': 'Counter-Strik...  \n",
       "4      [{'item_id': '300', 'item_name': 'Day of Defea...  \n",
       "...                                                  ...  \n",
       "88305  [{'item_id': '413850', 'item_name': 'CS:GO Pla...  \n",
       "88306  [{'item_id': '11020', 'item_name': 'TrackMania...  \n",
       "88307                                                 []  \n",
       "88308  [{'item_id': '304930', 'item_name': 'Unturned'...  \n",
       "88309                                                 []  \n",
       "\n",
       "[88310 rows x 5 columns]"
      ]
     },
     "execution_count": 21,
     "metadata": {},
     "output_type": "execute_result"
    }
   ],
   "source": [
    "df_users"
   ]
  },
  {
   "cell_type": "code",
   "execution_count": 22,
   "metadata": {},
   "outputs": [],
   "source": [
    "df_expandido=df_users.explode('items')"
   ]
  },
  {
   "cell_type": "code",
   "execution_count": 24,
   "metadata": {},
   "outputs": [],
   "source": [
    "df_descompuesto=pd.json_normalize(df_expandido['items'])"
   ]
  },
  {
   "cell_type": "code",
   "execution_count": 27,
   "metadata": {},
   "outputs": [],
   "source": [
    "#Se elimina las columnas que no se van a utilizar\n",
    "df_descompuesto.drop(['item_name','playtime_2weeks'],axis=1,inplace=True)"
   ]
  },
  {
   "cell_type": "code",
   "execution_count": 29,
   "metadata": {},
   "outputs": [],
   "source": [
    "df_final=pd.concat([df_expandido.reset_index(drop=True), df_descompuesto.reset_index(drop=True)], axis=1)"
   ]
  },
  {
   "cell_type": "code",
   "execution_count": 44,
   "metadata": {},
   "outputs": [],
   "source": [
    "df_user_items=df_final.drop('items', axis=1)"
   ]
  },
  {
   "cell_type": "code",
   "execution_count": 45,
   "metadata": {},
   "outputs": [],
   "source": [
    "df_user_items.drop(['steam_id','items_count','user_url'],axis=1,inplace=True)"
   ]
  },
  {
   "cell_type": "code",
   "execution_count": 47,
   "metadata": {},
   "outputs": [],
   "source": [
    "df_user_items.to_parquet(r'E:\\Data Science\\PI1\\Datasets\\users_items.parquet')"
   ]
  },
  {
   "cell_type": "markdown",
   "metadata": {},
   "source": [
    "## user_reviews"
   ]
  },
  {
   "cell_type": "code",
   "execution_count": 3,
   "metadata": {},
   "outputs": [],
   "source": [
    "data2=[]\n",
    "\n",
    "with gzip.open(r'E:\\Data Science\\PI1\\Datasets\\user_reviews.json.gz', 'rt', encoding='utf-8') as file:\n",
    "    for line in file:\n",
    "        try:\n",
    "            json_data = ast.literal_eval(line)\n",
    "            data2.append(json_data)\n",
    "        except ValueError as e:\n",
    "            print(f\"Error en la línea: {line}\")\n",
    "            continue\n",
    "\n",
    "df_reviews = pd.DataFrame(data2)"
   ]
  },
  {
   "cell_type": "code",
   "execution_count": 4,
   "metadata": {},
   "outputs": [],
   "source": [
    "df_reviews.drop('user_url',axis=1,inplace=True)\n"
   ]
  },
  {
   "cell_type": "code",
   "execution_count": 5,
   "metadata": {},
   "outputs": [],
   "source": [
    "df_expandido = df_reviews.explode('reviews')\n"
   ]
  },
  {
   "cell_type": "code",
   "execution_count": 6,
   "metadata": {},
   "outputs": [],
   "source": [
    "df_descompuesto = pd.json_normalize(df_expandido['reviews'])\n"
   ]
  },
  {
   "cell_type": "code",
   "execution_count": 7,
   "metadata": {},
   "outputs": [],
   "source": [
    "#Se eliminan las columnas que no van a ser útiles\n",
    "df_descompuesto.drop(['funny','posted','last_edited'], axis=1, inplace=True)"
   ]
  },
  {
   "cell_type": "code",
   "execution_count": 8,
   "metadata": {},
   "outputs": [],
   "source": [
    "df_final = pd.concat([df_expandido.reset_index(drop=True), df_descompuesto.reset_index(drop=True)], axis=1)"
   ]
  },
  {
   "cell_type": "code",
   "execution_count": 9,
   "metadata": {},
   "outputs": [],
   "source": [
    "df_user_reviews = df_final.drop('reviews', axis=1)"
   ]
  },
  {
   "cell_type": "code",
   "execution_count": 10,
   "metadata": {},
   "outputs": [],
   "source": [
    "#preprocesamiento de la columna 'review'\n",
    "import nltk\n",
    "from nltk.corpus import stopwords\n",
    "from nltk.tokenize import word_tokenize\n",
    "from nltk.stem import WordNetLemmatizer\n",
    "import string\n",
    "from textblob import TextBlob"
   ]
  },
  {
   "cell_type": "code",
   "execution_count": 11,
   "metadata": {},
   "outputs": [
    {
     "name": "stderr",
     "output_type": "stream",
     "text": [
      "[nltk_data] Downloading package punkt to\n",
      "[nltk_data]     C:\\Users\\juan\\AppData\\Roaming\\nltk_data...\n",
      "[nltk_data]   Package punkt is already up-to-date!\n",
      "[nltk_data] Downloading package wordnet to\n",
      "[nltk_data]     C:\\Users\\juan\\AppData\\Roaming\\nltk_data...\n",
      "[nltk_data]   Package wordnet is already up-to-date!\n",
      "[nltk_data] Downloading package stopwords to\n",
      "[nltk_data]     C:\\Users\\juan\\AppData\\Roaming\\nltk_data...\n",
      "[nltk_data]   Package stopwords is already up-to-date!\n"
     ]
    },
    {
     "data": {
      "text/plain": [
       "True"
      ]
     },
     "execution_count": 11,
     "metadata": {},
     "output_type": "execute_result"
    }
   ],
   "source": [
    "nltk.download('punkt')\n",
    "nltk.download('wordnet')\n",
    "nltk.download('stopwords')"
   ]
  },
  {
   "cell_type": "code",
   "execution_count": 12,
   "metadata": {},
   "outputs": [],
   "source": [
    "#Se define el lematizador y las stop words \n",
    "lemmatizer = WordNetLemmatizer()\n",
    "stop_words = set(stopwords.words('english'))"
   ]
  },
  {
   "cell_type": "code",
   "execution_count": 14,
   "metadata": {},
   "outputs": [],
   "source": [
    "#Se pasana a minúsculas todas las reviews en una nueva columna llamada 'prepocesed_review'\n",
    "df_user_reviews['preprocessed_review'] = df_user_reviews['review'].str.lower()\n",
    "\n",
    "df_user_reviews['preprocessed_review']=df_user_reviews['preprocessed_review'].astype(dtype='str')\n",
    "#Se eliminan los signos de puntuación\n",
    "df_user_reviews['preprocessed_review'] = df_user_reviews['preprocessed_review'].apply(lambda x: x.translate(str.maketrans('', '', string.punctuation)))\n",
    "\n",
    "# Se tokeniza la columna 'prepocesed_review'\n",
    "df_user_reviews['preprocessed_review']=df_user_reviews['preprocessed_review'].apply(word_tokenize)\n",
    "\n",
    "#se lematiza la columna 'preprocesed_review'para poder utilizarla en el análisis de sentimientos\n",
    "df_user_reviews['preprocessed_review']=df_user_reviews['preprocessed_review'].apply(lambda x: [lemmatizer.lemmatize(word) for word in x])"
   ]
  },
  {
   "cell_type": "code",
   "execution_count": 15,
   "metadata": {},
   "outputs": [],
   "source": [
    "#Preprocesamiento de datos\n",
    "def preprocess_review(review):\n",
    "    review = review.lower()\n",
    "    review = review.translate(str.maketrans('', '', string.punctuation))\n",
    "    review = word_tokenize(review)\n",
    "    review = [lemmatizer.lemmatize(word) for word in review]\n",
    "    return review"
   ]
  },
  {
   "cell_type": "code",
   "execution_count": 16,
   "metadata": {},
   "outputs": [],
   "source": [
    "df_user_reviews['preprocessed_review'] = df_user_reviews['review'].apply(lambda x: 1 if pd.isnull(x) else preprocess_review(x))"
   ]
  },
  {
   "cell_type": "code",
   "execution_count": 18,
   "metadata": {},
   "outputs": [],
   "source": [
    "#Análisis de sentimientos\n",
    "def sentiment_analysis(preprocess_review):\n",
    "    if preprocess_review==1:\n",
    "        return 1\n",
    "    else:\n",
    "        analysis = TextBlob(preprocess_review)\n",
    "        \n",
    "        return round(analysis.sentiment.polarity)+1"
   ]
  },
  {
   "cell_type": "code",
   "execution_count": 20,
   "metadata": {},
   "outputs": [
    {
     "data": {
      "text/plain": [
       "0        [simple, yet, with, great, replayability, in, ...\n",
       "1                 [it, unique, and, worth, a, playthrough]\n",
       "2        [great, atmosphere, the, gunplay, can, be, a, ...\n",
       "3        [i, know, what, you, think, when, you, see, th...\n",
       "4        [for, a, simple, it, actually, not, all, that,...\n",
       "                               ...                        \n",
       "59328    [a, must, have, classic, from, steam, definite...\n",
       "59329    [this, game, is, a, perfect, remake, of, the, ...\n",
       "59330    [had, so, much, fun, plaing, this, and, collec...\n",
       "59331                                                  [d]\n",
       "59332                                   [so, much, fun, d]\n",
       "Name: preprocessed_review, Length: 59333, dtype: object"
      ]
     },
     "execution_count": 20,
     "metadata": {},
     "output_type": "execute_result"
    }
   ],
   "source": [
    "df_user_reviews['preprocessed_review']"
   ]
  },
  {
   "cell_type": "code",
   "execution_count": 21,
   "metadata": {},
   "outputs": [],
   "source": [
    "#Se pasana a minúsculas todas las reviews en una nueva columna llamada 'prepocesed_review'\n",
    "df_user_reviews['preprocessed_review'] = df_user_reviews['review'].str.lower()\n",
    "\n",
    "df_user_reviews['preprocessed_review']=df_user_reviews['preprocessed_review'].astype(dtype='str')"
   ]
  },
  {
   "cell_type": "code",
   "execution_count": 22,
   "metadata": {},
   "outputs": [],
   "source": [
    "#Se aplica la función de análisis de sentimientos a la columna 'preprocessed_review' para generar la nueva columna sentiment\n",
    "df_user_reviews['sentiment'] = df_user_reviews['preprocessed_review'].apply(sentiment_analysis)"
   ]
  },
  {
   "cell_type": "code",
   "execution_count": 26,
   "metadata": {},
   "outputs": [
    {
     "data": {
      "text/html": [
       "<div>\n",
       "<style scoped>\n",
       "    .dataframe tbody tr th:only-of-type {\n",
       "        vertical-align: middle;\n",
       "    }\n",
       "\n",
       "    .dataframe tbody tr th {\n",
       "        vertical-align: top;\n",
       "    }\n",
       "\n",
       "    .dataframe thead th {\n",
       "        text-align: right;\n",
       "    }\n",
       "</style>\n",
       "<table border=\"1\" class=\"dataframe\">\n",
       "  <thead>\n",
       "    <tr style=\"text-align: right;\">\n",
       "      <th></th>\n",
       "      <th>user_id</th>\n",
       "      <th>item_id</th>\n",
       "      <th>helpful</th>\n",
       "      <th>recommend</th>\n",
       "      <th>review</th>\n",
       "      <th>preprocessed_review</th>\n",
       "      <th>sentiment</th>\n",
       "    </tr>\n",
       "  </thead>\n",
       "  <tbody>\n",
       "    <tr>\n",
       "      <th>0</th>\n",
       "      <td>76561197970982479</td>\n",
       "      <td>1250</td>\n",
       "      <td>No ratings yet</td>\n",
       "      <td>True</td>\n",
       "      <td>Simple yet with great replayability. In my opi...</td>\n",
       "      <td>simple yet with great replayability. in my opi...</td>\n",
       "      <td>1</td>\n",
       "    </tr>\n",
       "    <tr>\n",
       "      <th>1</th>\n",
       "      <td>76561197970982479</td>\n",
       "      <td>22200</td>\n",
       "      <td>No ratings yet</td>\n",
       "      <td>True</td>\n",
       "      <td>It's unique and worth a playthrough.</td>\n",
       "      <td>it's unique and worth a playthrough.</td>\n",
       "      <td>1</td>\n",
       "    </tr>\n",
       "    <tr>\n",
       "      <th>2</th>\n",
       "      <td>76561197970982479</td>\n",
       "      <td>43110</td>\n",
       "      <td>No ratings yet</td>\n",
       "      <td>True</td>\n",
       "      <td>Great atmosphere. The gunplay can be a bit chu...</td>\n",
       "      <td>great atmosphere. the gunplay can be a bit chu...</td>\n",
       "      <td>1</td>\n",
       "    </tr>\n",
       "    <tr>\n",
       "      <th>3</th>\n",
       "      <td>js41637</td>\n",
       "      <td>251610</td>\n",
       "      <td>15 of 20 people (75%) found this review helpful</td>\n",
       "      <td>True</td>\n",
       "      <td>I know what you think when you see this title ...</td>\n",
       "      <td>i know what you think when you see this title ...</td>\n",
       "      <td>1</td>\n",
       "    </tr>\n",
       "    <tr>\n",
       "      <th>4</th>\n",
       "      <td>js41637</td>\n",
       "      <td>227300</td>\n",
       "      <td>0 of 1 people (0%) found this review helpful</td>\n",
       "      <td>True</td>\n",
       "      <td>For a simple (it's actually not all that simpl...</td>\n",
       "      <td>for a simple (it's actually not all that simpl...</td>\n",
       "      <td>1</td>\n",
       "    </tr>\n",
       "    <tr>\n",
       "      <th>...</th>\n",
       "      <td>...</td>\n",
       "      <td>...</td>\n",
       "      <td>...</td>\n",
       "      <td>...</td>\n",
       "      <td>...</td>\n",
       "      <td>...</td>\n",
       "      <td>...</td>\n",
       "    </tr>\n",
       "    <tr>\n",
       "      <th>59328</th>\n",
       "      <td>76561198312638244</td>\n",
       "      <td>70</td>\n",
       "      <td>No ratings yet</td>\n",
       "      <td>True</td>\n",
       "      <td>a must have classic from steam definitely wort...</td>\n",
       "      <td>a must have classic from steam definitely wort...</td>\n",
       "      <td>1</td>\n",
       "    </tr>\n",
       "    <tr>\n",
       "      <th>59329</th>\n",
       "      <td>76561198312638244</td>\n",
       "      <td>362890</td>\n",
       "      <td>No ratings yet</td>\n",
       "      <td>True</td>\n",
       "      <td>this game is a perfect remake of the original ...</td>\n",
       "      <td>this game is a perfect remake of the original ...</td>\n",
       "      <td>1</td>\n",
       "    </tr>\n",
       "    <tr>\n",
       "      <th>59330</th>\n",
       "      <td>LydiaMorley</td>\n",
       "      <td>273110</td>\n",
       "      <td>1 of 2 people (50%) found this review helpful</td>\n",
       "      <td>True</td>\n",
       "      <td>had so much fun plaing this and collecting res...</td>\n",
       "      <td>had so much fun plaing this and collecting res...</td>\n",
       "      <td>1</td>\n",
       "    </tr>\n",
       "    <tr>\n",
       "      <th>59331</th>\n",
       "      <td>LydiaMorley</td>\n",
       "      <td>730</td>\n",
       "      <td>No ratings yet</td>\n",
       "      <td>True</td>\n",
       "      <td>:D</td>\n",
       "      <td>:d</td>\n",
       "      <td>1</td>\n",
       "    </tr>\n",
       "    <tr>\n",
       "      <th>59332</th>\n",
       "      <td>LydiaMorley</td>\n",
       "      <td>440</td>\n",
       "      <td>No ratings yet</td>\n",
       "      <td>True</td>\n",
       "      <td>so much fun :D</td>\n",
       "      <td>so much fun :d</td>\n",
       "      <td>1</td>\n",
       "    </tr>\n",
       "  </tbody>\n",
       "</table>\n",
       "<p>59333 rows × 7 columns</p>\n",
       "</div>"
      ],
      "text/plain": [
       "                 user_id item_id  \\\n",
       "0      76561197970982479    1250   \n",
       "1      76561197970982479   22200   \n",
       "2      76561197970982479   43110   \n",
       "3                js41637  251610   \n",
       "4                js41637  227300   \n",
       "...                  ...     ...   \n",
       "59328  76561198312638244      70   \n",
       "59329  76561198312638244  362890   \n",
       "59330        LydiaMorley  273110   \n",
       "59331        LydiaMorley     730   \n",
       "59332        LydiaMorley     440   \n",
       "\n",
       "                                               helpful recommend  \\\n",
       "0                                       No ratings yet      True   \n",
       "1                                       No ratings yet      True   \n",
       "2                                       No ratings yet      True   \n",
       "3      15 of 20 people (75%) found this review helpful      True   \n",
       "4         0 of 1 people (0%) found this review helpful      True   \n",
       "...                                                ...       ...   \n",
       "59328                                   No ratings yet      True   \n",
       "59329                                   No ratings yet      True   \n",
       "59330    1 of 2 people (50%) found this review helpful      True   \n",
       "59331                                   No ratings yet      True   \n",
       "59332                                   No ratings yet      True   \n",
       "\n",
       "                                                  review  \\\n",
       "0      Simple yet with great replayability. In my opi...   \n",
       "1                   It's unique and worth a playthrough.   \n",
       "2      Great atmosphere. The gunplay can be a bit chu...   \n",
       "3      I know what you think when you see this title ...   \n",
       "4      For a simple (it's actually not all that simpl...   \n",
       "...                                                  ...   \n",
       "59328  a must have classic from steam definitely wort...   \n",
       "59329  this game is a perfect remake of the original ...   \n",
       "59330  had so much fun plaing this and collecting res...   \n",
       "59331                                                 :D   \n",
       "59332                                     so much fun :D   \n",
       "\n",
       "                                     preprocessed_review  sentiment  \n",
       "0      simple yet with great replayability. in my opi...          1  \n",
       "1                   it's unique and worth a playthrough.          1  \n",
       "2      great atmosphere. the gunplay can be a bit chu...          1  \n",
       "3      i know what you think when you see this title ...          1  \n",
       "4      for a simple (it's actually not all that simpl...          1  \n",
       "...                                                  ...        ...  \n",
       "59328  a must have classic from steam definitely wort...          1  \n",
       "59329  this game is a perfect remake of the original ...          1  \n",
       "59330  had so much fun plaing this and collecting res...          1  \n",
       "59331                                                 :d          1  \n",
       "59332                                     so much fun :d          1  \n",
       "\n",
       "[59333 rows x 7 columns]"
      ]
     },
     "execution_count": 26,
     "metadata": {},
     "output_type": "execute_result"
    }
   ],
   "source": []
  },
  {
   "cell_type": "code",
   "execution_count": 33,
   "metadata": {},
   "outputs": [],
   "source": [
    "df_user_reviews.to_parquet('Datasets/user_reviews.parquet')\n"
   ]
  },
  {
   "cell_type": "code",
   "execution_count": 29,
   "metadata": {},
   "outputs": [
    {
     "data": {
      "text/html": [
       "<div>\n",
       "<style scoped>\n",
       "    .dataframe tbody tr th:only-of-type {\n",
       "        vertical-align: middle;\n",
       "    }\n",
       "\n",
       "    .dataframe tbody tr th {\n",
       "        vertical-align: top;\n",
       "    }\n",
       "\n",
       "    .dataframe thead th {\n",
       "        text-align: right;\n",
       "    }\n",
       "</style>\n",
       "<table border=\"1\" class=\"dataframe\">\n",
       "  <thead>\n",
       "    <tr style=\"text-align: right;\">\n",
       "      <th></th>\n",
       "      <th>user_id</th>\n",
       "      <th>item_id</th>\n",
       "      <th>helpful</th>\n",
       "      <th>recommend</th>\n",
       "      <th>review</th>\n",
       "      <th>preprocessed_review</th>\n",
       "      <th>sentiment</th>\n",
       "    </tr>\n",
       "  </thead>\n",
       "  <tbody>\n",
       "    <tr>\n",
       "      <th>0</th>\n",
       "      <td>76561197970982479</td>\n",
       "      <td>1250</td>\n",
       "      <td>No ratings yet</td>\n",
       "      <td>True</td>\n",
       "      <td>Simple yet with great replayability. In my opi...</td>\n",
       "      <td>simple yet with great replayability. in my opi...</td>\n",
       "      <td>1</td>\n",
       "    </tr>\n",
       "    <tr>\n",
       "      <th>1</th>\n",
       "      <td>76561197970982479</td>\n",
       "      <td>22200</td>\n",
       "      <td>No ratings yet</td>\n",
       "      <td>True</td>\n",
       "      <td>It's unique and worth a playthrough.</td>\n",
       "      <td>it's unique and worth a playthrough.</td>\n",
       "      <td>1</td>\n",
       "    </tr>\n",
       "    <tr>\n",
       "      <th>2</th>\n",
       "      <td>76561197970982479</td>\n",
       "      <td>43110</td>\n",
       "      <td>No ratings yet</td>\n",
       "      <td>True</td>\n",
       "      <td>Great atmosphere. The gunplay can be a bit chu...</td>\n",
       "      <td>great atmosphere. the gunplay can be a bit chu...</td>\n",
       "      <td>1</td>\n",
       "    </tr>\n",
       "    <tr>\n",
       "      <th>3</th>\n",
       "      <td>js41637</td>\n",
       "      <td>251610</td>\n",
       "      <td>15 of 20 people (75%) found this review helpful</td>\n",
       "      <td>True</td>\n",
       "      <td>I know what you think when you see this title ...</td>\n",
       "      <td>i know what you think when you see this title ...</td>\n",
       "      <td>1</td>\n",
       "    </tr>\n",
       "    <tr>\n",
       "      <th>4</th>\n",
       "      <td>js41637</td>\n",
       "      <td>227300</td>\n",
       "      <td>0 of 1 people (0%) found this review helpful</td>\n",
       "      <td>True</td>\n",
       "      <td>For a simple (it's actually not all that simpl...</td>\n",
       "      <td>for a simple (it's actually not all that simpl...</td>\n",
       "      <td>1</td>\n",
       "    </tr>\n",
       "    <tr>\n",
       "      <th>...</th>\n",
       "      <td>...</td>\n",
       "      <td>...</td>\n",
       "      <td>...</td>\n",
       "      <td>...</td>\n",
       "      <td>...</td>\n",
       "      <td>...</td>\n",
       "      <td>...</td>\n",
       "    </tr>\n",
       "    <tr>\n",
       "      <th>59328</th>\n",
       "      <td>76561198312638244</td>\n",
       "      <td>70</td>\n",
       "      <td>No ratings yet</td>\n",
       "      <td>True</td>\n",
       "      <td>a must have classic from steam definitely wort...</td>\n",
       "      <td>a must have classic from steam definitely wort...</td>\n",
       "      <td>1</td>\n",
       "    </tr>\n",
       "    <tr>\n",
       "      <th>59329</th>\n",
       "      <td>76561198312638244</td>\n",
       "      <td>362890</td>\n",
       "      <td>No ratings yet</td>\n",
       "      <td>True</td>\n",
       "      <td>this game is a perfect remake of the original ...</td>\n",
       "      <td>this game is a perfect remake of the original ...</td>\n",
       "      <td>1</td>\n",
       "    </tr>\n",
       "    <tr>\n",
       "      <th>59330</th>\n",
       "      <td>LydiaMorley</td>\n",
       "      <td>273110</td>\n",
       "      <td>1 of 2 people (50%) found this review helpful</td>\n",
       "      <td>True</td>\n",
       "      <td>had so much fun plaing this and collecting res...</td>\n",
       "      <td>had so much fun plaing this and collecting res...</td>\n",
       "      <td>1</td>\n",
       "    </tr>\n",
       "    <tr>\n",
       "      <th>59331</th>\n",
       "      <td>LydiaMorley</td>\n",
       "      <td>730</td>\n",
       "      <td>No ratings yet</td>\n",
       "      <td>True</td>\n",
       "      <td>:D</td>\n",
       "      <td>:d</td>\n",
       "      <td>1</td>\n",
       "    </tr>\n",
       "    <tr>\n",
       "      <th>59332</th>\n",
       "      <td>LydiaMorley</td>\n",
       "      <td>440</td>\n",
       "      <td>No ratings yet</td>\n",
       "      <td>True</td>\n",
       "      <td>so much fun :D</td>\n",
       "      <td>so much fun :d</td>\n",
       "      <td>1</td>\n",
       "    </tr>\n",
       "  </tbody>\n",
       "</table>\n",
       "<p>59333 rows × 7 columns</p>\n",
       "</div>"
      ],
      "text/plain": [
       "                 user_id item_id  \\\n",
       "0      76561197970982479    1250   \n",
       "1      76561197970982479   22200   \n",
       "2      76561197970982479   43110   \n",
       "3                js41637  251610   \n",
       "4                js41637  227300   \n",
       "...                  ...     ...   \n",
       "59328  76561198312638244      70   \n",
       "59329  76561198312638244  362890   \n",
       "59330        LydiaMorley  273110   \n",
       "59331        LydiaMorley     730   \n",
       "59332        LydiaMorley     440   \n",
       "\n",
       "                                               helpful recommend  \\\n",
       "0                                       No ratings yet      True   \n",
       "1                                       No ratings yet      True   \n",
       "2                                       No ratings yet      True   \n",
       "3      15 of 20 people (75%) found this review helpful      True   \n",
       "4         0 of 1 people (0%) found this review helpful      True   \n",
       "...                                                ...       ...   \n",
       "59328                                   No ratings yet      True   \n",
       "59329                                   No ratings yet      True   \n",
       "59330    1 of 2 people (50%) found this review helpful      True   \n",
       "59331                                   No ratings yet      True   \n",
       "59332                                   No ratings yet      True   \n",
       "\n",
       "                                                  review  \\\n",
       "0      Simple yet with great replayability. In my opi...   \n",
       "1                   It's unique and worth a playthrough.   \n",
       "2      Great atmosphere. The gunplay can be a bit chu...   \n",
       "3      I know what you think when you see this title ...   \n",
       "4      For a simple (it's actually not all that simpl...   \n",
       "...                                                  ...   \n",
       "59328  a must have classic from steam definitely wort...   \n",
       "59329  this game is a perfect remake of the original ...   \n",
       "59330  had so much fun plaing this and collecting res...   \n",
       "59331                                                 :D   \n",
       "59332                                     so much fun :D   \n",
       "\n",
       "                                     preprocessed_review  sentiment  \n",
       "0      simple yet with great replayability. in my opi...          1  \n",
       "1                   it's unique and worth a playthrough.          1  \n",
       "2      great atmosphere. the gunplay can be a bit chu...          1  \n",
       "3      i know what you think when you see this title ...          1  \n",
       "4      for a simple (it's actually not all that simpl...          1  \n",
       "...                                                  ...        ...  \n",
       "59328  a must have classic from steam definitely wort...          1  \n",
       "59329  this game is a perfect remake of the original ...          1  \n",
       "59330  had so much fun plaing this and collecting res...          1  \n",
       "59331                                                 :d          1  \n",
       "59332                                     so much fun :d          1  \n",
       "\n",
       "[59333 rows x 7 columns]"
      ]
     },
     "execution_count": 29,
     "metadata": {},
     "output_type": "execute_result"
    }
   ],
   "source": [
    "df_prueba_reviews = pd.read_parquet(r'E:\\Data Science\\PI1\\Datasets\\user_reviews.parquet')\n",
    "df_prueba_reviews"
   ]
  }
 ],
 "metadata": {
  "kernelspec": {
   "display_name": "Python 3",
   "language": "python",
   "name": "python3"
  },
  "language_info": {
   "codemirror_mode": {
    "name": "ipython",
    "version": 3
   },
   "file_extension": ".py",
   "mimetype": "text/x-python",
   "name": "python",
   "nbconvert_exporter": "python",
   "pygments_lexer": "ipython3",
   "version": "3.12.1"
  }
 },
 "nbformat": 4,
 "nbformat_minor": 2
}
