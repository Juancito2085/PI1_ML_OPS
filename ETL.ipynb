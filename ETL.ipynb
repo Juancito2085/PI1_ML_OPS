{
 "cells": [
  {
   "cell_type": "markdown",
   "metadata": {},
   "source": [
    "# ETL"
   ]
  },
  {
   "cell_type": "code",
   "execution_count": 1,
   "metadata": {},
   "outputs": [],
   "source": [
    "import pandas as pd\n",
    "import numpy as np\n",
    "import gzip\n",
    "import json\n",
    "import re\n",
    "import ast"
   ]
  },
  {
   "cell_type": "markdown",
   "metadata": {},
   "source": [
    "## steam_games.json.gz"
   ]
  },
  {
   "cell_type": "code",
   "execution_count": 142,
   "metadata": {},
   "outputs": [],
   "source": [
    "with gzip.open(r'E:\\Data Science\\PI1\\Datasets\\steam_games.json.gz','rt',encoding='utf-8') as f:\n",
    "    df_games= pd.read_json(f, lines=True)\n"
   ]
  },
  {
   "cell_type": "code",
   "execution_count": 143,
   "metadata": {},
   "outputs": [
    {
     "name": "stdout",
     "output_type": "stream",
     "text": [
      "<class 'pandas.core.frame.DataFrame'>\n",
      "RangeIndex: 120445 entries, 0 to 120444\n",
      "Data columns (total 13 columns):\n",
      " #   Column        Non-Null Count  Dtype  \n",
      "---  ------        --------------  -----  \n",
      " 0   publisher     24083 non-null  object \n",
      " 1   genres        28852 non-null  object \n",
      " 2   app_name      32133 non-null  object \n",
      " 3   title         30085 non-null  object \n",
      " 4   url           32135 non-null  object \n",
      " 5   release_date  30068 non-null  object \n",
      " 6   tags          31972 non-null  object \n",
      " 7   reviews_url   32133 non-null  object \n",
      " 8   specs         31465 non-null  object \n",
      " 9   price         30758 non-null  object \n",
      " 10  early_access  32135 non-null  float64\n",
      " 11  id            32133 non-null  float64\n",
      " 12  developer     28836 non-null  object \n",
      "dtypes: float64(2), object(11)\n",
      "memory usage: 11.9+ MB\n"
     ]
    }
   ],
   "source": [
    "df_games.info()"
   ]
  },
  {
   "cell_type": "code",
   "execution_count": 144,
   "metadata": {},
   "outputs": [],
   "source": [
    "#Se eliminan todas las filas que tienen valores nulos\n",
    "df_games.dropna(inplace=True)"
   ]
  },
  {
   "cell_type": "code",
   "execution_count": 145,
   "metadata": {},
   "outputs": [
    {
     "data": {
      "text/plain": [
       "publisher       0\n",
       "genres          0\n",
       "app_name        0\n",
       "title           0\n",
       "url             0\n",
       "release_date    0\n",
       "tags            0\n",
       "reviews_url     0\n",
       "specs           0\n",
       "price           0\n",
       "early_access    0\n",
       "id              0\n",
       "developer       0\n",
       "dtype: int64"
      ]
     },
     "execution_count": 145,
     "metadata": {},
     "output_type": "execute_result"
    }
   ],
   "source": [
    "#Se revisan los valores nulos\n",
    "df_games.isnull().sum()"
   ]
  },
  {
   "cell_type": "code",
   "execution_count": 146,
   "metadata": {},
   "outputs": [
    {
     "data": {
      "text/plain": [
       "Index(['publisher', 'genres', 'app_name', 'title', 'url', 'release_date',\n",
       "       'tags', 'reviews_url', 'specs', 'price', 'early_access', 'id',\n",
       "       'developer'],\n",
       "      dtype='object')"
      ]
     },
     "execution_count": 146,
     "metadata": {},
     "output_type": "execute_result"
    }
   ],
   "source": [
    "#Vemos las columnas que tenemos para ver cuales van a ser utiles\n",
    "df_games.columns"
   ]
  },
  {
   "cell_type": "code",
   "execution_count": 147,
   "metadata": {},
   "outputs": [],
   "source": [
    "#Se eleiminan las columnas que no se van a utilizar \n",
    "df_games.drop(['url', 'publisher', 'reviews_url','specs', 'early_access'], axis=1, inplace=True)"
   ]
  },
  {
   "cell_type": "code",
   "execution_count": 148,
   "metadata": {},
   "outputs": [
    {
     "data": {
      "text/plain": [
       "22179"
      ]
     },
     "execution_count": 148,
     "metadata": {},
     "output_type": "execute_result"
    }
   ],
   "source": [
    "#Se comparan los valores de las columnas 'title' y 'app_name' para ver si son iguales\n",
    "(df_games['title']==df_games['app_name']).sum()"
   ]
  },
  {
   "cell_type": "code",
   "execution_count": 149,
   "metadata": {},
   "outputs": [
    {
     "data": {
      "text/plain": [
       "22530"
      ]
     },
     "execution_count": 149,
     "metadata": {},
     "output_type": "execute_result"
    }
   ],
   "source": [
    "#Debido a que la mayoría de los titulos son iguales a los nombres de las apps, se decide eliminar la columna 'title' \n",
    "\n",
    "df_games['title'].notnull().sum()"
   ]
  },
  {
   "cell_type": "code",
   "execution_count": 150,
   "metadata": {},
   "outputs": [],
   "source": [
    "df_games.drop(['title'], axis=1, inplace=True)"
   ]
  },
  {
   "cell_type": "code",
   "execution_count": 151,
   "metadata": {},
   "outputs": [],
   "source": [
    "#Cambiar el tipo de dato de las columnas para poder trabajar luego\n",
    "df_games['id']=df_games['id'].astype(dtype='int64')\n"
   ]
  },
  {
   "cell_type": "code",
   "execution_count": 152,
   "metadata": {},
   "outputs": [],
   "source": [
    "df_games['price'] = df_games['price'].apply(lambda x: 0 if isinstance(x, str) else x)"
   ]
  },
  {
   "cell_type": "code",
   "execution_count": 153,
   "metadata": {},
   "outputs": [
    {
     "name": "stdout",
     "output_type": "stream",
     "text": [
      "price\n",
      "<class 'float'>    22530\n",
      "Name: count, dtype: int64\n"
     ]
    }
   ],
   "source": [
    "#Verificamos que no haya mas strings en la columna 'price' para poder cambiar el tipo de dato\n",
    "type_counts = df_games['price'].apply(type).value_counts()\n",
    "\n",
    "print(type_counts)"
   ]
  },
  {
   "cell_type": "code",
   "execution_count": 154,
   "metadata": {},
   "outputs": [],
   "source": [
    "#Se cambia el tipo de dato de la columna 'price' a float64\n",
    "df_games['price']=df_games['price'].astype(dtype='float64')"
   ]
  },
  {
   "cell_type": "code",
   "execution_count": 155,
   "metadata": {},
   "outputs": [
    {
     "name": "stdout",
     "output_type": "stream",
     "text": [
      "release_date\n",
      "<class 'str'>    22530\n",
      "Name: count, dtype: int64\n"
     ]
    }
   ],
   "source": [
    "#se verifica los tipos de datos dentro de la columna fecha de lanzamiento\n",
    "type_counts = df_games['release_date'].apply(type).value_counts()\n",
    "\n",
    "print(type_counts)"
   ]
  },
  {
   "cell_type": "code",
   "execution_count": 158,
   "metadata": {},
   "outputs": [],
   "source": [
    "#Elimino los valores SOON y SOON™ de la columna 'release_date' que son juegos que están por salir\n",
    "# Creao una lista con los valores a eliminar\n",
    "valores = ['SOON', 'SOON™']\n",
    "\n",
    "# Eliminar las filas donde 'release_date' es 'SOON' o 'SOON™'\n",
    "df_games = df_games[~df_games['release_date'].isin(valores)]"
   ]
  },
  {
   "cell_type": "code",
   "execution_count": 160,
   "metadata": {},
   "outputs": [],
   "source": [
    "import re\n",
    "\n",
    "def extract_four_numbers(s):\n",
    "    if re.match('^\\\\d{4}', s):\n",
    "        return s[:4]  \n",
    "    else:\n",
    "        return s[-4:]  \n",
    "\n",
    "# Aplica la función a la columna 'release_date' y crea una nueva columna 'release_year'\n",
    "df_games['release_year'] = df_games['release_date'].apply(extract_four_numbers)\n"
   ]
  },
  {
   "cell_type": "code",
   "execution_count": 164,
   "metadata": {},
   "outputs": [],
   "source": [
    "df_games=df_games.drop(['release_date'], axis=1)\n"
   ]
  },
  {
   "cell_type": "code",
   "execution_count": 169,
   "metadata": {},
   "outputs": [],
   "source": [
    "df_games['app_name'] = df_games['app_name'].apply(lambda x: x.title() if isinstance(x, str) else x)"
   ]
  },
  {
   "cell_type": "code",
   "execution_count": 170,
   "metadata": {},
   "outputs": [
    {
     "data": {
      "text/html": [
       "<div>\n",
       "<style scoped>\n",
       "    .dataframe tbody tr th:only-of-type {\n",
       "        vertical-align: middle;\n",
       "    }\n",
       "\n",
       "    .dataframe tbody tr th {\n",
       "        vertical-align: top;\n",
       "    }\n",
       "\n",
       "    .dataframe thead th {\n",
       "        text-align: right;\n",
       "    }\n",
       "</style>\n",
       "<table border=\"1\" class=\"dataframe\">\n",
       "  <thead>\n",
       "    <tr style=\"text-align: right;\">\n",
       "      <th></th>\n",
       "      <th>genres</th>\n",
       "      <th>app_name</th>\n",
       "      <th>tags</th>\n",
       "      <th>price</th>\n",
       "      <th>id</th>\n",
       "      <th>developer</th>\n",
       "      <th>release_year</th>\n",
       "    </tr>\n",
       "  </thead>\n",
       "  <tbody>\n",
       "    <tr>\n",
       "      <th>88310</th>\n",
       "      <td>[Action, Casual, Indie, Simulation, Strategy]</td>\n",
       "      <td>Lost Summoner Kitty</td>\n",
       "      <td>[Strategy, Action, Indie, Casual, Simulation]</td>\n",
       "      <td>4.99</td>\n",
       "      <td>761140</td>\n",
       "      <td>Kotoshiro</td>\n",
       "      <td>2018</td>\n",
       "    </tr>\n",
       "    <tr>\n",
       "      <th>88311</th>\n",
       "      <td>[Free to Play, Indie, RPG, Strategy]</td>\n",
       "      <td>Ironbound</td>\n",
       "      <td>[Free to Play, Strategy, Indie, RPG, Card Game...</td>\n",
       "      <td>0.00</td>\n",
       "      <td>643980</td>\n",
       "      <td>Secret Level SRL</td>\n",
       "      <td>2018</td>\n",
       "    </tr>\n",
       "    <tr>\n",
       "      <th>88312</th>\n",
       "      <td>[Casual, Free to Play, Indie, Simulation, Sports]</td>\n",
       "      <td>Real Pool 3D - Poolians</td>\n",
       "      <td>[Free to Play, Simulation, Sports, Casual, Ind...</td>\n",
       "      <td>0.00</td>\n",
       "      <td>670290</td>\n",
       "      <td>Poolians.com</td>\n",
       "      <td>2017</td>\n",
       "    </tr>\n",
       "    <tr>\n",
       "      <th>88313</th>\n",
       "      <td>[Action, Adventure, Casual]</td>\n",
       "      <td>弹炸人2222</td>\n",
       "      <td>[Action, Adventure, Casual]</td>\n",
       "      <td>0.99</td>\n",
       "      <td>767400</td>\n",
       "      <td>彼岸领域</td>\n",
       "      <td>2017</td>\n",
       "    </tr>\n",
       "    <tr>\n",
       "      <th>88315</th>\n",
       "      <td>[Action, Adventure, Simulation]</td>\n",
       "      <td>Battle Royale Trainer</td>\n",
       "      <td>[Action, Adventure, Simulation, FPS, Shooter, ...</td>\n",
       "      <td>3.99</td>\n",
       "      <td>772540</td>\n",
       "      <td>Trickjump Games Ltd</td>\n",
       "      <td>2018</td>\n",
       "    </tr>\n",
       "    <tr>\n",
       "      <th>...</th>\n",
       "      <td>...</td>\n",
       "      <td>...</td>\n",
       "      <td>...</td>\n",
       "      <td>...</td>\n",
       "      <td>...</td>\n",
       "      <td>...</td>\n",
       "      <td>...</td>\n",
       "    </tr>\n",
       "    <tr>\n",
       "      <th>120439</th>\n",
       "      <td>[Action, Adventure, Casual, Indie]</td>\n",
       "      <td>Kebab It Up!</td>\n",
       "      <td>[Action, Indie, Casual, Violent, Adventure]</td>\n",
       "      <td>1.99</td>\n",
       "      <td>745400</td>\n",
       "      <td>Bidoniera Games</td>\n",
       "      <td>2018</td>\n",
       "    </tr>\n",
       "    <tr>\n",
       "      <th>120440</th>\n",
       "      <td>[Casual, Indie, Simulation, Strategy]</td>\n",
       "      <td>Colony On Mars</td>\n",
       "      <td>[Strategy, Indie, Casual, Simulation]</td>\n",
       "      <td>1.99</td>\n",
       "      <td>773640</td>\n",
       "      <td>Nikita \"Ghost_RUS\"</td>\n",
       "      <td>2018</td>\n",
       "    </tr>\n",
       "    <tr>\n",
       "      <th>120441</th>\n",
       "      <td>[Casual, Indie, Strategy]</td>\n",
       "      <td>Logistical: South Africa</td>\n",
       "      <td>[Strategy, Indie, Casual]</td>\n",
       "      <td>4.99</td>\n",
       "      <td>733530</td>\n",
       "      <td>Sacada</td>\n",
       "      <td>2018</td>\n",
       "    </tr>\n",
       "    <tr>\n",
       "      <th>120442</th>\n",
       "      <td>[Indie, Racing, Simulation]</td>\n",
       "      <td>Russian Roads</td>\n",
       "      <td>[Indie, Simulation, Racing]</td>\n",
       "      <td>1.99</td>\n",
       "      <td>610660</td>\n",
       "      <td>Laush Dmitriy Sergeevich</td>\n",
       "      <td>2018</td>\n",
       "    </tr>\n",
       "    <tr>\n",
       "      <th>120443</th>\n",
       "      <td>[Casual, Indie]</td>\n",
       "      <td>Exit 2 - Directions</td>\n",
       "      <td>[Indie, Casual, Puzzle, Singleplayer, Atmosphe...</td>\n",
       "      <td>4.99</td>\n",
       "      <td>658870</td>\n",
       "      <td>xropi,stev3ns</td>\n",
       "      <td>2017</td>\n",
       "    </tr>\n",
       "  </tbody>\n",
       "</table>\n",
       "<p>22528 rows × 7 columns</p>\n",
       "</div>"
      ],
      "text/plain": [
       "                                                   genres  \\\n",
       "88310       [Action, Casual, Indie, Simulation, Strategy]   \n",
       "88311                [Free to Play, Indie, RPG, Strategy]   \n",
       "88312   [Casual, Free to Play, Indie, Simulation, Sports]   \n",
       "88313                         [Action, Adventure, Casual]   \n",
       "88315                     [Action, Adventure, Simulation]   \n",
       "...                                                   ...   \n",
       "120439                 [Action, Adventure, Casual, Indie]   \n",
       "120440              [Casual, Indie, Simulation, Strategy]   \n",
       "120441                          [Casual, Indie, Strategy]   \n",
       "120442                        [Indie, Racing, Simulation]   \n",
       "120443                                    [Casual, Indie]   \n",
       "\n",
       "                        app_name  \\\n",
       "88310        Lost Summoner Kitty   \n",
       "88311                  Ironbound   \n",
       "88312    Real Pool 3D - Poolians   \n",
       "88313                    弹炸人2222   \n",
       "88315      Battle Royale Trainer   \n",
       "...                          ...   \n",
       "120439              Kebab It Up!   \n",
       "120440            Colony On Mars   \n",
       "120441  Logistical: South Africa   \n",
       "120442             Russian Roads   \n",
       "120443       Exit 2 - Directions   \n",
       "\n",
       "                                                     tags  price      id  \\\n",
       "88310       [Strategy, Action, Indie, Casual, Simulation]   4.99  761140   \n",
       "88311   [Free to Play, Strategy, Indie, RPG, Card Game...   0.00  643980   \n",
       "88312   [Free to Play, Simulation, Sports, Casual, Ind...   0.00  670290   \n",
       "88313                         [Action, Adventure, Casual]   0.99  767400   \n",
       "88315   [Action, Adventure, Simulation, FPS, Shooter, ...   3.99  772540   \n",
       "...                                                   ...    ...     ...   \n",
       "120439        [Action, Indie, Casual, Violent, Adventure]   1.99  745400   \n",
       "120440              [Strategy, Indie, Casual, Simulation]   1.99  773640   \n",
       "120441                          [Strategy, Indie, Casual]   4.99  733530   \n",
       "120442                        [Indie, Simulation, Racing]   1.99  610660   \n",
       "120443  [Indie, Casual, Puzzle, Singleplayer, Atmosphe...   4.99  658870   \n",
       "\n",
       "                       developer release_year  \n",
       "88310                  Kotoshiro         2018  \n",
       "88311           Secret Level SRL         2018  \n",
       "88312               Poolians.com         2017  \n",
       "88313                       彼岸领域         2017  \n",
       "88315        Trickjump Games Ltd         2018  \n",
       "...                          ...          ...  \n",
       "120439           Bidoniera Games         2018  \n",
       "120440        Nikita \"Ghost_RUS\"         2018  \n",
       "120441                    Sacada         2018  \n",
       "120442  Laush Dmitriy Sergeevich         2018  \n",
       "120443             xropi,stev3ns         2017  \n",
       "\n",
       "[22528 rows x 7 columns]"
      ]
     },
     "execution_count": 170,
     "metadata": {},
     "output_type": "execute_result"
    }
   ],
   "source": [
    "df_games"
   ]
  },
  {
   "cell_type": "code",
   "execution_count": 171,
   "metadata": {},
   "outputs": [],
   "source": [
    "# Se crea el parquet necesario para las posteriores etapas\n",
    "df_games.to_parquet(r'Datasets\\steam_games.parquet')"
   ]
  },
  {
   "cell_type": "markdown",
   "metadata": {},
   "source": [
    "## user_items"
   ]
  },
  {
   "cell_type": "code",
   "execution_count": 113,
   "metadata": {},
   "outputs": [],
   "source": [
    "data1 = []\n",
    "\n",
    "with gzip.open(r'E:\\Data Science\\PI1\\Datasets\\users_items.json.gz', 'rt', encoding='utf-8') as file:\n",
    "    for line in file:\n",
    "        try:\n",
    "            json_data = ast.literal_eval(line)\n",
    "            data1.append(json_data)\n",
    "        except ValueError as e:\n",
    "            print(f\"Error en la línea: {line}\")\n",
    "            continue\n",
    "\n",
    "df_users = pd.DataFrame(data1)"
   ]
  },
  {
   "cell_type": "code",
   "execution_count": 193,
   "metadata": {},
   "outputs": [],
   "source": [
    "#Se expnade el json que esta en la columna 'items'\n",
    "df_expandido=df_users.explode('items')"
   ]
  },
  {
   "cell_type": "code",
   "execution_count": 194,
   "metadata": {},
   "outputs": [],
   "source": [
    "#Se normaliza ese dataframe\n",
    "df_descompuesto=pd.json_normalize(df_expandido['items'])"
   ]
  },
  {
   "cell_type": "code",
   "execution_count": 195,
   "metadata": {},
   "outputs": [],
   "source": [
    "#Se elimina las columnas que no se van a utilizar\n",
    "df_descompuesto.drop(['item_name','playtime_2weeks'],axis=1,inplace=True)"
   ]
  },
  {
   "cell_type": "code",
   "execution_count": 196,
   "metadata": {},
   "outputs": [],
   "source": [
    "#Se unen los dos dataframes anteriores\n",
    "df_final=pd.concat([df_expandido.reset_index(drop=True), df_descompuesto.reset_index(drop=True)], axis=1)"
   ]
  },
  {
   "cell_type": "code",
   "execution_count": 197,
   "metadata": {},
   "outputs": [],
   "source": [
    "#Se elimina la columna que se expandió\n",
    "df_user_items=df_final.drop('items', axis=1)"
   ]
  },
  {
   "cell_type": "code",
   "execution_count": 198,
   "metadata": {},
   "outputs": [],
   "source": [
    "df_user_items.drop(['steam_id','user_url'],axis=1,inplace=True)"
   ]
  },
  {
   "cell_type": "code",
   "execution_count": 200,
   "metadata": {},
   "outputs": [],
   "source": [
    "df_user_items=df_user_items.dropna()"
   ]
  },
  {
   "cell_type": "code",
   "execution_count": 201,
   "metadata": {},
   "outputs": [
    {
     "name": "stdout",
     "output_type": "stream",
     "text": [
      "<class 'pandas.core.frame.DataFrame'>\n",
      "Index: 5153209 entries, 0 to 5170013\n",
      "Data columns (total 4 columns):\n",
      " #   Column            Dtype  \n",
      "---  ------            -----  \n",
      " 0   user_id           object \n",
      " 1   items_count       int64  \n",
      " 2   item_id           object \n",
      " 3   playtime_forever  float64\n",
      "dtypes: float64(1), int64(1), object(2)\n",
      "memory usage: 196.6+ MB\n"
     ]
    }
   ],
   "source": [
    "df_user_items.info()"
   ]
  },
  {
   "cell_type": "code",
   "execution_count": 208,
   "metadata": {},
   "outputs": [],
   "source": [
    "df_user_items['item_id']=df_user_items['item_id'].astype(dtype='int64')"
   ]
  },
  {
   "cell_type": "code",
   "execution_count": 209,
   "metadata": {},
   "outputs": [
    {
     "data": {
      "text/plain": [
       "user_id             0\n",
       "items_count         0\n",
       "item_id             0\n",
       "playtime_forever    0\n",
       "dtype: int64"
      ]
     },
     "execution_count": 209,
     "metadata": {},
     "output_type": "execute_result"
    }
   ],
   "source": [
    "#Se verifican valores faltantes\n",
    "df_user_items.isnull().sum()"
   ]
  },
  {
   "cell_type": "code",
   "execution_count": 212,
   "metadata": {},
   "outputs": [
    {
     "data": {
      "text/html": [
       "<div>\n",
       "<style scoped>\n",
       "    .dataframe tbody tr th:only-of-type {\n",
       "        vertical-align: middle;\n",
       "    }\n",
       "\n",
       "    .dataframe tbody tr th {\n",
       "        vertical-align: top;\n",
       "    }\n",
       "\n",
       "    .dataframe thead th {\n",
       "        text-align: right;\n",
       "    }\n",
       "</style>\n",
       "<table border=\"1\" class=\"dataframe\">\n",
       "  <thead>\n",
       "    <tr style=\"text-align: right;\">\n",
       "      <th></th>\n",
       "      <th>user_id</th>\n",
       "      <th>items_count</th>\n",
       "      <th>item_id</th>\n",
       "      <th>playtime_forever</th>\n",
       "    </tr>\n",
       "  </thead>\n",
       "  <tbody>\n",
       "    <tr>\n",
       "      <th>0</th>\n",
       "      <td>76561197970982479</td>\n",
       "      <td>277</td>\n",
       "      <td>10</td>\n",
       "      <td>6.0</td>\n",
       "    </tr>\n",
       "    <tr>\n",
       "      <th>1</th>\n",
       "      <td>76561197970982479</td>\n",
       "      <td>277</td>\n",
       "      <td>20</td>\n",
       "      <td>0.0</td>\n",
       "    </tr>\n",
       "    <tr>\n",
       "      <th>2</th>\n",
       "      <td>76561197970982479</td>\n",
       "      <td>277</td>\n",
       "      <td>30</td>\n",
       "      <td>7.0</td>\n",
       "    </tr>\n",
       "    <tr>\n",
       "      <th>3</th>\n",
       "      <td>76561197970982479</td>\n",
       "      <td>277</td>\n",
       "      <td>40</td>\n",
       "      <td>0.0</td>\n",
       "    </tr>\n",
       "    <tr>\n",
       "      <th>4</th>\n",
       "      <td>76561197970982479</td>\n",
       "      <td>277</td>\n",
       "      <td>50</td>\n",
       "      <td>0.0</td>\n",
       "    </tr>\n",
       "    <tr>\n",
       "      <th>...</th>\n",
       "      <td>...</td>\n",
       "      <td>...</td>\n",
       "      <td>...</td>\n",
       "      <td>...</td>\n",
       "    </tr>\n",
       "    <tr>\n",
       "      <th>5170009</th>\n",
       "      <td>76561198329548331</td>\n",
       "      <td>7</td>\n",
       "      <td>346330</td>\n",
       "      <td>0.0</td>\n",
       "    </tr>\n",
       "    <tr>\n",
       "      <th>5170010</th>\n",
       "      <td>76561198329548331</td>\n",
       "      <td>7</td>\n",
       "      <td>373330</td>\n",
       "      <td>0.0</td>\n",
       "    </tr>\n",
       "    <tr>\n",
       "      <th>5170011</th>\n",
       "      <td>76561198329548331</td>\n",
       "      <td>7</td>\n",
       "      <td>388490</td>\n",
       "      <td>3.0</td>\n",
       "    </tr>\n",
       "    <tr>\n",
       "      <th>5170012</th>\n",
       "      <td>76561198329548331</td>\n",
       "      <td>7</td>\n",
       "      <td>521570</td>\n",
       "      <td>4.0</td>\n",
       "    </tr>\n",
       "    <tr>\n",
       "      <th>5170013</th>\n",
       "      <td>76561198329548331</td>\n",
       "      <td>7</td>\n",
       "      <td>519140</td>\n",
       "      <td>3.0</td>\n",
       "    </tr>\n",
       "  </tbody>\n",
       "</table>\n",
       "<p>5153209 rows × 4 columns</p>\n",
       "</div>"
      ],
      "text/plain": [
       "                   user_id  items_count  item_id  playtime_forever\n",
       "0        76561197970982479          277       10               6.0\n",
       "1        76561197970982479          277       20               0.0\n",
       "2        76561197970982479          277       30               7.0\n",
       "3        76561197970982479          277       40               0.0\n",
       "4        76561197970982479          277       50               0.0\n",
       "...                    ...          ...      ...               ...\n",
       "5170009  76561198329548331            7   346330               0.0\n",
       "5170010  76561198329548331            7   373330               0.0\n",
       "5170011  76561198329548331            7   388490               3.0\n",
       "5170012  76561198329548331            7   521570               4.0\n",
       "5170013  76561198329548331            7   519140               3.0\n",
       "\n",
       "[5153209 rows x 4 columns]"
      ]
     },
     "execution_count": 212,
     "metadata": {},
     "output_type": "execute_result"
    }
   ],
   "source": [
    "df_user_items\n"
   ]
  },
  {
   "cell_type": "code",
   "execution_count": 210,
   "metadata": {},
   "outputs": [],
   "source": [
    "df_user_items.to_parquet(r'Datasets\\users_items.parquet')"
   ]
  },
  {
   "cell_type": "markdown",
   "metadata": {},
   "source": [
    "Se resamplea este dataset para que no haya problemas en el deploy por lo se revisan valores atípicos en las horas de juego"
   ]
  },
  {
   "cell_type": "code",
   "execution_count": 260,
   "metadata": {},
   "outputs": [],
   "source": [
    "df_user_items_sample=df_user_items.copy()"
   ]
  },
  {
   "cell_type": "code",
   "execution_count": 261,
   "metadata": {},
   "outputs": [
    {
     "data": {
      "text/plain": [
       "user_id             5153209\n",
       "items_count         5153209\n",
       "item_id             5153209\n",
       "playtime_forever    5153209\n",
       "dtype: int64"
      ]
     },
     "execution_count": 261,
     "metadata": {},
     "output_type": "execute_result"
    }
   ],
   "source": [
    "df_user_items_sample.count()"
   ]
  },
  {
   "cell_type": "code",
   "execution_count": 262,
   "metadata": {},
   "outputs": [
    {
     "data": {
      "text/plain": [
       "count    5.153209e+06\n",
       "mean     9.914951e+02\n",
       "std      5.418204e+03\n",
       "min      0.000000e+00\n",
       "25%      0.000000e+00\n",
       "50%      3.400000e+01\n",
       "75%      3.550000e+02\n",
       "max      6.427730e+05\n",
       "Name: playtime_forever, dtype: float64"
      ]
     },
     "execution_count": 262,
     "metadata": {},
     "output_type": "execute_result"
    }
   ],
   "source": [
    "df_user_items_sample['playtime_forever'].describe()"
   ]
  },
  {
   "cell_type": "code",
   "execution_count": 263,
   "metadata": {},
   "outputs": [],
   "source": [
    "df_user_items_sample=df_user_items_sample[df_user_items_sample['playtime_forever']<3.550000e+02]"
   ]
  },
  {
   "cell_type": "code",
   "execution_count": 264,
   "metadata": {},
   "outputs": [
    {
     "name": "stdout",
     "output_type": "stream",
     "text": [
      "<class 'pandas.core.frame.DataFrame'>\n",
      "Index: 3863832 entries, 0 to 5170013\n",
      "Data columns (total 4 columns):\n",
      " #   Column            Dtype  \n",
      "---  ------            -----  \n",
      " 0   user_id           object \n",
      " 1   items_count       int64  \n",
      " 2   item_id           int64  \n",
      " 3   playtime_forever  float64\n",
      "dtypes: float64(1), int64(2), object(1)\n",
      "memory usage: 147.4+ MB\n"
     ]
    }
   ],
   "source": [
    "df_user_items_sample.info()"
   ]
  },
  {
   "cell_type": "code",
   "execution_count": 265,
   "metadata": {},
   "outputs": [],
   "source": [
    "df_user_items_sample.to_parquet(r'Datasets\\users_items_sample.parquet')"
   ]
  },
  {
   "cell_type": "markdown",
   "metadata": {},
   "source": [
    "## user_reviews"
   ]
  },
  {
   "cell_type": "code",
   "execution_count": 266,
   "metadata": {},
   "outputs": [],
   "source": [
    "data2=[]\n",
    "\n",
    "with gzip.open(r'E:\\Data Science\\PI1\\Datasets\\user_reviews.json.gz', 'rt', encoding='utf-8') as file:\n",
    "    for line in file:\n",
    "        try:\n",
    "            json_data = ast.literal_eval(line)\n",
    "            data2.append(json_data)\n",
    "        except ValueError as e:\n",
    "            print(f\"Error en la línea: {line}\")\n",
    "            continue\n",
    "\n",
    "df_reviews = pd.DataFrame(data2)"
   ]
  },
  {
   "cell_type": "code",
   "execution_count": 290,
   "metadata": {},
   "outputs": [
    {
     "name": "stdout",
     "output_type": "stream",
     "text": [
      "<class 'pandas.core.frame.DataFrame'>\n",
      "RangeIndex: 25799 entries, 0 to 25798\n",
      "Data columns (total 2 columns):\n",
      " #   Column   Non-Null Count  Dtype \n",
      "---  ------   --------------  ----- \n",
      " 0   user_id  25799 non-null  object\n",
      " 1   reviews  25799 non-null  object\n",
      "dtypes: object(2)\n",
      "memory usage: 403.2+ KB\n"
     ]
    }
   ],
   "source": [
    "df_reviews.info()"
   ]
  },
  {
   "cell_type": "code",
   "execution_count": 267,
   "metadata": {},
   "outputs": [],
   "source": [
    "df_reviews.drop('user_url',axis=1,inplace=True)\n"
   ]
  },
  {
   "cell_type": "code",
   "execution_count": 275,
   "metadata": {},
   "outputs": [],
   "source": [
    "df_expandido = df_reviews.explode('reviews')\n"
   ]
  },
  {
   "cell_type": "code",
   "execution_count": 276,
   "metadata": {},
   "outputs": [],
   "source": [
    "df_descompuesto = pd.json_normalize(df_expandido['reviews'])\n"
   ]
  },
  {
   "cell_type": "code",
   "execution_count": 277,
   "metadata": {},
   "outputs": [],
   "source": [
    "#Se eliminan las columnas que no van a ser útiles\n",
    "df_descompuesto.drop(['funny','posted','last_edited','helpful'], axis=1, inplace=True)"
   ]
  },
  {
   "cell_type": "code",
   "execution_count": 278,
   "metadata": {},
   "outputs": [],
   "source": [
    "df_final = pd.concat([df_expandido.reset_index(drop=True), df_descompuesto.reset_index(drop=True)], axis=1)"
   ]
  },
  {
   "cell_type": "code",
   "execution_count": 279,
   "metadata": {},
   "outputs": [],
   "source": [
    "df_user_reviews = df_final.drop('reviews', axis=1)"
   ]
  },
  {
   "cell_type": "code",
   "execution_count": 291,
   "metadata": {},
   "outputs": [
    {
     "name": "stdout",
     "output_type": "stream",
     "text": [
      "<class 'pandas.core.frame.DataFrame'>\n",
      "RangeIndex: 59333 entries, 0 to 59332\n",
      "Data columns (total 4 columns):\n",
      " #   Column     Non-Null Count  Dtype \n",
      "---  ------     --------------  ----- \n",
      " 0   user_id    59333 non-null  object\n",
      " 1   item_id    59305 non-null  object\n",
      " 2   recommend  59305 non-null  object\n",
      " 3   review     59305 non-null  object\n",
      "dtypes: object(4)\n",
      "memory usage: 1.8+ MB\n"
     ]
    }
   ],
   "source": [
    "df_user_reviews.info()"
   ]
  },
  {
   "cell_type": "code",
   "execution_count": 289,
   "metadata": {},
   "outputs": [
    {
     "data": {
      "text/plain": [
       "user_id       0\n",
       "item_id      28\n",
       "recommend    28\n",
       "review       28\n",
       "dtype: int64"
      ]
     },
     "execution_count": 289,
     "metadata": {},
     "output_type": "execute_result"
    }
   ],
   "source": [
    "df_user_reviews.isnull().sum()"
   ]
  },
  {
   "cell_type": "code",
   "execution_count": 287,
   "metadata": {},
   "outputs": [
    {
     "data": {
      "text/html": [
       "<div>\n",
       "<style scoped>\n",
       "    .dataframe tbody tr th:only-of-type {\n",
       "        vertical-align: middle;\n",
       "    }\n",
       "\n",
       "    .dataframe tbody tr th {\n",
       "        vertical-align: top;\n",
       "    }\n",
       "\n",
       "    .dataframe thead th {\n",
       "        text-align: right;\n",
       "    }\n",
       "</style>\n",
       "<table border=\"1\" class=\"dataframe\">\n",
       "  <thead>\n",
       "    <tr style=\"text-align: right;\">\n",
       "      <th></th>\n",
       "      <th>user_id</th>\n",
       "      <th>item_id</th>\n",
       "      <th>recommend</th>\n",
       "      <th>review</th>\n",
       "    </tr>\n",
       "  </thead>\n",
       "  <tbody>\n",
       "    <tr>\n",
       "      <th>137</th>\n",
       "      <td>gdxsd</td>\n",
       "      <td>NaN</td>\n",
       "      <td>NaN</td>\n",
       "      <td>NaN</td>\n",
       "    </tr>\n",
       "    <tr>\n",
       "      <th>177</th>\n",
       "      <td>76561198094224872</td>\n",
       "      <td>NaN</td>\n",
       "      <td>NaN</td>\n",
       "      <td>NaN</td>\n",
       "    </tr>\n",
       "    <tr>\n",
       "      <th>2559</th>\n",
       "      <td>76561198021575394</td>\n",
       "      <td>NaN</td>\n",
       "      <td>NaN</td>\n",
       "      <td>NaN</td>\n",
       "    </tr>\n",
       "    <tr>\n",
       "      <th>10080</th>\n",
       "      <td>cmuir37</td>\n",
       "      <td>NaN</td>\n",
       "      <td>NaN</td>\n",
       "      <td>NaN</td>\n",
       "    </tr>\n",
       "    <tr>\n",
       "      <th>13767</th>\n",
       "      <td>Jaysteeny</td>\n",
       "      <td>NaN</td>\n",
       "      <td>NaN</td>\n",
       "      <td>NaN</td>\n",
       "    </tr>\n",
       "    <tr>\n",
       "      <th>15493</th>\n",
       "      <td>ML8989</td>\n",
       "      <td>NaN</td>\n",
       "      <td>NaN</td>\n",
       "      <td>NaN</td>\n",
       "    </tr>\n",
       "    <tr>\n",
       "      <th>19184</th>\n",
       "      <td>76561198079215291</td>\n",
       "      <td>NaN</td>\n",
       "      <td>NaN</td>\n",
       "      <td>NaN</td>\n",
       "    </tr>\n",
       "    <tr>\n",
       "      <th>20223</th>\n",
       "      <td>76561198079342142</td>\n",
       "      <td>NaN</td>\n",
       "      <td>NaN</td>\n",
       "      <td>NaN</td>\n",
       "    </tr>\n",
       "    <tr>\n",
       "      <th>25056</th>\n",
       "      <td>76561198061996985</td>\n",
       "      <td>NaN</td>\n",
       "      <td>NaN</td>\n",
       "      <td>NaN</td>\n",
       "    </tr>\n",
       "    <tr>\n",
       "      <th>26257</th>\n",
       "      <td>76561198108286351</td>\n",
       "      <td>NaN</td>\n",
       "      <td>NaN</td>\n",
       "      <td>NaN</td>\n",
       "    </tr>\n",
       "    <tr>\n",
       "      <th>26674</th>\n",
       "      <td>CallTripleZero</td>\n",
       "      <td>NaN</td>\n",
       "      <td>NaN</td>\n",
       "      <td>NaN</td>\n",
       "    </tr>\n",
       "    <tr>\n",
       "      <th>28444</th>\n",
       "      <td>Priceless612</td>\n",
       "      <td>NaN</td>\n",
       "      <td>NaN</td>\n",
       "      <td>NaN</td>\n",
       "    </tr>\n",
       "    <tr>\n",
       "      <th>28452</th>\n",
       "      <td>diabolical666</td>\n",
       "      <td>NaN</td>\n",
       "      <td>NaN</td>\n",
       "      <td>NaN</td>\n",
       "    </tr>\n",
       "    <tr>\n",
       "      <th>28975</th>\n",
       "      <td>DrScottnik</td>\n",
       "      <td>NaN</td>\n",
       "      <td>NaN</td>\n",
       "      <td>NaN</td>\n",
       "    </tr>\n",
       "    <tr>\n",
       "      <th>31955</th>\n",
       "      <td>76561198110176420</td>\n",
       "      <td>NaN</td>\n",
       "      <td>NaN</td>\n",
       "      <td>NaN</td>\n",
       "    </tr>\n",
       "    <tr>\n",
       "      <th>32819</th>\n",
       "      <td>jojoPL1987</td>\n",
       "      <td>NaN</td>\n",
       "      <td>NaN</td>\n",
       "      <td>NaN</td>\n",
       "    </tr>\n",
       "    <tr>\n",
       "      <th>33785</th>\n",
       "      <td>Kylee_Kylie</td>\n",
       "      <td>NaN</td>\n",
       "      <td>NaN</td>\n",
       "      <td>NaN</td>\n",
       "    </tr>\n",
       "    <tr>\n",
       "      <th>39279</th>\n",
       "      <td>_samie</td>\n",
       "      <td>NaN</td>\n",
       "      <td>NaN</td>\n",
       "      <td>NaN</td>\n",
       "    </tr>\n",
       "    <tr>\n",
       "      <th>39357</th>\n",
       "      <td>FifthExclamation</td>\n",
       "      <td>NaN</td>\n",
       "      <td>NaN</td>\n",
       "      <td>NaN</td>\n",
       "    </tr>\n",
       "    <tr>\n",
       "      <th>39420</th>\n",
       "      <td>sbenji</td>\n",
       "      <td>NaN</td>\n",
       "      <td>NaN</td>\n",
       "      <td>NaN</td>\n",
       "    </tr>\n",
       "    <tr>\n",
       "      <th>40661</th>\n",
       "      <td>SpatialWheel14</td>\n",
       "      <td>NaN</td>\n",
       "      <td>NaN</td>\n",
       "      <td>NaN</td>\n",
       "    </tr>\n",
       "    <tr>\n",
       "      <th>41777</th>\n",
       "      <td>76561198065238937</td>\n",
       "      <td>NaN</td>\n",
       "      <td>NaN</td>\n",
       "      <td>NaN</td>\n",
       "    </tr>\n",
       "    <tr>\n",
       "      <th>44384</th>\n",
       "      <td>76561198071075080</td>\n",
       "      <td>NaN</td>\n",
       "      <td>NaN</td>\n",
       "      <td>NaN</td>\n",
       "    </tr>\n",
       "    <tr>\n",
       "      <th>50718</th>\n",
       "      <td>76561198063489150</td>\n",
       "      <td>NaN</td>\n",
       "      <td>NaN</td>\n",
       "      <td>NaN</td>\n",
       "    </tr>\n",
       "    <tr>\n",
       "      <th>53323</th>\n",
       "      <td>thecommunistbear</td>\n",
       "      <td>NaN</td>\n",
       "      <td>NaN</td>\n",
       "      <td>NaN</td>\n",
       "    </tr>\n",
       "    <tr>\n",
       "      <th>55425</th>\n",
       "      <td>76561198085883839</td>\n",
       "      <td>NaN</td>\n",
       "      <td>NaN</td>\n",
       "      <td>NaN</td>\n",
       "    </tr>\n",
       "    <tr>\n",
       "      <th>57578</th>\n",
       "      <td>76561198100396147</td>\n",
       "      <td>NaN</td>\n",
       "      <td>NaN</td>\n",
       "      <td>NaN</td>\n",
       "    </tr>\n",
       "    <tr>\n",
       "      <th>57766</th>\n",
       "      <td>76561198102423654</td>\n",
       "      <td>NaN</td>\n",
       "      <td>NaN</td>\n",
       "      <td>NaN</td>\n",
       "    </tr>\n",
       "  </tbody>\n",
       "</table>\n",
       "</div>"
      ],
      "text/plain": [
       "                 user_id item_id recommend review\n",
       "137                gdxsd     NaN       NaN    NaN\n",
       "177    76561198094224872     NaN       NaN    NaN\n",
       "2559   76561198021575394     NaN       NaN    NaN\n",
       "10080            cmuir37     NaN       NaN    NaN\n",
       "13767          Jaysteeny     NaN       NaN    NaN\n",
       "15493             ML8989     NaN       NaN    NaN\n",
       "19184  76561198079215291     NaN       NaN    NaN\n",
       "20223  76561198079342142     NaN       NaN    NaN\n",
       "25056  76561198061996985     NaN       NaN    NaN\n",
       "26257  76561198108286351     NaN       NaN    NaN\n",
       "26674     CallTripleZero     NaN       NaN    NaN\n",
       "28444       Priceless612     NaN       NaN    NaN\n",
       "28452      diabolical666     NaN       NaN    NaN\n",
       "28975         DrScottnik     NaN       NaN    NaN\n",
       "31955  76561198110176420     NaN       NaN    NaN\n",
       "32819         jojoPL1987     NaN       NaN    NaN\n",
       "33785        Kylee_Kylie     NaN       NaN    NaN\n",
       "39279             _samie     NaN       NaN    NaN\n",
       "39357   FifthExclamation     NaN       NaN    NaN\n",
       "39420             sbenji     NaN       NaN    NaN\n",
       "40661     SpatialWheel14     NaN       NaN    NaN\n",
       "41777  76561198065238937     NaN       NaN    NaN\n",
       "44384  76561198071075080     NaN       NaN    NaN\n",
       "50718  76561198063489150     NaN       NaN    NaN\n",
       "53323   thecommunistbear     NaN       NaN    NaN\n",
       "55425  76561198085883839     NaN       NaN    NaN\n",
       "57578  76561198100396147     NaN       NaN    NaN\n",
       "57766  76561198102423654     NaN       NaN    NaN"
      ]
     },
     "execution_count": 287,
     "metadata": {},
     "output_type": "execute_result"
    }
   ],
   "source": [
    "df_user_reviews[df_user_reviews['item_id'].isnull()]"
   ]
  },
  {
   "cell_type": "code",
   "execution_count": 293,
   "metadata": {},
   "outputs": [],
   "source": [
    "#Al estar todas las columnas con valores nulos se eliminan las filas correspondientes\n",
    "df_user_reviews.dropna(inplace=True)"
   ]
  },
  {
   "cell_type": "code",
   "execution_count": 295,
   "metadata": {},
   "outputs": [
    {
     "data": {
      "text/plain": [
       "user_id      0\n",
       "item_id      0\n",
       "recommend    0\n",
       "review       0\n",
       "dtype: int64"
      ]
     },
     "execution_count": 295,
     "metadata": {},
     "output_type": "execute_result"
    }
   ],
   "source": [
    "#Se verifica que no haya valores nulos\n",
    "df_user_reviews.isnull().sum()"
   ]
  },
  {
   "cell_type": "code",
   "execution_count": 296,
   "metadata": {},
   "outputs": [],
   "source": [
    "from textblob import TextBlob\n",
    "\n",
    "def sentiment(review):\n",
    "    blob=TextBlob(review)\n",
    "    resultado=1 + round(blob.sentiment.polarity)\n",
    "    return resultado"
   ]
  },
  {
   "cell_type": "markdown",
   "metadata": {},
   "source": [
    "Aqui se realizara el analisis de sentimiento de manera muy simple hayq que tener en cuenta que se puede usar otros metodos pero TextBlob lo simplifica demasiado"
   ]
  },
  {
   "cell_type": "code",
   "execution_count": 297,
   "metadata": {},
   "outputs": [],
   "source": [
    "df_user_reviews['sentiment']=df_user_reviews['review'].apply(sentiment)"
   ]
  },
  {
   "cell_type": "code",
   "execution_count": 300,
   "metadata": {},
   "outputs": [],
   "source": [
    "#Se eleimina la columna 'review' ya que no se va a utilizar al tener el analisis de sentimientos\n",
    "df_user_reviews=df_user_reviews.drop('review', axis=1)"
   ]
  },
  {
   "cell_type": "code",
   "execution_count": 301,
   "metadata": {},
   "outputs": [
    {
     "name": "stdout",
     "output_type": "stream",
     "text": [
      "<class 'pandas.core.frame.DataFrame'>\n",
      "Index: 59305 entries, 0 to 59332\n",
      "Data columns (total 4 columns):\n",
      " #   Column     Non-Null Count  Dtype \n",
      "---  ------     --------------  ----- \n",
      " 0   user_id    59305 non-null  object\n",
      " 1   item_id    59305 non-null  object\n",
      " 2   recommend  59305 non-null  object\n",
      " 3   sentiment  59305 non-null  int64 \n",
      "dtypes: int64(1), object(3)\n",
      "memory usage: 2.3+ MB\n"
     ]
    }
   ],
   "source": [
    "df_user_reviews.info()"
   ]
  },
  {
   "cell_type": "code",
   "execution_count": 302,
   "metadata": {},
   "outputs": [],
   "source": [
    "df_user_reviews.to_parquet('Datasets/user_reviews.parquet')"
   ]
  }
 ],
 "metadata": {
  "kernelspec": {
   "display_name": "Python 3",
   "language": "python",
   "name": "python3"
  },
  "language_info": {
   "codemirror_mode": {
    "name": "ipython",
    "version": 3
   },
   "file_extension": ".py",
   "mimetype": "text/x-python",
   "name": "python",
   "nbconvert_exporter": "python",
   "pygments_lexer": "ipython3",
   "version": "3.12.1"
  }
 },
 "nbformat": 4,
 "nbformat_minor": 2
}
