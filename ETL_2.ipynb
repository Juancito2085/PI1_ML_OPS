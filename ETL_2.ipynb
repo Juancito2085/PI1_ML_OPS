{
 "cells": [
  {
   "cell_type": "markdown",
   "metadata": {},
   "source": [
    "# ETL"
   ]
  },
  {
   "cell_type": "markdown",
   "metadata": {},
   "source": [
    "Aquí se haran las transformaciones necesarias para tener datasets para optimizar las consultas"
   ]
  },
  {
   "cell_type": "code",
   "execution_count": 188,
   "metadata": {},
   "outputs": [],
   "source": [
    "import pandas as pd\n",
    "import numpy as np\n",
    "import ast\n",
    "import json"
   ]
  },
  {
   "cell_type": "code",
   "execution_count": 189,
   "metadata": {},
   "outputs": [],
   "source": [
    "df_games=pd.read_parquet(r'Datasets/steam_games_clean.parquet')\n",
    "df_users=pd.read_parquet(r'Datasets/users_items_clean.parquet')\n",
    "df_reviews=pd.read_parquet(r'Datasets/user_reviews_clean.parquet')"
   ]
  },
  {
   "cell_type": "code",
   "execution_count": 192,
   "metadata": {},
   "outputs": [
    {
     "name": "stdout",
     "output_type": "stream",
     "text": [
      "<class 'pandas.core.frame.DataFrame'>\n",
      "RangeIndex: 3865427 entries, 0 to 3865426\n",
      "Data columns (total 4 columns):\n",
      " #   Column            Dtype  \n",
      "---  ------            -----  \n",
      " 0   user_id           object \n",
      " 1   items_count       int16  \n",
      " 2   item_id           int32  \n",
      " 3   playtime_forever  float16\n",
      "dtypes: float16(1), int16(1), int32(1), object(1)\n",
      "memory usage: 59.0+ MB\n"
     ]
    }
   ],
   "source": [
    "df_users.info()"
   ]
  },
  {
   "cell_type": "code",
   "execution_count": 193,
   "metadata": {},
   "outputs": [
    {
     "name": "stdout",
     "output_type": "stream",
     "text": [
      "<class 'pandas.core.frame.DataFrame'>\n",
      "RangeIndex: 27442 entries, 0 to 27441\n",
      "Data columns (total 7 columns):\n",
      " #   Column        Non-Null Count  Dtype  \n",
      "---  ------        --------------  -----  \n",
      " 0   genres        27442 non-null  object \n",
      " 1   app_name      27442 non-null  object \n",
      " 2   tags          27442 non-null  object \n",
      " 3   price         27442 non-null  float64\n",
      " 4   id            27442 non-null  int32  \n",
      " 5   developer     27442 non-null  object \n",
      " 6   release_year  27442 non-null  object \n",
      "dtypes: float64(1), int32(1), object(5)\n",
      "memory usage: 1.4+ MB\n"
     ]
    }
   ],
   "source": [
    "df_games.info()"
   ]
  },
  {
   "cell_type": "code",
   "execution_count": 194,
   "metadata": {},
   "outputs": [
    {
     "name": "stdout",
     "output_type": "stream",
     "text": [
      "<class 'pandas.core.frame.DataFrame'>\n",
      "RangeIndex: 59305 entries, 0 to 59304\n",
      "Data columns (total 4 columns):\n",
      " #   Column     Non-Null Count  Dtype \n",
      "---  ------     --------------  ----- \n",
      " 0   user_id    59305 non-null  object\n",
      " 1   item_id    59305 non-null  int32 \n",
      " 2   recommend  59305 non-null  bool  \n",
      " 3   review     59305 non-null  object\n",
      "dtypes: bool(1), int32(1), object(2)\n",
      "memory usage: 1.2+ MB\n"
     ]
    }
   ],
   "source": [
    "df_reviews.info()"
   ]
  },
  {
   "cell_type": "markdown",
   "metadata": {},
   "source": [
    "## Análisis de sentimiento\n",
    "En esta sección antes de realizar otras transformaciones se realizara el análisis de sentimientos mediante la librería **TextBlob** para simplificar el proceso. Pero esta análisis se puede realizar con otras librerías más complejas o mas elaboradas."
   ]
  },
  {
   "cell_type": "code",
   "execution_count": 195,
   "metadata": {},
   "outputs": [],
   "source": [
    "from textblob import TextBlob\n",
    "\n",
    "#Se crea una función para devolver el sentimiento de un review pero en un rango de 0 a 2\n",
    "def sentiment(review):\n",
    "    blob=TextBlob(review)\n",
    "    resultado=1 + round(blob.sentiment.polarity)\n",
    "    return resultado"
   ]
  },
  {
   "cell_type": "code",
   "execution_count": 196,
   "metadata": {},
   "outputs": [],
   "source": [
    "df_reviews['sentiment']=df_reviews['review'].apply(sentiment)"
   ]
  },
  {
   "cell_type": "code",
   "execution_count": 197,
   "metadata": {},
   "outputs": [],
   "source": [
    "df_reviews.drop(columns=['review'],inplace=True)"
   ]
  },
  {
   "cell_type": "code",
   "execution_count": 198,
   "metadata": {},
   "outputs": [
    {
     "data": {
      "text/html": [
       "<div>\n",
       "<style scoped>\n",
       "    .dataframe tbody tr th:only-of-type {\n",
       "        vertical-align: middle;\n",
       "    }\n",
       "\n",
       "    .dataframe tbody tr th {\n",
       "        vertical-align: top;\n",
       "    }\n",
       "\n",
       "    .dataframe thead th {\n",
       "        text-align: right;\n",
       "    }\n",
       "</style>\n",
       "<table border=\"1\" class=\"dataframe\">\n",
       "  <thead>\n",
       "    <tr style=\"text-align: right;\">\n",
       "      <th></th>\n",
       "      <th>user_id</th>\n",
       "      <th>item_id</th>\n",
       "      <th>recommend</th>\n",
       "      <th>sentiment</th>\n",
       "    </tr>\n",
       "  </thead>\n",
       "  <tbody>\n",
       "    <tr>\n",
       "      <th>0</th>\n",
       "      <td>76561197970982479</td>\n",
       "      <td>1250</td>\n",
       "      <td>True</td>\n",
       "      <td>1</td>\n",
       "    </tr>\n",
       "    <tr>\n",
       "      <th>1</th>\n",
       "      <td>76561197970982479</td>\n",
       "      <td>22200</td>\n",
       "      <td>True</td>\n",
       "      <td>1</td>\n",
       "    </tr>\n",
       "    <tr>\n",
       "      <th>2</th>\n",
       "      <td>76561197970982479</td>\n",
       "      <td>43110</td>\n",
       "      <td>True</td>\n",
       "      <td>1</td>\n",
       "    </tr>\n",
       "    <tr>\n",
       "      <th>3</th>\n",
       "      <td>js41637</td>\n",
       "      <td>251610</td>\n",
       "      <td>True</td>\n",
       "      <td>1</td>\n",
       "    </tr>\n",
       "    <tr>\n",
       "      <th>4</th>\n",
       "      <td>js41637</td>\n",
       "      <td>227300</td>\n",
       "      <td>True</td>\n",
       "      <td>1</td>\n",
       "    </tr>\n",
       "    <tr>\n",
       "      <th>...</th>\n",
       "      <td>...</td>\n",
       "      <td>...</td>\n",
       "      <td>...</td>\n",
       "      <td>...</td>\n",
       "    </tr>\n",
       "    <tr>\n",
       "      <th>59300</th>\n",
       "      <td>76561198312638244</td>\n",
       "      <td>70</td>\n",
       "      <td>True</td>\n",
       "      <td>1</td>\n",
       "    </tr>\n",
       "    <tr>\n",
       "      <th>59301</th>\n",
       "      <td>76561198312638244</td>\n",
       "      <td>362890</td>\n",
       "      <td>True</td>\n",
       "      <td>1</td>\n",
       "    </tr>\n",
       "    <tr>\n",
       "      <th>59302</th>\n",
       "      <td>LydiaMorley</td>\n",
       "      <td>273110</td>\n",
       "      <td>True</td>\n",
       "      <td>1</td>\n",
       "    </tr>\n",
       "    <tr>\n",
       "      <th>59303</th>\n",
       "      <td>LydiaMorley</td>\n",
       "      <td>730</td>\n",
       "      <td>True</td>\n",
       "      <td>2</td>\n",
       "    </tr>\n",
       "    <tr>\n",
       "      <th>59304</th>\n",
       "      <td>LydiaMorley</td>\n",
       "      <td>440</td>\n",
       "      <td>True</td>\n",
       "      <td>2</td>\n",
       "    </tr>\n",
       "  </tbody>\n",
       "</table>\n",
       "<p>59305 rows × 4 columns</p>\n",
       "</div>"
      ],
      "text/plain": [
       "                 user_id  item_id  recommend  sentiment\n",
       "0      76561197970982479     1250       True          1\n",
       "1      76561197970982479    22200       True          1\n",
       "2      76561197970982479    43110       True          1\n",
       "3                js41637   251610       True          1\n",
       "4                js41637   227300       True          1\n",
       "...                  ...      ...        ...        ...\n",
       "59300  76561198312638244       70       True          1\n",
       "59301  76561198312638244   362890       True          1\n",
       "59302        LydiaMorley   273110       True          1\n",
       "59303        LydiaMorley      730       True          2\n",
       "59304        LydiaMorley      440       True          2\n",
       "\n",
       "[59305 rows x 4 columns]"
      ]
     },
     "execution_count": 198,
     "metadata": {},
     "output_type": "execute_result"
    }
   ],
   "source": [
    "df_reviews"
   ]
  },
  {
   "cell_type": "markdown",
   "metadata": {},
   "source": [
    "## Transformación\n",
    "Una vez finalizado el análisis de sentimiento vamos a comenzar a transformar y unir los datasets para que la API y el modelo de similitud del coseno puedan utilizarlos"
   ]
  },
  {
   "cell_type": "markdown",
   "metadata": {},
   "source": [
    "### Dataset developers"
   ]
  },
  {
   "cell_type": "code",
   "execution_count": 199,
   "metadata": {},
   "outputs": [
    {
     "name": "stdout",
     "output_type": "stream",
     "text": [
      "<class 'pandas.core.frame.DataFrame'>\n",
      "RangeIndex: 59305 entries, 0 to 59304\n",
      "Data columns (total 4 columns):\n",
      " #   Column     Non-Null Count  Dtype \n",
      "---  ------     --------------  ----- \n",
      " 0   user_id    59305 non-null  object\n",
      " 1   item_id    59305 non-null  int32 \n",
      " 2   recommend  59305 non-null  bool  \n",
      " 3   sentiment  59305 non-null  int64 \n",
      "dtypes: bool(1), int32(1), int64(1), object(1)\n",
      "memory usage: 1.2+ MB\n"
     ]
    }
   ],
   "source": [
    "df_reviews.info()"
   ]
  },
  {
   "cell_type": "code",
   "execution_count": 200,
   "metadata": {},
   "outputs": [],
   "source": [
    "df_item_sentiment_counts = df_reviews.groupby('item_id')['sentiment'].value_counts().unstack().reset_index()"
   ]
  },
  {
   "cell_type": "code",
   "execution_count": 201,
   "metadata": {},
   "outputs": [
    {
     "data": {
      "text/html": [
       "<div>\n",
       "<style scoped>\n",
       "    .dataframe tbody tr th:only-of-type {\n",
       "        vertical-align: middle;\n",
       "    }\n",
       "\n",
       "    .dataframe tbody tr th {\n",
       "        vertical-align: top;\n",
       "    }\n",
       "\n",
       "    .dataframe thead th {\n",
       "        text-align: right;\n",
       "    }\n",
       "</style>\n",
       "<table border=\"1\" class=\"dataframe\">\n",
       "  <thead>\n",
       "    <tr style=\"text-align: right;\">\n",
       "      <th>sentiment</th>\n",
       "      <th>item_id</th>\n",
       "      <th>0</th>\n",
       "      <th>1</th>\n",
       "      <th>2</th>\n",
       "    </tr>\n",
       "  </thead>\n",
       "  <tbody>\n",
       "    <tr>\n",
       "      <th>0</th>\n",
       "      <td>10</td>\n",
       "      <td>1.0</td>\n",
       "      <td>49.0</td>\n",
       "      <td>7.0</td>\n",
       "    </tr>\n",
       "    <tr>\n",
       "      <th>1</th>\n",
       "      <td>20</td>\n",
       "      <td>NaN</td>\n",
       "      <td>16.0</td>\n",
       "      <td>1.0</td>\n",
       "    </tr>\n",
       "    <tr>\n",
       "      <th>2</th>\n",
       "      <td>30</td>\n",
       "      <td>NaN</td>\n",
       "      <td>3.0</td>\n",
       "      <td>1.0</td>\n",
       "    </tr>\n",
       "    <tr>\n",
       "      <th>3</th>\n",
       "      <td>40</td>\n",
       "      <td>NaN</td>\n",
       "      <td>1.0</td>\n",
       "      <td>NaN</td>\n",
       "    </tr>\n",
       "    <tr>\n",
       "      <th>4</th>\n",
       "      <td>50</td>\n",
       "      <td>NaN</td>\n",
       "      <td>4.0</td>\n",
       "      <td>NaN</td>\n",
       "    </tr>\n",
       "    <tr>\n",
       "      <th>...</th>\n",
       "      <td>...</td>\n",
       "      <td>...</td>\n",
       "      <td>...</td>\n",
       "      <td>...</td>\n",
       "    </tr>\n",
       "    <tr>\n",
       "      <th>3677</th>\n",
       "      <td>521340</td>\n",
       "      <td>NaN</td>\n",
       "      <td>NaN</td>\n",
       "      <td>2.0</td>\n",
       "    </tr>\n",
       "    <tr>\n",
       "      <th>3678</th>\n",
       "      <td>521430</td>\n",
       "      <td>NaN</td>\n",
       "      <td>1.0</td>\n",
       "      <td>NaN</td>\n",
       "    </tr>\n",
       "    <tr>\n",
       "      <th>3679</th>\n",
       "      <td>521570</td>\n",
       "      <td>1.0</td>\n",
       "      <td>1.0</td>\n",
       "      <td>NaN</td>\n",
       "    </tr>\n",
       "    <tr>\n",
       "      <th>3680</th>\n",
       "      <td>521990</td>\n",
       "      <td>NaN</td>\n",
       "      <td>1.0</td>\n",
       "      <td>NaN</td>\n",
       "    </tr>\n",
       "    <tr>\n",
       "      <th>3681</th>\n",
       "      <td>527340</td>\n",
       "      <td>NaN</td>\n",
       "      <td>NaN</td>\n",
       "      <td>1.0</td>\n",
       "    </tr>\n",
       "  </tbody>\n",
       "</table>\n",
       "<p>3682 rows × 4 columns</p>\n",
       "</div>"
      ],
      "text/plain": [
       "sentiment  item_id    0     1    2\n",
       "0               10  1.0  49.0  7.0\n",
       "1               20  NaN  16.0  1.0\n",
       "2               30  NaN   3.0  1.0\n",
       "3               40  NaN   1.0  NaN\n",
       "4               50  NaN   4.0  NaN\n",
       "...            ...  ...   ...  ...\n",
       "3677        521340  NaN   NaN  2.0\n",
       "3678        521430  NaN   1.0  NaN\n",
       "3679        521570  1.0   1.0  NaN\n",
       "3680        521990  NaN   1.0  NaN\n",
       "3681        527340  NaN   NaN  1.0\n",
       "\n",
       "[3682 rows x 4 columns]"
      ]
     },
     "execution_count": 201,
     "metadata": {},
     "output_type": "execute_result"
    }
   ],
   "source": [
    "df_item_sentiment_counts"
   ]
  },
  {
   "cell_type": "code",
   "execution_count": 202,
   "metadata": {},
   "outputs": [],
   "source": [
    "df_item_recommend_count=df_reviews.groupby('item_id')['recommend'].value_counts().unstack().reset_index()\n"
   ]
  },
  {
   "cell_type": "code",
   "execution_count": 203,
   "metadata": {},
   "outputs": [],
   "source": [
    "df_counts=pd.merge(df_item_sentiment_counts,df_item_recommend_count,on='item_id')"
   ]
  },
  {
   "cell_type": "code",
   "execution_count": 204,
   "metadata": {},
   "outputs": [],
   "source": [
    "df_counts.fillna(0,inplace=True)"
   ]
  },
  {
   "cell_type": "code",
   "execution_count": 205,
   "metadata": {},
   "outputs": [],
   "source": [
    "df_developers=pd.merge(df_games[['price','developer','release_year','id']],df_counts,left_on='id',right_on='item_id')"
   ]
  },
  {
   "cell_type": "code",
   "execution_count": 206,
   "metadata": {},
   "outputs": [],
   "source": [
    "df_developers.drop('id',axis=1,inplace=True)"
   ]
  },
  {
   "cell_type": "code",
   "execution_count": 207,
   "metadata": {},
   "outputs": [],
   "source": [
    "df_developers.rename(columns={'0_x':'Negative','1_x':'Neutral',2:'Positive','False_y':'False','True_y':'True'},inplace=True)"
   ]
  },
  {
   "cell_type": "code",
   "execution_count": 208,
   "metadata": {},
   "outputs": [],
   "source": [
    "df_developers = df_developers.astype({'release_year':'int16','Negative': 'int16', 'Neutral': 'int16', 'Positive': 'int16', 'False': 'int16', 'True': 'int16'})"
   ]
  },
  {
   "cell_type": "code",
   "execution_count": 209,
   "metadata": {},
   "outputs": [
    {
     "name": "stdout",
     "output_type": "stream",
     "text": [
      "<class 'pandas.core.frame.DataFrame'>\n",
      "RangeIndex: 2971 entries, 0 to 2970\n",
      "Data columns (total 9 columns):\n",
      " #   Column        Non-Null Count  Dtype  \n",
      "---  ------        --------------  -----  \n",
      " 0   price         2971 non-null   float64\n",
      " 1   developer     2971 non-null   object \n",
      " 2   release_year  2971 non-null   int16  \n",
      " 3   item_id       2971 non-null   int32  \n",
      " 4   Negative      2971 non-null   int16  \n",
      " 5   Neutral       2971 non-null   int16  \n",
      " 6   Positive      2971 non-null   int16  \n",
      " 7   False         2971 non-null   int16  \n",
      " 8   True          2971 non-null   int16  \n",
      "dtypes: float64(1), int16(6), int32(1), object(1)\n",
      "memory usage: 93.0+ KB\n"
     ]
    }
   ],
   "source": [
    "df_developers.info()"
   ]
  },
  {
   "cell_type": "code",
   "execution_count": 210,
   "metadata": {},
   "outputs": [],
   "source": [
    "df_developers.to_parquet(r'Datasets/developers.parquet')"
   ]
  },
  {
   "cell_type": "markdown",
   "metadata": {},
   "source": [
    "### Datasets de users"
   ]
  },
  {
   "cell_type": "code",
   "execution_count": 399,
   "metadata": {},
   "outputs": [],
   "source": [
    "df_games=pd.read_parquet(r'Datasets/steam_games_clean.parquet')\n",
    "df_users=pd.read_parquet(r'Datasets/users_items_clean.parquet')\n",
    "df_reviews=pd.read_parquet(r'Datasets/user_reviews_clean.parquet')"
   ]
  },
  {
   "cell_type": "code",
   "execution_count": 400,
   "metadata": {},
   "outputs": [
    {
     "name": "stdout",
     "output_type": "stream",
     "text": [
      "<class 'pandas.core.frame.DataFrame'>\n",
      "RangeIndex: 59305 entries, 0 to 59304\n",
      "Data columns (total 4 columns):\n",
      " #   Column     Non-Null Count  Dtype \n",
      "---  ------     --------------  ----- \n",
      " 0   user_id    59305 non-null  object\n",
      " 1   item_id    59305 non-null  int32 \n",
      " 2   recommend  59305 non-null  bool  \n",
      " 3   review     59305 non-null  object\n",
      "dtypes: bool(1), int32(1), object(2)\n",
      "memory usage: 1.2+ MB\n"
     ]
    }
   ],
   "source": [
    "df_reviews.info()"
   ]
  },
  {
   "cell_type": "code",
   "execution_count": 401,
   "metadata": {},
   "outputs": [],
   "source": [
    "df1=pd.merge(df_games,df_users,left_on='id',right_on='item_id',how= 'inner')\n",
    "df1.drop(columns=['id','developer','app_name','tags'],inplace=True)\n"
   ]
  },
  {
   "cell_type": "code",
   "execution_count": 413,
   "metadata": {},
   "outputs": [
    {
     "data": {
      "text/html": [
       "<div>\n",
       "<style scoped>\n",
       "    .dataframe tbody tr th:only-of-type {\n",
       "        vertical-align: middle;\n",
       "    }\n",
       "\n",
       "    .dataframe tbody tr th {\n",
       "        vertical-align: top;\n",
       "    }\n",
       "\n",
       "    .dataframe thead th {\n",
       "        text-align: right;\n",
       "    }\n",
       "</style>\n",
       "<table border=\"1\" class=\"dataframe\">\n",
       "  <thead>\n",
       "    <tr style=\"text-align: right;\">\n",
       "      <th></th>\n",
       "      <th>genres</th>\n",
       "      <th>price</th>\n",
       "      <th>release_year</th>\n",
       "      <th>user_id</th>\n",
       "      <th>items_count</th>\n",
       "      <th>item_id</th>\n",
       "      <th>playtime_forever</th>\n",
       "    </tr>\n",
       "  </thead>\n",
       "  <tbody>\n",
       "    <tr>\n",
       "      <th>0</th>\n",
       "      <td>[Action, Indie, Racing]</td>\n",
       "      <td>9.99</td>\n",
       "      <td>1997</td>\n",
       "      <td>UTNerd24</td>\n",
       "      <td>188</td>\n",
       "      <td>282010</td>\n",
       "      <td>5.0</td>\n",
       "    </tr>\n",
       "    <tr>\n",
       "      <th>1</th>\n",
       "      <td>[Action, Indie, Racing]</td>\n",
       "      <td>9.99</td>\n",
       "      <td>1997</td>\n",
       "      <td>I_DID_911_JUST_SAYING</td>\n",
       "      <td>154</td>\n",
       "      <td>282010</td>\n",
       "      <td>0.0</td>\n",
       "    </tr>\n",
       "    <tr>\n",
       "      <th>2</th>\n",
       "      <td>[Action, Indie, Racing]</td>\n",
       "      <td>9.99</td>\n",
       "      <td>1997</td>\n",
       "      <td>76561197962104795</td>\n",
       "      <td>79</td>\n",
       "      <td>282010</td>\n",
       "      <td>0.0</td>\n",
       "    </tr>\n",
       "    <tr>\n",
       "      <th>3</th>\n",
       "      <td>[Action, Indie, Racing]</td>\n",
       "      <td>9.99</td>\n",
       "      <td>1997</td>\n",
       "      <td>r3ap3r78</td>\n",
       "      <td>331</td>\n",
       "      <td>282010</td>\n",
       "      <td>0.0</td>\n",
       "    </tr>\n",
       "    <tr>\n",
       "      <th>4</th>\n",
       "      <td>[Action, Indie, Racing]</td>\n",
       "      <td>9.99</td>\n",
       "      <td>1997</td>\n",
       "      <td>saint556</td>\n",
       "      <td>583</td>\n",
       "      <td>282010</td>\n",
       "      <td>13.0</td>\n",
       "    </tr>\n",
       "    <tr>\n",
       "      <th>...</th>\n",
       "      <td>...</td>\n",
       "      <td>...</td>\n",
       "      <td>...</td>\n",
       "      <td>...</td>\n",
       "      <td>...</td>\n",
       "      <td>...</td>\n",
       "      <td>...</td>\n",
       "    </tr>\n",
       "    <tr>\n",
       "      <th>3006636</th>\n",
       "      <td>[Action]</td>\n",
       "      <td>9.99</td>\n",
       "      <td>2004</td>\n",
       "      <td>76561198273508956</td>\n",
       "      <td>15</td>\n",
       "      <td>80</td>\n",
       "      <td>0.0</td>\n",
       "    </tr>\n",
       "    <tr>\n",
       "      <th>3006637</th>\n",
       "      <td>[Action]</td>\n",
       "      <td>9.99</td>\n",
       "      <td>2004</td>\n",
       "      <td>76561198282090798</td>\n",
       "      <td>5</td>\n",
       "      <td>80</td>\n",
       "      <td>0.0</td>\n",
       "    </tr>\n",
       "    <tr>\n",
       "      <th>3006638</th>\n",
       "      <td>[Action]</td>\n",
       "      <td>9.99</td>\n",
       "      <td>2004</td>\n",
       "      <td>943525</td>\n",
       "      <td>58</td>\n",
       "      <td>80</td>\n",
       "      <td>0.0</td>\n",
       "    </tr>\n",
       "    <tr>\n",
       "      <th>3006639</th>\n",
       "      <td>[Action]</td>\n",
       "      <td>9.99</td>\n",
       "      <td>2004</td>\n",
       "      <td>76561198283312749</td>\n",
       "      <td>49</td>\n",
       "      <td>80</td>\n",
       "      <td>9.0</td>\n",
       "    </tr>\n",
       "    <tr>\n",
       "      <th>3006640</th>\n",
       "      <td>[Action]</td>\n",
       "      <td>9.99</td>\n",
       "      <td>2004</td>\n",
       "      <td>76561198312638244</td>\n",
       "      <td>36</td>\n",
       "      <td>80</td>\n",
       "      <td>99.0</td>\n",
       "    </tr>\n",
       "  </tbody>\n",
       "</table>\n",
       "<p>3006641 rows × 7 columns</p>\n",
       "</div>"
      ],
      "text/plain": [
       "                          genres  price release_year                user_id  \\\n",
       "0        [Action, Indie, Racing]   9.99         1997               UTNerd24   \n",
       "1        [Action, Indie, Racing]   9.99         1997  I_DID_911_JUST_SAYING   \n",
       "2        [Action, Indie, Racing]   9.99         1997      76561197962104795   \n",
       "3        [Action, Indie, Racing]   9.99         1997               r3ap3r78   \n",
       "4        [Action, Indie, Racing]   9.99         1997               saint556   \n",
       "...                          ...    ...          ...                    ...   \n",
       "3006636                 [Action]   9.99         2004      76561198273508956   \n",
       "3006637                 [Action]   9.99         2004      76561198282090798   \n",
       "3006638                 [Action]   9.99         2004                 943525   \n",
       "3006639                 [Action]   9.99         2004      76561198283312749   \n",
       "3006640                 [Action]   9.99         2004      76561198312638244   \n",
       "\n",
       "         items_count  item_id  playtime_forever  \n",
       "0                188   282010               5.0  \n",
       "1                154   282010               0.0  \n",
       "2                 79   282010               0.0  \n",
       "3                331   282010               0.0  \n",
       "4                583   282010              13.0  \n",
       "...              ...      ...               ...  \n",
       "3006636           15       80               0.0  \n",
       "3006637            5       80               0.0  \n",
       "3006638           58       80               0.0  \n",
       "3006639           49       80               9.0  \n",
       "3006640           36       80              99.0  \n",
       "\n",
       "[3006641 rows x 7 columns]"
      ]
     },
     "execution_count": 413,
     "metadata": {},
     "output_type": "execute_result"
    }
   ],
   "source": [
    "df1"
   ]
  },
  {
   "cell_type": "code",
   "execution_count": 403,
   "metadata": {},
   "outputs": [],
   "source": [
    "df2=df_reviews.copy()\n",
    "df2=df2.drop(columns=(['review','item_id']),axis=1)\n",
    "total=df2.groupby('user_id')['recommend'].count()\n",
    "positivos=df2[df2['recommend']==True].groupby('user_id')['recommend'].count()\n",
    "positivos=positivos.reindex(total.index,fill_value=0)"
   ]
  },
  {
   "cell_type": "code",
   "execution_count": 404,
   "metadata": {},
   "outputs": [],
   "source": [
    "valor = positivos.loc[\"76561197970982479\"]"
   ]
  },
  {
   "cell_type": "code",
   "execution_count": 405,
   "metadata": {},
   "outputs": [
    {
     "data": {
      "text/plain": [
       "3"
      ]
     },
     "execution_count": 405,
     "metadata": {},
     "output_type": "execute_result"
    }
   ],
   "source": [
    "valor"
   ]
  },
  {
   "cell_type": "code",
   "execution_count": 406,
   "metadata": {},
   "outputs": [],
   "source": [
    "porcentaje_positivos=positivos*100/total"
   ]
  },
  {
   "cell_type": "code",
   "execution_count": 407,
   "metadata": {},
   "outputs": [],
   "source": [
    "df2=pd.merge(df2,porcentaje_positivos,on='user_id')"
   ]
  },
  {
   "cell_type": "code",
   "execution_count": 408,
   "metadata": {},
   "outputs": [],
   "source": [
    "df2.drop_duplicates(inplace=True)"
   ]
  },
  {
   "cell_type": "code",
   "execution_count": 409,
   "metadata": {},
   "outputs": [],
   "source": [
    "df2.drop(columns=['recommend_x'],inplace=True)\n"
   ]
  },
  {
   "cell_type": "code",
   "execution_count": 410,
   "metadata": {},
   "outputs": [],
   "source": [
    "df2.rename(columns={'recommend_y':'perc_recomm'},inplace=True)"
   ]
  },
  {
   "cell_type": "code",
   "execution_count": 411,
   "metadata": {},
   "outputs": [
    {
     "name": "stdout",
     "output_type": "stream",
     "text": [
      "<class 'pandas.core.frame.DataFrame'>\n",
      "Index: 29142 entries, 0 to 59302\n",
      "Data columns (total 2 columns):\n",
      " #   Column       Non-Null Count  Dtype  \n",
      "---  ------       --------------  -----  \n",
      " 0   user_id      29142 non-null  object \n",
      " 1   perc_recomm  29142 non-null  float64\n",
      "dtypes: float64(1), object(1)\n",
      "memory usage: 683.0+ KB\n"
     ]
    }
   ],
   "source": [
    "df2.info()"
   ]
  },
  {
   "cell_type": "markdown",
   "metadata": {},
   "source": [
    "### Dataset data_ML"
   ]
  },
  {
   "cell_type": "code",
   "execution_count": 167,
   "metadata": {},
   "outputs": [],
   "source": [
    "df=df_games.copy()"
   ]
  },
  {
   "cell_type": "code",
   "execution_count": 168,
   "metadata": {},
   "outputs": [],
   "source": [
    "#Se eliminan las columnas que no se van a utilizar\n",
    "df.drop(columns=['developer','price'],inplace=True)\n"
   ]
  },
  {
   "cell_type": "code",
   "execution_count": 169,
   "metadata": {},
   "outputs": [],
   "source": [
    "#Para simplicar se elige el primer valor de la lista dentro de la columna genres\n",
    "df['genres'] = df['genres'].apply(lambda x: x[0] if len(x) > 0 else None)"
   ]
  },
  {
   "cell_type": "code",
   "execution_count": 170,
   "metadata": {},
   "outputs": [],
   "source": [
    "df['tags'] = df['tags'].apply(lambda x: x[0] if len(x) > 0 else None)"
   ]
  },
  {
   "cell_type": "code",
   "execution_count": 171,
   "metadata": {},
   "outputs": [
    {
     "name": "stdout",
     "output_type": "stream",
     "text": [
      "<class 'pandas.core.frame.DataFrame'>\n",
      "RangeIndex: 27442 entries, 0 to 27441\n",
      "Data columns (total 5 columns):\n",
      " #   Column        Non-Null Count  Dtype \n",
      "---  ------        --------------  ----- \n",
      " 0   genres        27442 non-null  object\n",
      " 1   app_name      27442 non-null  object\n",
      " 2   tags          27442 non-null  object\n",
      " 3   id            27442 non-null  int32 \n",
      " 4   release_year  27442 non-null  object\n",
      "dtypes: int32(1), object(4)\n",
      "memory usage: 964.9+ KB\n"
     ]
    }
   ],
   "source": [
    "df.info()"
   ]
  },
  {
   "cell_type": "code",
   "execution_count": 172,
   "metadata": {},
   "outputs": [],
   "source": [
    "df_developers['release_year']=df_developers['release_year'].astype('int16')"
   ]
  },
  {
   "cell_type": "code",
   "execution_count": 173,
   "metadata": {},
   "outputs": [],
   "source": [
    "df.to_parquet(r'Datasets/data_ML.parquet')"
   ]
  },
  {
   "cell_type": "markdown",
   "metadata": {},
   "source": [
    "# Prueba de ENDPOINTS"
   ]
  },
  {
   "cell_type": "markdown",
   "metadata": {},
   "source": [
    "def developer( desarrollador : str ): Cantidad de items y porcentaje de contenido Free por año según empresa desarrolladora. "
   ]
  },
  {
   "cell_type": "code",
   "execution_count": 241,
   "metadata": {},
   "outputs": [],
   "source": [
    "#Se carga el dataset de los desarrolladores\n",
    "df_developers=pd.read_parquet(r'Datasets/developers.parquet')\n",
    "\n",
    "#Se normaliza la entrada\n",
    "developer='valve'\n",
    "developer=developer.title()\n",
    "\n",
    "#Se verifica que el desarrollador este en el dataset\n",
    "if developer in df_developers['developer'].values:\n",
    "    df_developers=df_developers[df_developers['developer']==developer]\n",
    "    #Se eliminan las columnas que no se van a utilizar\n",
    "    df_developers.drop(columns=['Negative','Neutral','Positive','True','False','developer'],inplace=True)\n",
    "    #Total de items por cada año\n",
    "    total = df_developers.groupby('release_year')['price'].count()\n",
    "    #Cuenta la cantidad de items que no son gratis\n",
    "    no_ceros = df_developers[df_developers['price'] != 0].groupby('release_year')['price'].count()\n",
    "    no_ceros= no_ceros.reindex(total.index, fill_value=0)\n",
    "    #Calacula la proporción de items gratis\n",
    "    proporcion_gratis =round((1- no_ceros / total)*100,2)\n",
    "    proporcion_gratis=proporcion_gratis.astype('str')+'%'\n",
    "    #Doy formato a la respuesta\n",
    "    data = [{'Año': year, 'Cantidad de items': total[year], 'Contenido free': proporcion_gratis[year]} for year in total.index]\n",
    "    data={developer:data}  \n",
    "else:\n",
    "    print('No existe el desarrollador')"
   ]
  },
  {
   "cell_type": "code",
   "execution_count": 242,
   "metadata": {},
   "outputs": [
    {
     "data": {
      "text/plain": [
       "{'Valve': [{'Año': 1998, 'Cantidad de items': 1, 'Contenido free': '0.0%'},\n",
       "  {'Año': 1999, 'Cantidad de items': 1, 'Contenido free': '0.0%'},\n",
       "  {'Año': 2000, 'Cantidad de items': 2, 'Contenido free': '0.0%'},\n",
       "  {'Año': 2001, 'Cantidad de items': 1, 'Contenido free': '0.0%'},\n",
       "  {'Año': 2003, 'Cantidad de items': 1, 'Contenido free': '0.0%'},\n",
       "  {'Año': 2004, 'Cantidad de items': 5, 'Contenido free': '0.0%'},\n",
       "  {'Año': 2006, 'Cantidad de items': 2, 'Contenido free': '0.0%'},\n",
       "  {'Año': 2007, 'Cantidad de items': 3, 'Contenido free': '33.33%'},\n",
       "  {'Año': 2008, 'Cantidad de items': 1, 'Contenido free': '0.0%'},\n",
       "  {'Año': 2009, 'Cantidad de items': 1, 'Contenido free': '0.0%'},\n",
       "  {'Año': 2010, 'Cantidad de items': 2, 'Contenido free': '50.0%'},\n",
       "  {'Año': 2011, 'Cantidad de items': 1, 'Contenido free': '0.0%'},\n",
       "  {'Año': 2012, 'Cantidad de items': 1, 'Contenido free': '0.0%'},\n",
       "  {'Año': 2016, 'Cantidad de items': 1, 'Contenido free': '100.0%'}]}"
      ]
     },
     "execution_count": 242,
     "metadata": {},
     "output_type": "execute_result"
    }
   ],
   "source": [
    "data"
   ]
  },
  {
   "cell_type": "code",
   "execution_count": 217,
   "metadata": {},
   "outputs": [
    {
     "data": {
      "text/plain": [
       "{'Valve': [{'Año': 1998, 'Cantidad de items': 1, 'Contenido free': '0.0%'},\n",
       "  {'Año': 1999, 'Cantidad de items': 1, 'Contenido free': '0.0%'},\n",
       "  {'Año': 2000, 'Cantidad de items': 2, 'Contenido free': '0.0%'},\n",
       "  {'Año': 2001, 'Cantidad de items': 1, 'Contenido free': '0.0%'},\n",
       "  {'Año': 2003, 'Cantidad de items': 1, 'Contenido free': '0.0%'},\n",
       "  {'Año': 2004, 'Cantidad de items': 5, 'Contenido free': '0.0%'},\n",
       "  {'Año': 2006, 'Cantidad de items': 2, 'Contenido free': '0.0%'},\n",
       "  {'Año': 2007, 'Cantidad de items': 3, 'Contenido free': '33.33%'},\n",
       "  {'Año': 2008, 'Cantidad de items': 1, 'Contenido free': '0.0%'},\n",
       "  {'Año': 2009, 'Cantidad de items': 1, 'Contenido free': '0.0%'},\n",
       "  {'Año': 2010, 'Cantidad de items': 2, 'Contenido free': '50.0%'},\n",
       "  {'Año': 2011, 'Cantidad de items': 1, 'Contenido free': '0.0%'},\n",
       "  {'Año': 2012, 'Cantidad de items': 1, 'Contenido free': '0.0%'},\n",
       "  {'Año': 2016, 'Cantidad de items': 1, 'Contenido free': '100.0%'}]}"
      ]
     },
     "execution_count": 217,
     "metadata": {},
     "output_type": "execute_result"
    }
   ],
   "source": [
    "data"
   ]
  },
  {
   "cell_type": "code",
   "execution_count": 218,
   "metadata": {},
   "outputs": [],
   "source": [
    "class NpEncoder(json.JSONEncoder):\n",
    "    def default(self, obj):\n",
    "        if isinstance(obj, np.integer):\n",
    "            return int(obj)\n",
    "        if isinstance(obj, np.floating):\n",
    "            return float(obj)\n",
    "        if isinstance(obj, np.ndarray):\n",
    "            return obj.tolist()\n",
    "        return super(NpEncoder, self).default(obj)"
   ]
  },
  {
   "cell_type": "code",
   "execution_count": 220,
   "metadata": {},
   "outputs": [
    {
     "data": {
      "text/plain": [
       "'{\"Valve\": [{\"Año\": 1998, \"Cantidad de items\": 1, \"Contenido free\": \"0.0%\"}, {\"Año\": 1999, \"Cantidad de items\": 1, \"Contenido free\": \"0.0%\"}, {\"Año\": 2000, \"Cantidad de items\": 2, \"Contenido free\": \"0.0%\"}, {\"Año\": 2001, \"Cantidad de items\": 1, \"Contenido free\": \"0.0%\"}, {\"Año\": 2003, \"Cantidad de items\": 1, \"Contenido free\": \"0.0%\"}, {\"Año\": 2004, \"Cantidad de items\": 5, \"Contenido free\": \"0.0%\"}, {\"Año\": 2006, \"Cantidad de items\": 2, \"Contenido free\": \"0.0%\"}, {\"Año\": 2007, \"Cantidad de items\": 3, \"Contenido free\": \"33.33%\"}, {\"Año\": 2008, \"Cantidad de items\": 1, \"Contenido free\": \"0.0%\"}, {\"Año\": 2009, \"Cantidad de items\": 1, \"Contenido free\": \"0.0%\"}, {\"Año\": 2010, \"Cantidad de items\": 2, \"Contenido free\": \"50.0%\"}, {\"Año\": 2011, \"Cantidad de items\": 1, \"Contenido free\": \"0.0%\"}, {\"Año\": 2012, \"Cantidad de items\": 1, \"Contenido free\": \"0.0%\"}, {\"Año\": 2016, \"Cantidad de items\": 1, \"Contenido free\": \"100.0%\"}]}'"
      ]
     },
     "execution_count": 220,
     "metadata": {},
     "output_type": "execute_result"
    }
   ],
   "source": [
    "json.dumps(data, cls=NpEncoder, ensure_ascii=False)"
   ]
  },
  {
   "cell_type": "markdown",
   "metadata": {},
   "source": [
    "def best_developer_year( año : int ): Devuelve el top 3 de desarrolladores con juegos MÁS recomendados por usuarios para el año dado. (reviews.recommend = True y comentarios positivos)"
   ]
  },
  {
   "cell_type": "code",
   "execution_count": 251,
   "metadata": {},
   "outputs": [],
   "source": []
  },
  {
   "cell_type": "code",
   "execution_count": 257,
   "metadata": {},
   "outputs": [
    {
     "ename": "SyntaxError",
     "evalue": "invalid syntax. Perhaps you forgot a comma? (3958770077.py, line 8)",
     "output_type": "error",
     "traceback": [
      "\u001b[1;36m  Cell \u001b[1;32mIn[257], line 8\u001b[1;36m\u001b[0m\n\u001b[1;33m    df_developers=df_developers.sort(by='True' ascending=False)\u001b[0m\n\u001b[1;37m                                        ^\u001b[0m\n\u001b[1;31mSyntaxError\u001b[0m\u001b[1;31m:\u001b[0m invalid syntax. Perhaps you forgot a comma?\n"
     ]
    }
   ],
   "source": [
    "#Se carga el dataset de los desarrolladores\n",
    "df_developers=pd.read_parquet(r'Datasets/developers.parquet')\n",
    "anio=2015\n",
    "if anio in df_developers['release_year'].values:\n",
    "    df_developers=df_developers[df_developers['release_year']==anio]\n",
    "    df_developers.drop(columns=['price','item_id','Negative','Neutral','Positive','False','release_year'],axis=1,inplace=True)\n",
    "    df_developers=df_developers.groupby('developer')['True'].sum()\n",
    "    df_developers=df_developers.sort_values(ascending=False)\n",
    "    respuesta=[{'Puesto '+str(i+1):df_developers.index[i]} for i in range(3)]\n",
    "    json.dumps(respuesta, cls=NpEncoder, ensure_ascii=False)\n",
    "else:\n",
    "    print('Año no encontrado')"
   ]
  },
  {
   "cell_type": "markdown",
   "metadata": {},
   "source": [
    "def developer_reviews_analysis( desarrolladora : str ): Según el desarrollador, se devuelve un diccionario con el nombre del desarrollador como llave y una lista con la cantidad total de registros de reseñas de usuarios que se encuentren categorizados con un análisis de sentimiento como valor positivo o negativo."
   ]
  },
  {
   "cell_type": "code",
   "execution_count": 269,
   "metadata": {},
   "outputs": [],
   "source": [
    "#Se carga el dataset de los desarrolladores\n",
    "df_developers=pd.read_parquet(r'Datasets/developers.parquet')\n",
    "desarrollador=\"valve\"\n",
    "desarrollador=desarrollador.title()\n",
    "desarrollador\n",
    "\n",
    "if desarrollador in df_developers['developer'].values:\n",
    "    respuesta=df_developers[df_developers['developer']==desarrollador][['Positive','Negative']].sum()\n",
    "else:\n",
    "    print('Desarrollador no encontrado')"
   ]
  },
  {
   "cell_type": "code",
   "execution_count": 273,
   "metadata": {},
   "outputs": [],
   "source": [
    "respuesta = [f\"{k} = {v}\" for k, v in respuesta.items()]"
   ]
  },
  {
   "cell_type": "code",
   "execution_count": 275,
   "metadata": {},
   "outputs": [
    {
     "data": {
      "text/plain": [
       "'[\"Positive = 1009\", \"Negative = 113\"]'"
      ]
     },
     "execution_count": 275,
     "metadata": {},
     "output_type": "execute_result"
    }
   ],
   "source": [
    "json.dumps(respuesta, cls=NpEncoder, ensure_ascii=False)"
   ]
  }
 ],
 "metadata": {
  "kernelspec": {
   "display_name": "Python 3",
   "language": "python",
   "name": "python3"
  },
  "language_info": {
   "codemirror_mode": {
    "name": "ipython",
    "version": 3
   },
   "file_extension": ".py",
   "mimetype": "text/x-python",
   "name": "python",
   "nbconvert_exporter": "python",
   "pygments_lexer": "ipython3",
   "version": "3.12.1"
  }
 },
 "nbformat": 4,
 "nbformat_minor": 2
}
