{
 "cells": [
  {
   "cell_type": "markdown",
   "metadata": {},
   "source": [
    "# ETL"
   ]
  },
  {
   "cell_type": "markdown",
   "metadata": {},
   "source": [
    "Aquí se haran las transformaciones necesarias para tener datasets para optimizar las consultas"
   ]
  },
  {
   "cell_type": "code",
   "execution_count": 1,
   "metadata": {},
   "outputs": [],
   "source": [
    "import pandas as pd\n",
    "import numpy as np\n",
    "import ast\n",
    "import json"
   ]
  },
  {
   "cell_type": "code",
   "execution_count": 72,
   "metadata": {},
   "outputs": [],
   "source": [
    "df_games=pd.read_parquet(r'Datasets/steam_games_clean.parquet')\n",
    "df_users=pd.read_parquet(r'Datasets/users_items_clean.parquet')\n",
    "df_reviews=pd.read_parquet(r'Datasets/user_reviews_clean.parquet')"
   ]
  },
  {
   "cell_type": "code",
   "execution_count": 3,
   "metadata": {},
   "outputs": [
    {
     "name": "stdout",
     "output_type": "stream",
     "text": [
      "<class 'pandas.core.frame.DataFrame'>\n",
      "RangeIndex: 3865427 entries, 0 to 3865426\n",
      "Data columns (total 4 columns):\n",
      " #   Column            Dtype  \n",
      "---  ------            -----  \n",
      " 0   user_id           object \n",
      " 1   items_count       int16  \n",
      " 2   item_id           int32  \n",
      " 3   playtime_forever  float16\n",
      "dtypes: float16(1), int16(1), int32(1), object(1)\n",
      "memory usage: 59.0+ MB\n"
     ]
    }
   ],
   "source": [
    "df_users.info()"
   ]
  },
  {
   "cell_type": "code",
   "execution_count": 4,
   "metadata": {},
   "outputs": [
    {
     "name": "stdout",
     "output_type": "stream",
     "text": [
      "<class 'pandas.core.frame.DataFrame'>\n",
      "RangeIndex: 27442 entries, 0 to 27441\n",
      "Data columns (total 7 columns):\n",
      " #   Column        Non-Null Count  Dtype  \n",
      "---  ------        --------------  -----  \n",
      " 0   genres        27442 non-null  object \n",
      " 1   app_name      27442 non-null  object \n",
      " 2   tags          27442 non-null  object \n",
      " 3   price         27442 non-null  float64\n",
      " 4   id            27442 non-null  int32  \n",
      " 5   developer     27442 non-null  object \n",
      " 6   release_year  27442 non-null  object \n",
      "dtypes: float64(1), int32(1), object(5)\n",
      "memory usage: 1.4+ MB\n"
     ]
    }
   ],
   "source": [
    "df_games.info()"
   ]
  },
  {
   "cell_type": "code",
   "execution_count": 5,
   "metadata": {},
   "outputs": [
    {
     "name": "stdout",
     "output_type": "stream",
     "text": [
      "<class 'pandas.core.frame.DataFrame'>\n",
      "RangeIndex: 59305 entries, 0 to 59304\n",
      "Data columns (total 4 columns):\n",
      " #   Column     Non-Null Count  Dtype \n",
      "---  ------     --------------  ----- \n",
      " 0   user_id    59305 non-null  object\n",
      " 1   item_id    59305 non-null  int32 \n",
      " 2   recommend  59305 non-null  bool  \n",
      " 3   review     59305 non-null  object\n",
      "dtypes: bool(1), int32(1), object(2)\n",
      "memory usage: 1.2+ MB\n"
     ]
    }
   ],
   "source": [
    "df_reviews.info()"
   ]
  },
  {
   "cell_type": "markdown",
   "metadata": {},
   "source": [
    "## Análisis de sentimiento\n",
    "En esta sección antes de realizar otras transformaciones se realizara el análisis de sentimientos mediante la librería **TextBlob** para simplificar el proceso. Pero esta análisis se puede realizar con otras librerías más complejas o mas elaboradas."
   ]
  },
  {
   "cell_type": "code",
   "execution_count": 73,
   "metadata": {},
   "outputs": [],
   "source": [
    "from textblob import TextBlob\n",
    "\n",
    "#Se crea una función para devolver el sentimiento de un review pero en un rango de 0 a 2\n",
    "def sentiment(review):\n",
    "    blob=TextBlob(review)\n",
    "    resultado=1 + round(blob.sentiment.polarity)\n",
    "    return resultado"
   ]
  },
  {
   "cell_type": "code",
   "execution_count": 74,
   "metadata": {},
   "outputs": [],
   "source": [
    "df_reviews['sentiment']=df_reviews['review'].apply(sentiment)"
   ]
  },
  {
   "cell_type": "code",
   "execution_count": 75,
   "metadata": {},
   "outputs": [],
   "source": [
    "df_reviews.drop(columns=['review'],inplace=True)"
   ]
  },
  {
   "cell_type": "code",
   "execution_count": 76,
   "metadata": {},
   "outputs": [
    {
     "data": {
      "text/html": [
       "<div>\n",
       "<style scoped>\n",
       "    .dataframe tbody tr th:only-of-type {\n",
       "        vertical-align: middle;\n",
       "    }\n",
       "\n",
       "    .dataframe tbody tr th {\n",
       "        vertical-align: top;\n",
       "    }\n",
       "\n",
       "    .dataframe thead th {\n",
       "        text-align: right;\n",
       "    }\n",
       "</style>\n",
       "<table border=\"1\" class=\"dataframe\">\n",
       "  <thead>\n",
       "    <tr style=\"text-align: right;\">\n",
       "      <th></th>\n",
       "      <th>user_id</th>\n",
       "      <th>item_id</th>\n",
       "      <th>recommend</th>\n",
       "      <th>sentiment</th>\n",
       "    </tr>\n",
       "  </thead>\n",
       "  <tbody>\n",
       "    <tr>\n",
       "      <th>0</th>\n",
       "      <td>76561197970982479</td>\n",
       "      <td>1250</td>\n",
       "      <td>True</td>\n",
       "      <td>1</td>\n",
       "    </tr>\n",
       "    <tr>\n",
       "      <th>1</th>\n",
       "      <td>76561197970982479</td>\n",
       "      <td>22200</td>\n",
       "      <td>True</td>\n",
       "      <td>1</td>\n",
       "    </tr>\n",
       "    <tr>\n",
       "      <th>2</th>\n",
       "      <td>76561197970982479</td>\n",
       "      <td>43110</td>\n",
       "      <td>True</td>\n",
       "      <td>1</td>\n",
       "    </tr>\n",
       "    <tr>\n",
       "      <th>3</th>\n",
       "      <td>js41637</td>\n",
       "      <td>251610</td>\n",
       "      <td>True</td>\n",
       "      <td>1</td>\n",
       "    </tr>\n",
       "    <tr>\n",
       "      <th>4</th>\n",
       "      <td>js41637</td>\n",
       "      <td>227300</td>\n",
       "      <td>True</td>\n",
       "      <td>1</td>\n",
       "    </tr>\n",
       "    <tr>\n",
       "      <th>...</th>\n",
       "      <td>...</td>\n",
       "      <td>...</td>\n",
       "      <td>...</td>\n",
       "      <td>...</td>\n",
       "    </tr>\n",
       "    <tr>\n",
       "      <th>59300</th>\n",
       "      <td>76561198312638244</td>\n",
       "      <td>70</td>\n",
       "      <td>True</td>\n",
       "      <td>1</td>\n",
       "    </tr>\n",
       "    <tr>\n",
       "      <th>59301</th>\n",
       "      <td>76561198312638244</td>\n",
       "      <td>362890</td>\n",
       "      <td>True</td>\n",
       "      <td>1</td>\n",
       "    </tr>\n",
       "    <tr>\n",
       "      <th>59302</th>\n",
       "      <td>LydiaMorley</td>\n",
       "      <td>273110</td>\n",
       "      <td>True</td>\n",
       "      <td>1</td>\n",
       "    </tr>\n",
       "    <tr>\n",
       "      <th>59303</th>\n",
       "      <td>LydiaMorley</td>\n",
       "      <td>730</td>\n",
       "      <td>True</td>\n",
       "      <td>2</td>\n",
       "    </tr>\n",
       "    <tr>\n",
       "      <th>59304</th>\n",
       "      <td>LydiaMorley</td>\n",
       "      <td>440</td>\n",
       "      <td>True</td>\n",
       "      <td>2</td>\n",
       "    </tr>\n",
       "  </tbody>\n",
       "</table>\n",
       "<p>59305 rows × 4 columns</p>\n",
       "</div>"
      ],
      "text/plain": [
       "                 user_id  item_id  recommend  sentiment\n",
       "0      76561197970982479     1250       True          1\n",
       "1      76561197970982479    22200       True          1\n",
       "2      76561197970982479    43110       True          1\n",
       "3                js41637   251610       True          1\n",
       "4                js41637   227300       True          1\n",
       "...                  ...      ...        ...        ...\n",
       "59300  76561198312638244       70       True          1\n",
       "59301  76561198312638244   362890       True          1\n",
       "59302        LydiaMorley   273110       True          1\n",
       "59303        LydiaMorley      730       True          2\n",
       "59304        LydiaMorley      440       True          2\n",
       "\n",
       "[59305 rows x 4 columns]"
      ]
     },
     "execution_count": 76,
     "metadata": {},
     "output_type": "execute_result"
    }
   ],
   "source": [
    "df_reviews"
   ]
  },
  {
   "cell_type": "markdown",
   "metadata": {},
   "source": [
    "## Transformación\n",
    "Una vez finalizado el análisis de sentimiento vamos a comenzar a transformar y unir los datasets para que la API y el modelo de similitud del coseno puedan utilizarlos"
   ]
  },
  {
   "cell_type": "markdown",
   "metadata": {},
   "source": [
    "### Dataset developers"
   ]
  },
  {
   "cell_type": "code",
   "execution_count": 77,
   "metadata": {},
   "outputs": [
    {
     "name": "stdout",
     "output_type": "stream",
     "text": [
      "<class 'pandas.core.frame.DataFrame'>\n",
      "RangeIndex: 59305 entries, 0 to 59304\n",
      "Data columns (total 4 columns):\n",
      " #   Column     Non-Null Count  Dtype \n",
      "---  ------     --------------  ----- \n",
      " 0   user_id    59305 non-null  object\n",
      " 1   item_id    59305 non-null  int32 \n",
      " 2   recommend  59305 non-null  bool  \n",
      " 3   sentiment  59305 non-null  int64 \n",
      "dtypes: bool(1), int32(1), int64(1), object(1)\n",
      "memory usage: 1.2+ MB\n"
     ]
    }
   ],
   "source": [
    "df_reviews.info()"
   ]
  },
  {
   "cell_type": "code",
   "execution_count": 78,
   "metadata": {},
   "outputs": [],
   "source": [
    "df_item_sentiment_counts = df_reviews.groupby('item_id')['sentiment'].value_counts().unstack().reset_index()"
   ]
  },
  {
   "cell_type": "code",
   "execution_count": 79,
   "metadata": {},
   "outputs": [
    {
     "data": {
      "text/html": [
       "<div>\n",
       "<style scoped>\n",
       "    .dataframe tbody tr th:only-of-type {\n",
       "        vertical-align: middle;\n",
       "    }\n",
       "\n",
       "    .dataframe tbody tr th {\n",
       "        vertical-align: top;\n",
       "    }\n",
       "\n",
       "    .dataframe thead th {\n",
       "        text-align: right;\n",
       "    }\n",
       "</style>\n",
       "<table border=\"1\" class=\"dataframe\">\n",
       "  <thead>\n",
       "    <tr style=\"text-align: right;\">\n",
       "      <th>sentiment</th>\n",
       "      <th>item_id</th>\n",
       "      <th>0</th>\n",
       "      <th>1</th>\n",
       "      <th>2</th>\n",
       "    </tr>\n",
       "  </thead>\n",
       "  <tbody>\n",
       "    <tr>\n",
       "      <th>0</th>\n",
       "      <td>10</td>\n",
       "      <td>1.0</td>\n",
       "      <td>49.0</td>\n",
       "      <td>7.0</td>\n",
       "    </tr>\n",
       "    <tr>\n",
       "      <th>1</th>\n",
       "      <td>20</td>\n",
       "      <td>NaN</td>\n",
       "      <td>16.0</td>\n",
       "      <td>1.0</td>\n",
       "    </tr>\n",
       "    <tr>\n",
       "      <th>2</th>\n",
       "      <td>30</td>\n",
       "      <td>NaN</td>\n",
       "      <td>3.0</td>\n",
       "      <td>1.0</td>\n",
       "    </tr>\n",
       "    <tr>\n",
       "      <th>3</th>\n",
       "      <td>40</td>\n",
       "      <td>NaN</td>\n",
       "      <td>1.0</td>\n",
       "      <td>NaN</td>\n",
       "    </tr>\n",
       "    <tr>\n",
       "      <th>4</th>\n",
       "      <td>50</td>\n",
       "      <td>NaN</td>\n",
       "      <td>4.0</td>\n",
       "      <td>NaN</td>\n",
       "    </tr>\n",
       "    <tr>\n",
       "      <th>...</th>\n",
       "      <td>...</td>\n",
       "      <td>...</td>\n",
       "      <td>...</td>\n",
       "      <td>...</td>\n",
       "    </tr>\n",
       "    <tr>\n",
       "      <th>3677</th>\n",
       "      <td>521340</td>\n",
       "      <td>NaN</td>\n",
       "      <td>NaN</td>\n",
       "      <td>2.0</td>\n",
       "    </tr>\n",
       "    <tr>\n",
       "      <th>3678</th>\n",
       "      <td>521430</td>\n",
       "      <td>NaN</td>\n",
       "      <td>1.0</td>\n",
       "      <td>NaN</td>\n",
       "    </tr>\n",
       "    <tr>\n",
       "      <th>3679</th>\n",
       "      <td>521570</td>\n",
       "      <td>1.0</td>\n",
       "      <td>1.0</td>\n",
       "      <td>NaN</td>\n",
       "    </tr>\n",
       "    <tr>\n",
       "      <th>3680</th>\n",
       "      <td>521990</td>\n",
       "      <td>NaN</td>\n",
       "      <td>1.0</td>\n",
       "      <td>NaN</td>\n",
       "    </tr>\n",
       "    <tr>\n",
       "      <th>3681</th>\n",
       "      <td>527340</td>\n",
       "      <td>NaN</td>\n",
       "      <td>NaN</td>\n",
       "      <td>1.0</td>\n",
       "    </tr>\n",
       "  </tbody>\n",
       "</table>\n",
       "<p>3682 rows × 4 columns</p>\n",
       "</div>"
      ],
      "text/plain": [
       "sentiment  item_id    0     1    2\n",
       "0               10  1.0  49.0  7.0\n",
       "1               20  NaN  16.0  1.0\n",
       "2               30  NaN   3.0  1.0\n",
       "3               40  NaN   1.0  NaN\n",
       "4               50  NaN   4.0  NaN\n",
       "...            ...  ...   ...  ...\n",
       "3677        521340  NaN   NaN  2.0\n",
       "3678        521430  NaN   1.0  NaN\n",
       "3679        521570  1.0   1.0  NaN\n",
       "3680        521990  NaN   1.0  NaN\n",
       "3681        527340  NaN   NaN  1.0\n",
       "\n",
       "[3682 rows x 4 columns]"
      ]
     },
     "execution_count": 79,
     "metadata": {},
     "output_type": "execute_result"
    }
   ],
   "source": [
    "df_item_sentiment_counts"
   ]
  },
  {
   "cell_type": "code",
   "execution_count": 80,
   "metadata": {},
   "outputs": [],
   "source": [
    "df_item_recommend_count=df_reviews.groupby('item_id')['recommend'].value_counts().unstack().reset_index()\n"
   ]
  },
  {
   "cell_type": "code",
   "execution_count": 81,
   "metadata": {},
   "outputs": [],
   "source": [
    "df_counts=pd.merge(df_item_sentiment_counts,df_item_recommend_count,on='item_id')"
   ]
  },
  {
   "cell_type": "code",
   "execution_count": 82,
   "metadata": {},
   "outputs": [],
   "source": [
    "df_counts.fillna(0,inplace=True)"
   ]
  },
  {
   "cell_type": "code",
   "execution_count": 83,
   "metadata": {},
   "outputs": [],
   "source": [
    "df_developers=pd.merge(df_games[['price','developer','release_year','id']],df_counts,left_on='id',right_on='item_id')"
   ]
  },
  {
   "cell_type": "code",
   "execution_count": 84,
   "metadata": {},
   "outputs": [],
   "source": [
    "df_developers.drop('id',axis=1,inplace=True)"
   ]
  },
  {
   "cell_type": "code",
   "execution_count": 85,
   "metadata": {},
   "outputs": [],
   "source": [
    "df_developers.rename(columns={'0_x':'Negative','1_x':'Neutral',2:'Positive','False_y':'False','True_y':'True'},inplace=True)"
   ]
  },
  {
   "cell_type": "code",
   "execution_count": 86,
   "metadata": {},
   "outputs": [],
   "source": [
    "df_developers = df_developers.astype({'release_year':'int16','Negative': 'int16', 'Neutral': 'int16', 'Positive': 'int16', 'False': 'int16', 'True': 'int16'})"
   ]
  },
  {
   "cell_type": "code",
   "execution_count": 87,
   "metadata": {},
   "outputs": [
    {
     "name": "stdout",
     "output_type": "stream",
     "text": [
      "<class 'pandas.core.frame.DataFrame'>\n",
      "RangeIndex: 2971 entries, 0 to 2970\n",
      "Data columns (total 9 columns):\n",
      " #   Column        Non-Null Count  Dtype  \n",
      "---  ------        --------------  -----  \n",
      " 0   price         2971 non-null   float64\n",
      " 1   developer     2971 non-null   object \n",
      " 2   release_year  2971 non-null   int16  \n",
      " 3   item_id       2971 non-null   int32  \n",
      " 4   Negative      2971 non-null   int16  \n",
      " 5   Neutral       2971 non-null   int16  \n",
      " 6   Positive      2971 non-null   int16  \n",
      " 7   False         2971 non-null   int16  \n",
      " 8   True          2971 non-null   int16  \n",
      "dtypes: float64(1), int16(6), int32(1), object(1)\n",
      "memory usage: 93.0+ KB\n"
     ]
    }
   ],
   "source": [
    "df_developers.info()"
   ]
  },
  {
   "cell_type": "code",
   "execution_count": 21,
   "metadata": {},
   "outputs": [],
   "source": [
    "df_developers.to_parquet(r'Datasets/developers.parquet')"
   ]
  },
  {
   "cell_type": "markdown",
   "metadata": {},
   "source": [
    "### Datasets de users"
   ]
  },
  {
   "cell_type": "code",
   "execution_count": 150,
   "metadata": {},
   "outputs": [],
   "source": [
    "df_games=pd.read_parquet(r'Datasets/steam_games_clean.parquet')\n",
    "df_users=pd.read_parquet(r'Datasets/users_items_clean.parquet')\n",
    "df_reviews=pd.read_parquet(r'Datasets/user_reviews_clean.parquet')"
   ]
  },
  {
   "cell_type": "code",
   "execution_count": 151,
   "metadata": {},
   "outputs": [],
   "source": [
    "df_users['user_id']=df_users['user_id'].astype('str')"
   ]
  },
  {
   "cell_type": "code",
   "execution_count": 152,
   "metadata": {},
   "outputs": [],
   "source": [
    "df1=pd.merge(df_games,df_users,left_on='id',right_on='item_id',how= 'inner')\n",
    "df1.drop(columns=['id','developer','app_name','tags'],inplace=True)\n",
    "df1.drop(columns=['item_id'],inplace=True)\n",
    "df1['genres'] = df1['genres'].apply(lambda x: x[0] if len(x) > 0 else None)\n"
   ]
  },
  {
   "cell_type": "code",
   "execution_count": 154,
   "metadata": {},
   "outputs": [],
   "source": [
    "df_grouped = df1.groupby(['release_year', 'items_count', 'user_id','genres']).sum().reset_index()"
   ]
  },
  {
   "cell_type": "code",
   "execution_count": 160,
   "metadata": {},
   "outputs": [],
   "source": [
    "df_grouped['user_id']=df_grouped['user_id'].astype('str')"
   ]
  },
  {
   "cell_type": "code",
   "execution_count": 163,
   "metadata": {},
   "outputs": [
    {
     "data": {
      "text/html": [
       "<div>\n",
       "<style scoped>\n",
       "    .dataframe tbody tr th:only-of-type {\n",
       "        vertical-align: middle;\n",
       "    }\n",
       "\n",
       "    .dataframe tbody tr th {\n",
       "        vertical-align: top;\n",
       "    }\n",
       "\n",
       "    .dataframe thead th {\n",
       "        text-align: right;\n",
       "    }\n",
       "</style>\n",
       "<table border=\"1\" class=\"dataframe\">\n",
       "  <thead>\n",
       "    <tr style=\"text-align: right;\">\n",
       "      <th></th>\n",
       "      <th>release_year</th>\n",
       "      <th>items_count</th>\n",
       "      <th>user_id</th>\n",
       "      <th>genres</th>\n",
       "      <th>price</th>\n",
       "      <th>playtime_forever</th>\n",
       "    </tr>\n",
       "  </thead>\n",
       "  <tbody>\n",
       "    <tr>\n",
       "      <th>3</th>\n",
       "      <td>1983</td>\n",
       "      <td>43</td>\n",
       "      <td>76561198064710856</td>\n",
       "      <td>Action</td>\n",
       "      <td>9.99</td>\n",
       "      <td>37.0</td>\n",
       "    </tr>\n",
       "    <tr>\n",
       "      <th>101</th>\n",
       "      <td>1984</td>\n",
       "      <td>43</td>\n",
       "      <td>76561198064710856</td>\n",
       "      <td>Action</td>\n",
       "      <td>9.99</td>\n",
       "      <td>92.0</td>\n",
       "    </tr>\n",
       "    <tr>\n",
       "      <th>367606</th>\n",
       "      <td>2009</td>\n",
       "      <td>43</td>\n",
       "      <td>76561198064710856</td>\n",
       "      <td>Action</td>\n",
       "      <td>0.00</td>\n",
       "      <td>21.0</td>\n",
       "    </tr>\n",
       "    <tr>\n",
       "      <th>541589</th>\n",
       "      <td>2011</td>\n",
       "      <td>43</td>\n",
       "      <td>76561198064710856</td>\n",
       "      <td>Action</td>\n",
       "      <td>9.99</td>\n",
       "      <td>0.0</td>\n",
       "    </tr>\n",
       "    <tr>\n",
       "      <th>754098</th>\n",
       "      <td>2013</td>\n",
       "      <td>43</td>\n",
       "      <td>76561198064710856</td>\n",
       "      <td>Action</td>\n",
       "      <td>14.99</td>\n",
       "      <td>109.0</td>\n",
       "    </tr>\n",
       "    <tr>\n",
       "      <th>878543</th>\n",
       "      <td>2014</td>\n",
       "      <td>43</td>\n",
       "      <td>76561198064710856</td>\n",
       "      <td>Action</td>\n",
       "      <td>1.99</td>\n",
       "      <td>178.0</td>\n",
       "    </tr>\n",
       "    <tr>\n",
       "      <th>999554</th>\n",
       "      <td>2015</td>\n",
       "      <td>43</td>\n",
       "      <td>76561198064710856</td>\n",
       "      <td>Action</td>\n",
       "      <td>14.99</td>\n",
       "      <td>497.0</td>\n",
       "    </tr>\n",
       "    <tr>\n",
       "      <th>999555</th>\n",
       "      <td>2015</td>\n",
       "      <td>43</td>\n",
       "      <td>76561198064710856</td>\n",
       "      <td>Free to Play</td>\n",
       "      <td>0.00</td>\n",
       "      <td>1.0</td>\n",
       "    </tr>\n",
       "    <tr>\n",
       "      <th>1110294</th>\n",
       "      <td>2016</td>\n",
       "      <td>43</td>\n",
       "      <td>76561198064710856</td>\n",
       "      <td>Action</td>\n",
       "      <td>0.00</td>\n",
       "      <td>12.0</td>\n",
       "    </tr>\n",
       "    <tr>\n",
       "      <th>1189323</th>\n",
       "      <td>2017</td>\n",
       "      <td>43</td>\n",
       "      <td>76561198064710856</td>\n",
       "      <td>Action</td>\n",
       "      <td>60.00</td>\n",
       "      <td>0.0</td>\n",
       "    </tr>\n",
       "  </tbody>\n",
       "</table>\n",
       "</div>"
      ],
      "text/plain": [
       "        release_year  items_count            user_id        genres  price  \\\n",
       "3               1983           43  76561198064710856        Action   9.99   \n",
       "101             1984           43  76561198064710856        Action   9.99   \n",
       "367606          2009           43  76561198064710856        Action   0.00   \n",
       "541589          2011           43  76561198064710856        Action   9.99   \n",
       "754098          2013           43  76561198064710856        Action  14.99   \n",
       "878543          2014           43  76561198064710856        Action   1.99   \n",
       "999554          2015           43  76561198064710856        Action  14.99   \n",
       "999555          2015           43  76561198064710856  Free to Play   0.00   \n",
       "1110294         2016           43  76561198064710856        Action   0.00   \n",
       "1189323         2017           43  76561198064710856        Action  60.00   \n",
       "\n",
       "         playtime_forever  \n",
       "3                    37.0  \n",
       "101                  92.0  \n",
       "367606               21.0  \n",
       "541589                0.0  \n",
       "754098              109.0  \n",
       "878543              178.0  \n",
       "999554              497.0  \n",
       "999555                1.0  \n",
       "1110294              12.0  \n",
       "1189323               0.0  "
      ]
     },
     "execution_count": 163,
     "metadata": {},
     "output_type": "execute_result"
    }
   ],
   "source": [
    "df_grouped[df_grouped['user_id']=='76561198064710856']"
   ]
  },
  {
   "cell_type": "code",
   "execution_count": 161,
   "metadata": {},
   "outputs": [
    {
     "name": "stdout",
     "output_type": "stream",
     "text": [
      "<class 'pandas.core.frame.DataFrame'>\n",
      "RangeIndex: 1219006 entries, 0 to 1219005\n",
      "Data columns (total 6 columns):\n",
      " #   Column            Non-Null Count    Dtype  \n",
      "---  ------            --------------    -----  \n",
      " 0   release_year      1219006 non-null  object \n",
      " 1   items_count       1219006 non-null  int16  \n",
      " 2   user_id           1219006 non-null  object \n",
      " 3   genres            1219006 non-null  object \n",
      " 4   price             1219006 non-null  float64\n",
      " 5   playtime_forever  1219006 non-null  float32\n",
      "dtypes: float32(1), float64(1), int16(1), object(3)\n",
      "memory usage: 44.2+ MB\n"
     ]
    }
   ],
   "source": [
    "df_grouped[.info()]"
   ]
  },
  {
   "cell_type": "code",
   "execution_count": 164,
   "metadata": {},
   "outputs": [],
   "source": [
    "df_grouped.to_parquet(r'Datasets/users.parquet')"
   ]
  },
  {
   "cell_type": "markdown",
   "metadata": {},
   "source": [
    "### Dataset users_recommends"
   ]
  },
  {
   "cell_type": "code",
   "execution_count": 29,
   "metadata": {},
   "outputs": [],
   "source": [
    "df2=df_reviews.copy()\n",
    "df2=df2.drop(columns=(['review','item_id']),axis=1)\n",
    "total=df2.groupby('user_id')['recommend'].count()\n",
    "positivos=df2[df2['recommend']==True].groupby('user_id')['recommend'].count()\n",
    "positivos=positivos.reindex(total.index,fill_value=0)"
   ]
  },
  {
   "cell_type": "code",
   "execution_count": 32,
   "metadata": {},
   "outputs": [],
   "source": [
    "porcentaje_positivos=positivos*100/total"
   ]
  },
  {
   "cell_type": "code",
   "execution_count": 33,
   "metadata": {},
   "outputs": [],
   "source": [
    "df2=pd.merge(df2,porcentaje_positivos,on='user_id')"
   ]
  },
  {
   "cell_type": "code",
   "execution_count": 34,
   "metadata": {},
   "outputs": [],
   "source": [
    "df2.drop_duplicates(inplace=True)"
   ]
  },
  {
   "cell_type": "code",
   "execution_count": 35,
   "metadata": {},
   "outputs": [],
   "source": [
    "df2.drop(columns=['recommend_x'],inplace=True)\n"
   ]
  },
  {
   "cell_type": "code",
   "execution_count": 36,
   "metadata": {},
   "outputs": [],
   "source": [
    "df2.rename(columns={'recommend_y':'perc_recomm'},inplace=True)"
   ]
  },
  {
   "cell_type": "code",
   "execution_count": 166,
   "metadata": {},
   "outputs": [],
   "source": [
    "df2['perc_recomm']=df2['perc_recomm'].astype('str')+'%'"
   ]
  },
  {
   "cell_type": "code",
   "execution_count": 186,
   "metadata": {},
   "outputs": [],
   "source": [
    "df2['user_id']=df2['user_id'].astype('str')"
   ]
  },
  {
   "cell_type": "code",
   "execution_count": 187,
   "metadata": {},
   "outputs": [],
   "source": [
    "df2.to_parquet(r'Datasets/user_recommends.parquet')"
   ]
  },
  {
   "cell_type": "markdown",
   "metadata": {},
   "source": [
    "### Dataset data_ML"
   ]
  },
  {
   "cell_type": "code",
   "execution_count": 38,
   "metadata": {},
   "outputs": [],
   "source": [
    "df=df_games.copy()"
   ]
  },
  {
   "cell_type": "code",
   "execution_count": 39,
   "metadata": {},
   "outputs": [],
   "source": [
    "#Se eliminan las columnas que no se van a utilizar\n",
    "df.drop(columns=['developer','price'],inplace=True)\n"
   ]
  },
  {
   "cell_type": "code",
   "execution_count": 40,
   "metadata": {},
   "outputs": [],
   "source": [
    "#Para simplicar se elige el primer valor de la lista dentro de la columna genres\n",
    "df['genres'] = df['genres'].apply(lambda x: x[0] if len(x) > 0 else None)"
   ]
  },
  {
   "cell_type": "code",
   "execution_count": 41,
   "metadata": {},
   "outputs": [],
   "source": [
    "df['tags'] = df['tags'].apply(lambda x: x[0] if len(x) > 0 else None)"
   ]
  },
  {
   "cell_type": "code",
   "execution_count": 42,
   "metadata": {},
   "outputs": [
    {
     "name": "stdout",
     "output_type": "stream",
     "text": [
      "<class 'pandas.core.frame.DataFrame'>\n",
      "RangeIndex: 27442 entries, 0 to 27441\n",
      "Data columns (total 5 columns):\n",
      " #   Column        Non-Null Count  Dtype \n",
      "---  ------        --------------  ----- \n",
      " 0   genres        27442 non-null  object\n",
      " 1   app_name      27442 non-null  object\n",
      " 2   tags          27442 non-null  object\n",
      " 3   id            27442 non-null  int32 \n",
      " 4   release_year  27442 non-null  object\n",
      "dtypes: int32(1), object(4)\n",
      "memory usage: 964.9+ KB\n"
     ]
    }
   ],
   "source": [
    "df.info()"
   ]
  },
  {
   "cell_type": "code",
   "execution_count": 43,
   "metadata": {},
   "outputs": [],
   "source": [
    "df_developers['release_year']=df_developers['release_year'].astype('int16')"
   ]
  },
  {
   "cell_type": "code",
   "execution_count": 44,
   "metadata": {},
   "outputs": [],
   "source": [
    "df.to_parquet(r'Datasets/data_ML.parquet')"
   ]
  },
  {
   "cell_type": "markdown",
   "metadata": {},
   "source": [
    "# Prueba de ENDPOINTS"
   ]
  },
  {
   "cell_type": "markdown",
   "metadata": {},
   "source": [
    "def developer( desarrollador : str ): Cantidad de items y porcentaje de contenido Free por año según empresa desarrolladora. "
   ]
  },
  {
   "cell_type": "code",
   "execution_count": 45,
   "metadata": {},
   "outputs": [],
   "source": [
    "#Se carga el dataset de los desarrolladores\n",
    "df_developers=pd.read_parquet(r'Datasets/developers.parquet')\n",
    "\n",
    "#Se normaliza la entrada\n",
    "developer='valve'\n",
    "developer=developer.title()\n",
    "\n",
    "#Se verifica que el desarrollador este en el dataset\n",
    "if developer in df_developers['developer'].values:\n",
    "    df_developers=df_developers[df_developers['developer']==developer]\n",
    "    #Se eliminan las columnas que no se van a utilizar\n",
    "    df_developers.drop(columns=['Negative','Neutral','Positive','True','False','developer'],inplace=True)\n",
    "    #Total de items por cada año\n",
    "    total = df_developers.groupby('release_year')['price'].count()\n",
    "    #Cuenta la cantidad de items que no son gratis\n",
    "    no_ceros = df_developers[df_developers['price'] != 0].groupby('release_year')['price'].count()\n",
    "    no_ceros= no_ceros.reindex(total.index, fill_value=0)\n",
    "    #Calacula la proporción de items gratis\n",
    "    proporcion_gratis =round((1- no_ceros / total)*100,2)\n",
    "    proporcion_gratis=proporcion_gratis.astype('str')+'%'\n",
    "    #Doy formato a la respuesta\n",
    "    data = [{'Año': year, 'Cantidad de items': total[year], 'Contenido free': proporcion_gratis[year]} for year in total.index]\n",
    "    data={developer:data}  \n",
    "else:\n",
    "    print('No existe el desarrollador')"
   ]
  },
  {
   "cell_type": "code",
   "execution_count": 46,
   "metadata": {},
   "outputs": [
    {
     "data": {
      "text/plain": [
       "{'Valve': [{'Año': 1998, 'Cantidad de items': 1, 'Contenido free': '0.0%'},\n",
       "  {'Año': 1999, 'Cantidad de items': 1, 'Contenido free': '0.0%'},\n",
       "  {'Año': 2000, 'Cantidad de items': 2, 'Contenido free': '0.0%'},\n",
       "  {'Año': 2001, 'Cantidad de items': 1, 'Contenido free': '0.0%'},\n",
       "  {'Año': 2003, 'Cantidad de items': 1, 'Contenido free': '0.0%'},\n",
       "  {'Año': 2004, 'Cantidad de items': 5, 'Contenido free': '0.0%'},\n",
       "  {'Año': 2006, 'Cantidad de items': 2, 'Contenido free': '0.0%'},\n",
       "  {'Año': 2007, 'Cantidad de items': 3, 'Contenido free': '33.33%'},\n",
       "  {'Año': 2008, 'Cantidad de items': 1, 'Contenido free': '0.0%'},\n",
       "  {'Año': 2009, 'Cantidad de items': 1, 'Contenido free': '0.0%'},\n",
       "  {'Año': 2010, 'Cantidad de items': 2, 'Contenido free': '50.0%'},\n",
       "  {'Año': 2011, 'Cantidad de items': 1, 'Contenido free': '0.0%'},\n",
       "  {'Año': 2012, 'Cantidad de items': 1, 'Contenido free': '0.0%'},\n",
       "  {'Año': 2016, 'Cantidad de items': 1, 'Contenido free': '100.0%'}]}"
      ]
     },
     "execution_count": 46,
     "metadata": {},
     "output_type": "execute_result"
    }
   ],
   "source": [
    "data"
   ]
  },
  {
   "cell_type": "code",
   "execution_count": 47,
   "metadata": {},
   "outputs": [
    {
     "data": {
      "text/plain": [
       "{'Valve': [{'Año': 1998, 'Cantidad de items': 1, 'Contenido free': '0.0%'},\n",
       "  {'Año': 1999, 'Cantidad de items': 1, 'Contenido free': '0.0%'},\n",
       "  {'Año': 2000, 'Cantidad de items': 2, 'Contenido free': '0.0%'},\n",
       "  {'Año': 2001, 'Cantidad de items': 1, 'Contenido free': '0.0%'},\n",
       "  {'Año': 2003, 'Cantidad de items': 1, 'Contenido free': '0.0%'},\n",
       "  {'Año': 2004, 'Cantidad de items': 5, 'Contenido free': '0.0%'},\n",
       "  {'Año': 2006, 'Cantidad de items': 2, 'Contenido free': '0.0%'},\n",
       "  {'Año': 2007, 'Cantidad de items': 3, 'Contenido free': '33.33%'},\n",
       "  {'Año': 2008, 'Cantidad de items': 1, 'Contenido free': '0.0%'},\n",
       "  {'Año': 2009, 'Cantidad de items': 1, 'Contenido free': '0.0%'},\n",
       "  {'Año': 2010, 'Cantidad de items': 2, 'Contenido free': '50.0%'},\n",
       "  {'Año': 2011, 'Cantidad de items': 1, 'Contenido free': '0.0%'},\n",
       "  {'Año': 2012, 'Cantidad de items': 1, 'Contenido free': '0.0%'},\n",
       "  {'Año': 2016, 'Cantidad de items': 1, 'Contenido free': '100.0%'}]}"
      ]
     },
     "execution_count": 47,
     "metadata": {},
     "output_type": "execute_result"
    }
   ],
   "source": [
    "data"
   ]
  },
  {
   "cell_type": "code",
   "execution_count": 48,
   "metadata": {},
   "outputs": [],
   "source": [
    "class NpEncoder(json.JSONEncoder):\n",
    "    def default(self, obj):\n",
    "        if isinstance(obj, np.integer):\n",
    "            return int(obj)\n",
    "        if isinstance(obj, np.floating):\n",
    "            return float(obj)\n",
    "        if isinstance(obj, np.ndarray):\n",
    "            return obj.tolist()\n",
    "        return super(NpEncoder, self).default(obj)"
   ]
  },
  {
   "cell_type": "code",
   "execution_count": 49,
   "metadata": {},
   "outputs": [
    {
     "data": {
      "text/plain": [
       "'{\"Valve\": [{\"Año\": 1998, \"Cantidad de items\": 1, \"Contenido free\": \"0.0%\"}, {\"Año\": 1999, \"Cantidad de items\": 1, \"Contenido free\": \"0.0%\"}, {\"Año\": 2000, \"Cantidad de items\": 2, \"Contenido free\": \"0.0%\"}, {\"Año\": 2001, \"Cantidad de items\": 1, \"Contenido free\": \"0.0%\"}, {\"Año\": 2003, \"Cantidad de items\": 1, \"Contenido free\": \"0.0%\"}, {\"Año\": 2004, \"Cantidad de items\": 5, \"Contenido free\": \"0.0%\"}, {\"Año\": 2006, \"Cantidad de items\": 2, \"Contenido free\": \"0.0%\"}, {\"Año\": 2007, \"Cantidad de items\": 3, \"Contenido free\": \"33.33%\"}, {\"Año\": 2008, \"Cantidad de items\": 1, \"Contenido free\": \"0.0%\"}, {\"Año\": 2009, \"Cantidad de items\": 1, \"Contenido free\": \"0.0%\"}, {\"Año\": 2010, \"Cantidad de items\": 2, \"Contenido free\": \"50.0%\"}, {\"Año\": 2011, \"Cantidad de items\": 1, \"Contenido free\": \"0.0%\"}, {\"Año\": 2012, \"Cantidad de items\": 1, \"Contenido free\": \"0.0%\"}, {\"Año\": 2016, \"Cantidad de items\": 1, \"Contenido free\": \"100.0%\"}]}'"
      ]
     },
     "execution_count": 49,
     "metadata": {},
     "output_type": "execute_result"
    }
   ],
   "source": [
    "json.dumps(data, cls=NpEncoder, ensure_ascii=False)"
   ]
  },
  {
   "cell_type": "markdown",
   "metadata": {},
   "source": [
    "def userdata( User_id : str ): Debe devolver cantidad de dinero gastado por el usuario, el porcentaje de recomendación en base a reviews.recommend y cantidad de items."
   ]
  },
  {
   "cell_type": "code",
   "execution_count": 213,
   "metadata": {},
   "outputs": [],
   "source": []
  },
  {
   "cell_type": "code",
   "execution_count": 199,
   "metadata": {},
   "outputs": [],
   "source": []
  },
  {
   "cell_type": "code",
   "execution_count": 193,
   "metadata": {},
   "outputs": [
    {
     "name": "stdout",
     "output_type": "stream",
     "text": [
      "<class 'pandas.core.frame.DataFrame'>\n",
      "Index: 29142 entries, 0 to 59302\n",
      "Data columns (total 2 columns):\n",
      " #   Column       Non-Null Count  Dtype \n",
      "---  ------       --------------  ----- \n",
      " 0   user_id      29142 non-null  object\n",
      " 1   perc_recomm  29142 non-null  object\n",
      "dtypes: object(2)\n",
      "memory usage: 683.0+ KB\n"
     ]
    }
   ],
   "source": [
    "df_recc.info()"
   ]
  },
  {
   "cell_type": "code",
   "execution_count": 219,
   "metadata": {},
   "outputs": [
    {
     "name": "stdout",
     "output_type": "stream",
     "text": [
      "{'Dinero gastado': 6004.0, 'Recomendaciones': 18    100.0%\n",
      "Name: perc_recomm, dtype: object, 'Cantidad de juegos': 629}\n"
     ]
    }
   ],
   "source": [
    "user_id='maplemage'\n",
    "df_users=pd.read_parquet(r'Datasets/users.parquet')\n",
    "df_recc=pd.read_parquet(r'Datasets/user_recommends.parquet')\n",
    "if user_id in df_users['user_id'].values:\n",
    "    df_users=df_users[df_users['user_id']==user_id]\n",
    "    cantidad_juegos=df_users['items_count'].values[0]\n",
    "    dinero_gastado=df_users['price'].sum().round()\n",
    "    if user_id in df_recc['user_id'].values:\n",
    "        recomendaciones=df_recc[df_recc['user_id']==user_id]['perc_recomm']\n",
    "    else:\n",
    "        recomendaciones=0\n",
    "    respuesta={'Dinero gastado':dinero_gastado,'Recomendaciones':recomendaciones,'Cantidad de juegos':cantidad_juegos,}\n",
    "    print(respuesta)\n",
    "else:\n",
    "    print('No existe el usuario')"
   ]
  },
  {
   "cell_type": "markdown",
   "metadata": {},
   "source": [
    "def UserForGenre( genero : str ): Debe devolver el usuario que acumula más horas jugadas para el género dado y una lista de la acumulación de horas jugadas por año de lanzamiento."
   ]
  },
  {
   "cell_type": "code",
   "execution_count": 256,
   "metadata": {},
   "outputs": [],
   "source": [
    "genre='Action'\n",
    "df_users=pd.read_parquet(r'Datasets/users.parquet')\n",
    "if genre in df_users['genres'].values:\n",
    "    df_users=df_users[df_users['genres']==genre]\n",
    "    df_users.drop(columns=['items_count','price','genres'],inplace=True)\n",
    "    usuario=df_users.groupby('user_id')['playtime_forever'].sum().idxmax()\n",
    "    df_users=df_users[df_users['user_id']==usuario]\n",
    "    horas_jugadas = [{'Año': row['release_year'], 'Horas': row['playtime_forever']} for index, row in df_users.iterrows()]\n",
    "    respuesta={'Usuario con mas horas jugadas para el genero '+ genre:usuario,'Horas jugadas':horas_jugadas}\n",
    "else:\n",
    "    print('No existe el genero')"
   ]
  },
  {
   "cell_type": "markdown",
   "metadata": {},
   "source": [
    "def best_developer_year( año : int ): Devuelve el top 3 de desarrolladores con juegos MÁS recomendados por usuarios para el año dado. (reviews.recommend = True y comentarios positivos)"
   ]
  },
  {
   "cell_type": "code",
   "execution_count": 61,
   "metadata": {},
   "outputs": [],
   "source": [
    "#Se carga el dataset de los desarrolladores\n",
    "df_developers=pd.read_parquet(r'Datasets/developers.parquet')\n",
    "anio=2011\n",
    "if anio in df_developers['release_year'].values:\n",
    "    df_developers=df_developers[df_developers['release_year']==anio]\n",
    "    df_developers.drop(columns=['price','item_id','Negative','Neutral','Positive','False','release_year'],axis=1,inplace=True)\n",
    "    df_developers=df_developers.groupby('developer')['True'].sum()\n",
    "    df_developers=df_developers.sort_values(ascending=False)\n",
    "    respuesta=[{'Puesto '+str(i+1):df_developers.index[i]} for i in range(3)]\n",
    "    json.dumps(respuesta, cls=NpEncoder, ensure_ascii=False)\n",
    "else:\n",
    "    print('Año no encontrado')"
   ]
  },
  {
   "cell_type": "code",
   "execution_count": 62,
   "metadata": {},
   "outputs": [],
   "source": [
    "df=pd.read_parquet(r'Datasets/developers.parquet')"
   ]
  },
  {
   "cell_type": "code",
   "execution_count": 69,
   "metadata": {},
   "outputs": [
    {
     "data": {
      "text/plain": [
       "release_year\n",
       "2015    668\n",
       "2014    550\n",
       "2016    428\n",
       "2013    331\n",
       "2012    233\n",
       "2011    160\n",
       "2010    109\n",
       "2009     92\n",
       "2008     63\n",
       "2007     55\n",
       "2017     50\n",
       "2006     47\n",
       "2005     30\n",
       "2003     27\n",
       "2004     25\n",
       "2001     16\n",
       "1998     14\n",
       "2002     14\n",
       "1997     13\n",
       "1999     11\n",
       "2000      9\n",
       "1994      6\n",
       "1995      5\n",
       "1996      5\n",
       "1993      3\n",
       "1992      3\n",
       "1990      2\n",
       "1989      1\n",
       "1991      1\n",
       "Name: count, dtype: int64"
      ]
     },
     "execution_count": 69,
     "metadata": {},
     "output_type": "execute_result"
    }
   ],
   "source": [
    "df['release_year'].value_counts()"
   ]
  },
  {
   "cell_type": "markdown",
   "metadata": {},
   "source": [
    "def developer_reviews_analysis( desarrolladora : str ): Según el desarrollador, se devuelve un diccionario con el nombre del desarrollador como llave y una lista con la cantidad total de registros de reseñas de usuarios que se encuentren categorizados con un análisis de sentimiento como valor positivo o negativo."
   ]
  },
  {
   "cell_type": "code",
   "execution_count": 51,
   "metadata": {},
   "outputs": [],
   "source": [
    "#Se carga el dataset de los desarrolladores\n",
    "df_developers=pd.read_parquet(r'Datasets/developers.parquet')\n",
    "desarrollador=\"valve\"\n",
    "desarrollador=desarrollador.title()\n",
    "desarrollador\n",
    "\n",
    "if desarrollador in df_developers['developer'].values:\n",
    "    respuesta=df_developers[df_developers['developer']==desarrollador][['Positive','Negative']].sum()\n",
    "else:\n",
    "    print('Desarrollador no encontrado')"
   ]
  },
  {
   "cell_type": "code",
   "execution_count": 52,
   "metadata": {},
   "outputs": [],
   "source": [
    "respuesta = [f\"{k} = {v}\" for k, v in respuesta.items()]"
   ]
  },
  {
   "cell_type": "code",
   "execution_count": 53,
   "metadata": {},
   "outputs": [
    {
     "data": {
      "text/plain": [
       "'[\"Positive = 1009\", \"Negative = 113\"]'"
      ]
     },
     "execution_count": 53,
     "metadata": {},
     "output_type": "execute_result"
    }
   ],
   "source": [
    "json.dumps(respuesta, cls=NpEncoder, ensure_ascii=False)"
   ]
  }
 ],
 "metadata": {
  "kernelspec": {
   "display_name": "Python 3",
   "language": "python",
   "name": "python3"
  },
  "language_info": {
   "codemirror_mode": {
    "name": "ipython",
    "version": 3
   },
   "file_extension": ".py",
   "mimetype": "text/x-python",
   "name": "python",
   "nbconvert_exporter": "python",
   "pygments_lexer": "ipython3",
   "version": "3.12.1"
  }
 },
 "nbformat": 4,
 "nbformat_minor": 2
}
