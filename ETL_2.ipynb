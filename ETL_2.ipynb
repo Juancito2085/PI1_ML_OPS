{
 "cells": [
  {
   "cell_type": "markdown",
   "metadata": {},
   "source": [
    "# ETL"
   ]
  },
  {
   "cell_type": "markdown",
   "metadata": {},
   "source": [
    "Aquí se realizarán las transformaciones necesarias para tener datasets para optimizar las consultas."
   ]
  },
  {
   "cell_type": "code",
   "execution_count": 12,
   "metadata": {},
   "outputs": [],
   "source": [
    "import pandas as pd\n",
    "import numpy as np\n",
    "import ast\n",
    "import json"
   ]
  },
  {
   "cell_type": "code",
   "execution_count": 13,
   "metadata": {},
   "outputs": [],
   "source": [
    "#Se cargan todos los datos limpios para poder hacer las transformaciones necesarias\n",
    "df_games=pd.read_parquet(r'Datasets/steam_games_clean.parquet')\n",
    "df_users=pd.read_parquet(r'Datasets/users_items_clean.parquet')\n",
    "df_reviews=pd.read_parquet(r'Datasets/user_reviews_clean.parquet')"
   ]
  },
  {
   "cell_type": "markdown",
   "metadata": {},
   "source": [
    "## Análisis de sentimiento\n",
    "En esta sección antes de realizar otras transformaciones se realizara el análisis de sentimientos mediante la librería **TextBlob** para simplificar el proceso. Pero esta análisis se puede realizar con otras librerías más complejas o mas elaboradas."
   ]
  },
  {
   "cell_type": "code",
   "execution_count": 15,
   "metadata": {},
   "outputs": [],
   "source": [
    "from textblob import TextBlob\n",
    "\n",
    "#Se crea una función para devolver el el análisis de sentimiento \n",
    "#de un review pero en un rango de 0 a 2\n",
    "def sentiment(review):\n",
    "    blob=TextBlob(review)\n",
    "    resultado=1 + round(blob.sentiment.polarity)\n",
    "    return resultado\n",
    "\n",
    "#Se aplica la función a todos los reviews y se crea la columna nueva sentiment\n",
    "df_reviews['sentiment']=df_reviews['review'].apply(sentiment)\n",
    "\n",
    "#Se elimina la columna review\n",
    "df_reviews.drop(columns=['review'],inplace=True)"
   ]
  },
  {
   "cell_type": "markdown",
   "metadata": {},
   "source": [
    "## Transformación\n",
    "Una vez finalizado el análisis de sentimiento vamos a comenzar a transformar y unir los datasets para que la API y el modelo de similitud del coseno puedan utilizarlos"
   ]
  },
  {
   "cell_type": "markdown",
   "metadata": {},
   "source": [
    "### Dataset developers"
   ]
  },
  {
   "cell_type": "code",
   "execution_count": 16,
   "metadata": {},
   "outputs": [],
   "source": [
    "#Se agrupa los datos por item id y se crea un nuevo dataframe con la cantidad de reviews positivos, negativos y neutros\n",
    "df_item_sentiment_counts = df_reviews.groupby('item_id')['sentiment'].value_counts().unstack().reset_index()\n",
    "\n",
    "#Se crea un nuevo dataframe con la cantidad de recomendaciones positivas y negativas\n",
    "df_item_recommend_count=df_reviews.groupby('item_id')['recommend'].value_counts().unstack().reset_index()\n",
    "\n",
    "#Se unen los dos dataframes anteriores\n",
    "df_counts=pd.merge(df_item_sentiment_counts,df_item_recommend_count,on='item_id')\n",
    "\n",
    "#Se rellenan los valores nulos con 0\n",
    "df_counts.fillna(0,inplace=True)\n",
    "\n",
    "#Se une el dataframe de los juegos con el dataframe de los conteos\n",
    "df_developers=pd.merge(df_games[['price','developer','release_year','id']],df_counts,left_on='id',right_on='item_id')\n",
    "\n",
    "#Se elimina la columna id que no se van a utilizar\n",
    "df_developers.drop('id',axis=1,inplace=True)\n",
    "\n",
    "#Se renombran las columnas\n",
    "df_developers.rename(columns={'0_x':'Negative','1_x':'Neutral',2:'Positive','False_y':'False','True_y':'True'},inplace=True)\n",
    "\n",
    "#Se cambian los tipos de datos de las columnas\n",
    "df_developers = df_developers.astype({'release_year':'int16','Negative': 'int16', 'Neutral': 'int16', 'Positive': 'int16', 'False': 'int16', 'True': 'int16'})"
   ]
  },
  {
   "cell_type": "code",
   "execution_count": 17,
   "metadata": {},
   "outputs": [
    {
     "name": "stdout",
     "output_type": "stream",
     "text": [
      "<class 'pandas.core.frame.DataFrame'>\n",
      "RangeIndex: 2971 entries, 0 to 2970\n",
      "Data columns (total 9 columns):\n",
      " #   Column        Non-Null Count  Dtype  \n",
      "---  ------        --------------  -----  \n",
      " 0   price         2971 non-null   float64\n",
      " 1   developer     2971 non-null   object \n",
      " 2   release_year  2971 non-null   int16  \n",
      " 3   item_id       2971 non-null   int32  \n",
      " 4   Negative      2971 non-null   int16  \n",
      " 5   Neutral       2971 non-null   int16  \n",
      " 6   Positive      2971 non-null   int16  \n",
      " 7   False         2971 non-null   int16  \n",
      " 8   True          2971 non-null   int16  \n",
      "dtypes: float64(1), int16(6), int32(1), object(1)\n",
      "memory usage: 93.0+ KB\n"
     ]
    }
   ],
   "source": [
    "#Corroboramos el dafatrame final\n",
    "df_developers.info()"
   ]
  },
  {
   "cell_type": "code",
   "execution_count": 18,
   "metadata": {},
   "outputs": [],
   "source": [
    "#Se guarda el dataframe en un archivo parquet\n",
    "df_developers.to_parquet(r'Datasets/developers.parquet')"
   ]
  },
  {
   "cell_type": "markdown",
   "metadata": {},
   "source": [
    "### Datasets de users"
   ]
  },
  {
   "cell_type": "code",
   "execution_count": 22,
   "metadata": {},
   "outputs": [],
   "source": [
    "df_games=pd.read_parquet(r'Datasets/steam_games_clean.parquet')\n",
    "df_users=pd.read_parquet(r'Datasets/users_items_clean.parquet')\n",
    "df_reviews=pd.read_parquet(r'Datasets/user_reviews_clean.parquet')"
   ]
  },
  {
   "cell_type": "code",
   "execution_count": 23,
   "metadata": {},
   "outputs": [],
   "source": [
    "#Se cambia el tipo de dato de los usuarios a string\n",
    "df_users['user_id']=df_users['user_id'].astype('str')"
   ]
  },
  {
   "cell_type": "code",
   "execution_count": 24,
   "metadata": {},
   "outputs": [],
   "source": [
    "#Se crea el df1 de la unión de los juegos y los usuarios y se eliminan las columnas que no se utilizan\n",
    "df1=pd.merge(df_games,df_users,left_on='id',right_on='item_id',how= 'inner')\n",
    "df1.drop(columns=['id','developer','app_name','tags'],inplace=True)\n",
    "df1.drop(columns=['item_id'],inplace=True)\n",
    "\n",
    "#En la columna de generos se toma solo el primer genero como más importante\n",
    "df1['genres'] = df1['genres'].apply(lambda x: x[0] if len(x) > 0 else None)\n",
    "\n",
    "#Se crea un nuevo dataframe con la cantidad de items por usuario\n",
    "df_grouped = df1.groupby(['release_year', 'items_count', 'user_id','genres']).sum().reset_index()\n"
   ]
  },
  {
   "cell_type": "code",
   "execution_count": 26,
   "metadata": {},
   "outputs": [
    {
     "name": "stdout",
     "output_type": "stream",
     "text": [
      "<class 'pandas.core.frame.DataFrame'>\n",
      "RangeIndex: 1219006 entries, 0 to 1219005\n",
      "Data columns (total 6 columns):\n",
      " #   Column            Non-Null Count    Dtype  \n",
      "---  ------            --------------    -----  \n",
      " 0   release_year      1219006 non-null  object \n",
      " 1   items_count       1219006 non-null  int16  \n",
      " 2   user_id           1219006 non-null  object \n",
      " 3   genres            1219006 non-null  object \n",
      " 4   price             1219006 non-null  float64\n",
      " 5   playtime_forever  1219006 non-null  float32\n",
      "dtypes: float32(1), float64(1), int16(1), object(3)\n",
      "memory usage: 44.2+ MB\n"
     ]
    }
   ],
   "source": [
    "df_grouped.info()"
   ]
  },
  {
   "cell_type": "code",
   "execution_count": 27,
   "metadata": {},
   "outputs": [
    {
     "data": {
      "text/html": [
       "<div>\n",
       "<style scoped>\n",
       "    .dataframe tbody tr th:only-of-type {\n",
       "        vertical-align: middle;\n",
       "    }\n",
       "\n",
       "    .dataframe tbody tr th {\n",
       "        vertical-align: top;\n",
       "    }\n",
       "\n",
       "    .dataframe thead th {\n",
       "        text-align: right;\n",
       "    }\n",
       "</style>\n",
       "<table border=\"1\" class=\"dataframe\">\n",
       "  <thead>\n",
       "    <tr style=\"text-align: right;\">\n",
       "      <th></th>\n",
       "      <th>release_year</th>\n",
       "      <th>items_count</th>\n",
       "      <th>user_id</th>\n",
       "      <th>genres</th>\n",
       "      <th>price</th>\n",
       "      <th>playtime_forever</th>\n",
       "    </tr>\n",
       "  </thead>\n",
       "  <tbody>\n",
       "    <tr>\n",
       "      <th>3</th>\n",
       "      <td>1983</td>\n",
       "      <td>43</td>\n",
       "      <td>76561198064710856</td>\n",
       "      <td>Action</td>\n",
       "      <td>9.99</td>\n",
       "      <td>37.0</td>\n",
       "    </tr>\n",
       "    <tr>\n",
       "      <th>101</th>\n",
       "      <td>1984</td>\n",
       "      <td>43</td>\n",
       "      <td>76561198064710856</td>\n",
       "      <td>Action</td>\n",
       "      <td>9.99</td>\n",
       "      <td>92.0</td>\n",
       "    </tr>\n",
       "    <tr>\n",
       "      <th>367606</th>\n",
       "      <td>2009</td>\n",
       "      <td>43</td>\n",
       "      <td>76561198064710856</td>\n",
       "      <td>Action</td>\n",
       "      <td>0.00</td>\n",
       "      <td>21.0</td>\n",
       "    </tr>\n",
       "    <tr>\n",
       "      <th>541589</th>\n",
       "      <td>2011</td>\n",
       "      <td>43</td>\n",
       "      <td>76561198064710856</td>\n",
       "      <td>Action</td>\n",
       "      <td>9.99</td>\n",
       "      <td>0.0</td>\n",
       "    </tr>\n",
       "    <tr>\n",
       "      <th>754098</th>\n",
       "      <td>2013</td>\n",
       "      <td>43</td>\n",
       "      <td>76561198064710856</td>\n",
       "      <td>Action</td>\n",
       "      <td>14.99</td>\n",
       "      <td>109.0</td>\n",
       "    </tr>\n",
       "    <tr>\n",
       "      <th>878543</th>\n",
       "      <td>2014</td>\n",
       "      <td>43</td>\n",
       "      <td>76561198064710856</td>\n",
       "      <td>Action</td>\n",
       "      <td>1.99</td>\n",
       "      <td>178.0</td>\n",
       "    </tr>\n",
       "    <tr>\n",
       "      <th>999554</th>\n",
       "      <td>2015</td>\n",
       "      <td>43</td>\n",
       "      <td>76561198064710856</td>\n",
       "      <td>Action</td>\n",
       "      <td>14.99</td>\n",
       "      <td>497.0</td>\n",
       "    </tr>\n",
       "    <tr>\n",
       "      <th>999555</th>\n",
       "      <td>2015</td>\n",
       "      <td>43</td>\n",
       "      <td>76561198064710856</td>\n",
       "      <td>Free to Play</td>\n",
       "      <td>0.00</td>\n",
       "      <td>1.0</td>\n",
       "    </tr>\n",
       "    <tr>\n",
       "      <th>1110294</th>\n",
       "      <td>2016</td>\n",
       "      <td>43</td>\n",
       "      <td>76561198064710856</td>\n",
       "      <td>Action</td>\n",
       "      <td>0.00</td>\n",
       "      <td>12.0</td>\n",
       "    </tr>\n",
       "    <tr>\n",
       "      <th>1189323</th>\n",
       "      <td>2017</td>\n",
       "      <td>43</td>\n",
       "      <td>76561198064710856</td>\n",
       "      <td>Action</td>\n",
       "      <td>60.00</td>\n",
       "      <td>0.0</td>\n",
       "    </tr>\n",
       "  </tbody>\n",
       "</table>\n",
       "</div>"
      ],
      "text/plain": [
       "        release_year  items_count            user_id        genres  price  \\\n",
       "3               1983           43  76561198064710856        Action   9.99   \n",
       "101             1984           43  76561198064710856        Action   9.99   \n",
       "367606          2009           43  76561198064710856        Action   0.00   \n",
       "541589          2011           43  76561198064710856        Action   9.99   \n",
       "754098          2013           43  76561198064710856        Action  14.99   \n",
       "878543          2014           43  76561198064710856        Action   1.99   \n",
       "999554          2015           43  76561198064710856        Action  14.99   \n",
       "999555          2015           43  76561198064710856  Free to Play   0.00   \n",
       "1110294         2016           43  76561198064710856        Action   0.00   \n",
       "1189323         2017           43  76561198064710856        Action  60.00   \n",
       "\n",
       "         playtime_forever  \n",
       "3                    37.0  \n",
       "101                  92.0  \n",
       "367606               21.0  \n",
       "541589                0.0  \n",
       "754098              109.0  \n",
       "878543              178.0  \n",
       "999554              497.0  \n",
       "999555                1.0  \n",
       "1110294              12.0  \n",
       "1189323               0.0  "
      ]
     },
     "execution_count": 27,
     "metadata": {},
     "output_type": "execute_result"
    }
   ],
   "source": [
    "df_grouped[df_grouped['user_id']=='76561198064710856']"
   ]
  },
  {
   "cell_type": "code",
   "execution_count": 28,
   "metadata": {},
   "outputs": [],
   "source": [
    "#Se guarda el dataframe en un archivo parquet\n",
    "df_grouped.to_parquet(r'Datasets/users.parquet')"
   ]
  },
  {
   "cell_type": "markdown",
   "metadata": {},
   "source": [
    "### Dataset users_recommends"
   ]
  },
  {
   "cell_type": "code",
   "execution_count": 31,
   "metadata": {},
   "outputs": [],
   "source": [
    "#Se crea el dataframe 2 con los reviews y se eliminan las columnas que no se utilizan\n",
    "df2=df_reviews.copy()\n",
    "df2=df2.drop(columns=(['review','item_id']),axis=1)\n",
    "#Se agrupan por user id y se cuentan las recomendaciones \n",
    "total=df2.groupby('user_id')['recommend'].count()\n",
    "#Se cuentan las recomendaciones positivas\n",
    "positivos=df2[df2['recommend']==True].groupby('user_id')['recommend'].count()\n",
    "positivos=positivos.reindex(total.index,fill_value=0)\n",
    "#Se calcula el porcentaje\n",
    "porcentaje_positivos=positivos*100/total\n",
    "#Se unen los dataframes\n",
    "df2=pd.merge(df2,porcentaje_positivos,on='user_id')\n",
    "#Se eliminan los duplicados\n",
    "df2.drop_duplicates(inplace=True)\n",
    "#Se eliminan la columna que no se utiliza\n",
    "df2.drop(columns=['recommend_x'],inplace=True)\n",
    "#Se renombran la columna\n",
    "df2.rename(columns={'recommend_y':'perc_recomm'},inplace=True)\n",
    "#Se convierte al columna a string y se le agrega el signo de porcentaje\n",
    "df2['perc_recomm']=df2['perc_recomm'].astype('str')+'%'\n",
    "#Se convierte la columna user_id a string\n",
    "df2['user_id']=df2['user_id'].astype('str')"
   ]
  },
  {
   "cell_type": "code",
   "execution_count": 32,
   "metadata": {},
   "outputs": [],
   "source": [
    "#Se guarda el dataframe en un archivo parquet\n",
    "df2.to_parquet(r'Datasets/user_recommends.parquet')"
   ]
  },
  {
   "cell_type": "markdown",
   "metadata": {},
   "source": [
    "### Dataset data_ML"
   ]
  },
  {
   "cell_type": "code",
   "execution_count": 34,
   "metadata": {},
   "outputs": [],
   "source": [
    "df=df_games.copy()\n",
    "\n",
    "#Se eliminan las columnas que no se van a utilizar\n",
    "df.drop(columns=['developer','price'],inplace=True)\n",
    "\n",
    "#Para simplicar se elige el primer valor de la lista dentro de la columna genres\n",
    "df['genres'] = df['genres'].apply(lambda x: x[0] if len(x) > 0 else None)\n",
    "\n",
    "#Se toma solo el primer tag para simplificar\n",
    "df['tags'] = df['tags'].apply(lambda x: x[0] if len(x) > 0 else None)\n",
    "\n",
    "#Se convierte la columna del año a entero\n",
    "df_developers['release_year']=df_developers['release_year'].astype('int16')"
   ]
  },
  {
   "cell_type": "code",
   "execution_count": 35,
   "metadata": {},
   "outputs": [],
   "source": [
    "df.to_parquet(r'Datasets/data_ML.parquet')"
   ]
  },
  {
   "cell_type": "markdown",
   "metadata": {},
   "source": [
    "# Prueba de ENDPOINTS"
   ]
  },
  {
   "cell_type": "markdown",
   "metadata": {},
   "source": [
    "def developer( desarrollador : str ): Cantidad de items y porcentaje de contenido Free por año según empresa desarrolladora. "
   ]
  },
  {
   "cell_type": "code",
   "execution_count": 45,
   "metadata": {},
   "outputs": [],
   "source": [
    "#Se carga el dataset de los desarrolladores\n",
    "df_developers=pd.read_parquet(r'Datasets/developers.parquet')\n",
    "\n",
    "#Se normaliza la entrada\n",
    "developer='valve'\n",
    "developer=developer.title()\n",
    "\n",
    "#Se verifica que el desarrollador este en el dataset\n",
    "if developer in df_developers['developer'].values:\n",
    "    df_developers=df_developers[df_developers['developer']==developer]\n",
    "    #Se eliminan las columnas que no se van a utilizar\n",
    "    df_developers.drop(columns=['Negative','Neutral','Positive','True','False','developer'],inplace=True)\n",
    "    #Total de items por cada año\n",
    "    total = df_developers.groupby('release_year')['price'].count()\n",
    "    #Cuenta la cantidad de items que no son gratis\n",
    "    no_ceros = df_developers[df_developers['price'] != 0].groupby('release_year')['price'].count()\n",
    "    no_ceros= no_ceros.reindex(total.index, fill_value=0)\n",
    "    #Calacula la proporción de items gratis\n",
    "    proporcion_gratis =round((1- no_ceros / total)*100,2)\n",
    "    proporcion_gratis=proporcion_gratis.astype('str')+'%'\n",
    "    #Doy formato a la respuesta\n",
    "    data = [{'Año': year, 'Cantidad de items': total[year], 'Contenido free': proporcion_gratis[year]} for year in total.index]\n",
    "    data={developer:data}  \n",
    "else:\n",
    "    print('No existe el desarrollador')"
   ]
  },
  {
   "cell_type": "code",
   "execution_count": 46,
   "metadata": {},
   "outputs": [
    {
     "data": {
      "text/plain": [
       "{'Valve': [{'Año': 1998, 'Cantidad de items': 1, 'Contenido free': '0.0%'},\n",
       "  {'Año': 1999, 'Cantidad de items': 1, 'Contenido free': '0.0%'},\n",
       "  {'Año': 2000, 'Cantidad de items': 2, 'Contenido free': '0.0%'},\n",
       "  {'Año': 2001, 'Cantidad de items': 1, 'Contenido free': '0.0%'},\n",
       "  {'Año': 2003, 'Cantidad de items': 1, 'Contenido free': '0.0%'},\n",
       "  {'Año': 2004, 'Cantidad de items': 5, 'Contenido free': '0.0%'},\n",
       "  {'Año': 2006, 'Cantidad de items': 2, 'Contenido free': '0.0%'},\n",
       "  {'Año': 2007, 'Cantidad de items': 3, 'Contenido free': '33.33%'},\n",
       "  {'Año': 2008, 'Cantidad de items': 1, 'Contenido free': '0.0%'},\n",
       "  {'Año': 2009, 'Cantidad de items': 1, 'Contenido free': '0.0%'},\n",
       "  {'Año': 2010, 'Cantidad de items': 2, 'Contenido free': '50.0%'},\n",
       "  {'Año': 2011, 'Cantidad de items': 1, 'Contenido free': '0.0%'},\n",
       "  {'Año': 2012, 'Cantidad de items': 1, 'Contenido free': '0.0%'},\n",
       "  {'Año': 2016, 'Cantidad de items': 1, 'Contenido free': '100.0%'}]}"
      ]
     },
     "execution_count": 46,
     "metadata": {},
     "output_type": "execute_result"
    }
   ],
   "source": [
    "data"
   ]
  },
  {
   "cell_type": "code",
   "execution_count": 47,
   "metadata": {},
   "outputs": [
    {
     "data": {
      "text/plain": [
       "{'Valve': [{'Año': 1998, 'Cantidad de items': 1, 'Contenido free': '0.0%'},\n",
       "  {'Año': 1999, 'Cantidad de items': 1, 'Contenido free': '0.0%'},\n",
       "  {'Año': 2000, 'Cantidad de items': 2, 'Contenido free': '0.0%'},\n",
       "  {'Año': 2001, 'Cantidad de items': 1, 'Contenido free': '0.0%'},\n",
       "  {'Año': 2003, 'Cantidad de items': 1, 'Contenido free': '0.0%'},\n",
       "  {'Año': 2004, 'Cantidad de items': 5, 'Contenido free': '0.0%'},\n",
       "  {'Año': 2006, 'Cantidad de items': 2, 'Contenido free': '0.0%'},\n",
       "  {'Año': 2007, 'Cantidad de items': 3, 'Contenido free': '33.33%'},\n",
       "  {'Año': 2008, 'Cantidad de items': 1, 'Contenido free': '0.0%'},\n",
       "  {'Año': 2009, 'Cantidad de items': 1, 'Contenido free': '0.0%'},\n",
       "  {'Año': 2010, 'Cantidad de items': 2, 'Contenido free': '50.0%'},\n",
       "  {'Año': 2011, 'Cantidad de items': 1, 'Contenido free': '0.0%'},\n",
       "  {'Año': 2012, 'Cantidad de items': 1, 'Contenido free': '0.0%'},\n",
       "  {'Año': 2016, 'Cantidad de items': 1, 'Contenido free': '100.0%'}]}"
      ]
     },
     "execution_count": 47,
     "metadata": {},
     "output_type": "execute_result"
    }
   ],
   "source": [
    "data"
   ]
  },
  {
   "cell_type": "code",
   "execution_count": 48,
   "metadata": {},
   "outputs": [],
   "source": [
    "class NpEncoder(json.JSONEncoder):\n",
    "    def default(self, obj):\n",
    "        if isinstance(obj, np.integer):\n",
    "            return int(obj)\n",
    "        if isinstance(obj, np.floating):\n",
    "            return float(obj)\n",
    "        if isinstance(obj, np.ndarray):\n",
    "            return obj.tolist()\n",
    "        return super(NpEncoder, self).default(obj)"
   ]
  },
  {
   "cell_type": "code",
   "execution_count": 49,
   "metadata": {},
   "outputs": [
    {
     "data": {
      "text/plain": [
       "'{\"Valve\": [{\"Año\": 1998, \"Cantidad de items\": 1, \"Contenido free\": \"0.0%\"}, {\"Año\": 1999, \"Cantidad de items\": 1, \"Contenido free\": \"0.0%\"}, {\"Año\": 2000, \"Cantidad de items\": 2, \"Contenido free\": \"0.0%\"}, {\"Año\": 2001, \"Cantidad de items\": 1, \"Contenido free\": \"0.0%\"}, {\"Año\": 2003, \"Cantidad de items\": 1, \"Contenido free\": \"0.0%\"}, {\"Año\": 2004, \"Cantidad de items\": 5, \"Contenido free\": \"0.0%\"}, {\"Año\": 2006, \"Cantidad de items\": 2, \"Contenido free\": \"0.0%\"}, {\"Año\": 2007, \"Cantidad de items\": 3, \"Contenido free\": \"33.33%\"}, {\"Año\": 2008, \"Cantidad de items\": 1, \"Contenido free\": \"0.0%\"}, {\"Año\": 2009, \"Cantidad de items\": 1, \"Contenido free\": \"0.0%\"}, {\"Año\": 2010, \"Cantidad de items\": 2, \"Contenido free\": \"50.0%\"}, {\"Año\": 2011, \"Cantidad de items\": 1, \"Contenido free\": \"0.0%\"}, {\"Año\": 2012, \"Cantidad de items\": 1, \"Contenido free\": \"0.0%\"}, {\"Año\": 2016, \"Cantidad de items\": 1, \"Contenido free\": \"100.0%\"}]}'"
      ]
     },
     "execution_count": 49,
     "metadata": {},
     "output_type": "execute_result"
    }
   ],
   "source": [
    "json.dumps(data, cls=NpEncoder, ensure_ascii=False)"
   ]
  },
  {
   "cell_type": "markdown",
   "metadata": {},
   "source": [
    "def userdata( User_id : str ): Debe devolver cantidad de dinero gastado por el usuario, el porcentaje de recomendación en base a reviews.recommend y cantidad de items."
   ]
  },
  {
   "cell_type": "code",
   "execution_count": 213,
   "metadata": {},
   "outputs": [],
   "source": []
  },
  {
   "cell_type": "code",
   "execution_count": 199,
   "metadata": {},
   "outputs": [],
   "source": []
  },
  {
   "cell_type": "code",
   "execution_count": 193,
   "metadata": {},
   "outputs": [
    {
     "name": "stdout",
     "output_type": "stream",
     "text": [
      "<class 'pandas.core.frame.DataFrame'>\n",
      "Index: 29142 entries, 0 to 59302\n",
      "Data columns (total 2 columns):\n",
      " #   Column       Non-Null Count  Dtype \n",
      "---  ------       --------------  ----- \n",
      " 0   user_id      29142 non-null  object\n",
      " 1   perc_recomm  29142 non-null  object\n",
      "dtypes: object(2)\n",
      "memory usage: 683.0+ KB\n"
     ]
    }
   ],
   "source": [
    "df_recc.info()"
   ]
  },
  {
   "cell_type": "code",
   "execution_count": 219,
   "metadata": {},
   "outputs": [
    {
     "name": "stdout",
     "output_type": "stream",
     "text": [
      "{'Dinero gastado': 6004.0, 'Recomendaciones': 18    100.0%\n",
      "Name: perc_recomm, dtype: object, 'Cantidad de juegos': 629}\n"
     ]
    }
   ],
   "source": [
    "user_id='maplemage'\n",
    "df_users=pd.read_parquet(r'Datasets/users.parquet')\n",
    "df_recc=pd.read_parquet(r'Datasets/user_recommends.parquet')\n",
    "if user_id in df_users['user_id'].values:\n",
    "    df_users=df_users[df_users['user_id']==user_id]\n",
    "    cantidad_juegos=df_users['items_count'].values[0]\n",
    "    dinero_gastado=df_users['price'].sum().round()\n",
    "    if user_id in df_recc['user_id'].values:\n",
    "        recomendaciones=df_recc[df_recc['user_id']==user_id]['perc_recomm']\n",
    "    else:\n",
    "        recomendaciones=0\n",
    "    respuesta={'Dinero gastado':dinero_gastado,'Recomendaciones':recomendaciones,'Cantidad de juegos':cantidad_juegos,}\n",
    "    print(respuesta)\n",
    "else:\n",
    "    print('No existe el usuario')"
   ]
  },
  {
   "cell_type": "markdown",
   "metadata": {},
   "source": [
    "def UserForGenre( genero : str ): Debe devolver el usuario que acumula más horas jugadas para el género dado y una lista de la acumulación de horas jugadas por año de lanzamiento."
   ]
  },
  {
   "cell_type": "code",
   "execution_count": 256,
   "metadata": {},
   "outputs": [],
   "source": [
    "genre='Action'\n",
    "df_users=pd.read_parquet(r'Datasets/users.parquet')\n",
    "if genre in df_users['genres'].values:\n",
    "    df_users=df_users[df_users['genres']==genre]\n",
    "    df_users.drop(columns=['items_count','price','genres'],inplace=True)\n",
    "    usuario=df_users.groupby('user_id')['playtime_forever'].sum().idxmax()\n",
    "    df_users=df_users[df_users['user_id']==usuario]\n",
    "    horas_jugadas = [{'Año': row['release_year'], 'Horas': row['playtime_forever']} for index, row in df_users.iterrows()]\n",
    "    respuesta={'Usuario con mas horas jugadas para el genero '+ genre:usuario,'Horas jugadas':horas_jugadas}\n",
    "else:\n",
    "    print('No existe el genero')"
   ]
  },
  {
   "cell_type": "markdown",
   "metadata": {},
   "source": [
    "def best_developer_year( año : int ): Devuelve el top 3 de desarrolladores con juegos MÁS recomendados por usuarios para el año dado. (reviews.recommend = True y comentarios positivos)"
   ]
  },
  {
   "cell_type": "code",
   "execution_count": 61,
   "metadata": {},
   "outputs": [],
   "source": [
    "#Se carga el dataset de los desarrolladores\n",
    "df_developers=pd.read_parquet(r'Datasets/developers.parquet')\n",
    "anio=2011\n",
    "if anio in df_developers['release_year'].values:\n",
    "    df_developers=df_developers[df_developers['release_year']==anio]\n",
    "    df_developers.drop(columns=['price','item_id','Negative','Neutral','Positive','False','release_year'],axis=1,inplace=True)\n",
    "    df_developers=df_developers.groupby('developer')['True'].sum()\n",
    "    df_developers=df_developers.sort_values(ascending=False)\n",
    "    respuesta=[{'Puesto '+str(i+1):df_developers.index[i]} for i in range(3)]\n",
    "    json.dumps(respuesta, cls=NpEncoder, ensure_ascii=False)\n",
    "else:\n",
    "    print('Año no encontrado')"
   ]
  },
  {
   "cell_type": "code",
   "execution_count": 62,
   "metadata": {},
   "outputs": [],
   "source": [
    "df=pd.read_parquet(r'Datasets/developers.parquet')"
   ]
  },
  {
   "cell_type": "code",
   "execution_count": 69,
   "metadata": {},
   "outputs": [
    {
     "data": {
      "text/plain": [
       "release_year\n",
       "2015    668\n",
       "2014    550\n",
       "2016    428\n",
       "2013    331\n",
       "2012    233\n",
       "2011    160\n",
       "2010    109\n",
       "2009     92\n",
       "2008     63\n",
       "2007     55\n",
       "2017     50\n",
       "2006     47\n",
       "2005     30\n",
       "2003     27\n",
       "2004     25\n",
       "2001     16\n",
       "1998     14\n",
       "2002     14\n",
       "1997     13\n",
       "1999     11\n",
       "2000      9\n",
       "1994      6\n",
       "1995      5\n",
       "1996      5\n",
       "1993      3\n",
       "1992      3\n",
       "1990      2\n",
       "1989      1\n",
       "1991      1\n",
       "Name: count, dtype: int64"
      ]
     },
     "execution_count": 69,
     "metadata": {},
     "output_type": "execute_result"
    }
   ],
   "source": [
    "df['release_year'].value_counts()"
   ]
  },
  {
   "cell_type": "markdown",
   "metadata": {},
   "source": [
    "def developer_reviews_analysis( desarrolladora : str ): Según el desarrollador, se devuelve un diccionario con el nombre del desarrollador como llave y una lista con la cantidad total de registros de reseñas de usuarios que se encuentren categorizados con un análisis de sentimiento como valor positivo o negativo."
   ]
  },
  {
   "cell_type": "code",
   "execution_count": 51,
   "metadata": {},
   "outputs": [],
   "source": [
    "#Se carga el dataset de los desarrolladores\n",
    "df_developers=pd.read_parquet(r'Datasets/developers.parquet')\n",
    "desarrollador=\"valve\"\n",
    "desarrollador=desarrollador.title()\n",
    "desarrollador\n",
    "\n",
    "if desarrollador in df_developers['developer'].values:\n",
    "    respuesta=df_developers[df_developers['developer']==desarrollador][['Positive','Negative']].sum()\n",
    "else:\n",
    "    print('Desarrollador no encontrado')"
   ]
  },
  {
   "cell_type": "code",
   "execution_count": 52,
   "metadata": {},
   "outputs": [],
   "source": [
    "respuesta = [f\"{k} = {v}\" for k, v in respuesta.items()]"
   ]
  },
  {
   "cell_type": "code",
   "execution_count": 53,
   "metadata": {},
   "outputs": [
    {
     "data": {
      "text/plain": [
       "'[\"Positive = 1009\", \"Negative = 113\"]'"
      ]
     },
     "execution_count": 53,
     "metadata": {},
     "output_type": "execute_result"
    }
   ],
   "source": [
    "json.dumps(respuesta, cls=NpEncoder, ensure_ascii=False)"
   ]
  }
 ],
 "metadata": {
  "kernelspec": {
   "display_name": "Python 3",
   "language": "python",
   "name": "python3"
  },
  "language_info": {
   "codemirror_mode": {
    "name": "ipython",
    "version": 3
   },
   "file_extension": ".py",
   "mimetype": "text/x-python",
   "name": "python",
   "nbconvert_exporter": "python",
   "pygments_lexer": "ipython3",
   "version": "3.12.1"
  }
 },
 "nbformat": 4,
 "nbformat_minor": 2
}
