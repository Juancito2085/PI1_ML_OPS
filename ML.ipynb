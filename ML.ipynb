{
 "cells": [
  {
   "cell_type": "markdown",
   "metadata": {},
   "source": [
    "# ML similitud del coseno"
   ]
  },
  {
   "cell_type": "code",
   "execution_count": 1,
   "metadata": {},
   "outputs": [],
   "source": [
    "import pandas as pd\n",
    "import numpy as np\n",
    "from sklearn.feature_extraction.text import TfidfVectorizer\n",
    "from sklearn.metrics.pairwise import cosine_similarity\n",
    "from sklearn.preprocessing import LabelEncoder"
   ]
  },
  {
   "cell_type": "markdown",
   "metadata": {},
   "source": [
    "## EDA preliminar"
   ]
  },
  {
   "cell_type": "markdown",
   "metadata": {},
   "source": [
    "En primer lugar se realizará un análisis exploratorio para poder reducir los datos debido a los recursos del entorno donde se hace el despliegue de la aplicación "
   ]
  },
  {
   "cell_type": "code",
   "execution_count": 6,
   "metadata": {},
   "outputs": [],
   "source": [
    "#Se cargan los datos\n",
    "df_games=pd.read_parquet('Datasets/data_ML.parquet')"
   ]
  },
  {
   "cell_type": "code",
   "execution_count": 3,
   "metadata": {},
   "outputs": [],
   "source": [
    "df_users=pd.read_parquet('Datasets/users_items_clean.parquet')"
   ]
  },
  {
   "cell_type": "code",
   "execution_count": 11,
   "metadata": {},
   "outputs": [],
   "source": [
    "df_games['release_year']=df_games['release_year'].astype('int16')"
   ]
  },
  {
   "cell_type": "code",
   "execution_count": 13,
   "metadata": {},
   "outputs": [
    {
     "name": "stdout",
     "output_type": "stream",
     "text": [
      "<class 'pandas.core.frame.DataFrame'>\n",
      "RangeIndex: 27442 entries, 0 to 27441\n",
      "Data columns (total 5 columns):\n",
      " #   Column        Non-Null Count  Dtype \n",
      "---  ------        --------------  ----- \n",
      " 0   genres        27442 non-null  object\n",
      " 1   app_name      27442 non-null  object\n",
      " 2   tags          27442 non-null  object\n",
      " 3   id            27442 non-null  int32 \n",
      " 4   release_year  27442 non-null  int16 \n",
      "dtypes: int16(1), int32(1), object(3)\n",
      "memory usage: 804.1+ KB\n"
     ]
    }
   ],
   "source": [
    "df_games.info()"
   ]
  },
  {
   "cell_type": "code",
   "execution_count": 12,
   "metadata": {},
   "outputs": [
    {
     "name": "stdout",
     "output_type": "stream",
     "text": [
      "<class 'pandas.core.frame.DataFrame'>\n",
      "RangeIndex: 3865427 entries, 0 to 3865426\n",
      "Data columns (total 4 columns):\n",
      " #   Column            Dtype  \n",
      "---  ------            -----  \n",
      " 0   user_id           object \n",
      " 1   items_count       int16  \n",
      " 2   item_id           int32  \n",
      " 3   playtime_forever  float16\n",
      "dtypes: float16(1), int16(1), int32(1), object(1)\n",
      "memory usage: 59.0+ MB\n"
     ]
    }
   ],
   "source": [
    "df_users.info()"
   ]
  },
  {
   "cell_type": "code",
   "execution_count": 71,
   "metadata": {},
   "outputs": [],
   "source": [
    "df_most_popular=pd.merge(df_games,df_users[['item_id','playtime_forever']],left_on='id',right_on='item_id',how='inner')"
   ]
  },
  {
   "cell_type": "code",
   "execution_count": 73,
   "metadata": {},
   "outputs": [],
   "source": [
    "df_most_popular.drop(columns=['item_id','id'],inplace=True)"
   ]
  },
  {
   "cell_type": "code",
   "execution_count": 74,
   "metadata": {},
   "outputs": [],
   "source": [
    "df_most_popular=df_most_popular[df_most_popular['release_year']>=2014]"
   ]
  },
  {
   "cell_type": "code",
   "execution_count": 76,
   "metadata": {},
   "outputs": [],
   "source": [
    "df_playtime=df_most_popular.groupby('app_name')['playtime_forever'].sum().reset_index()"
   ]
  },
  {
   "cell_type": "code",
   "execution_count": 77,
   "metadata": {},
   "outputs": [
    {
     "data": {
      "text/html": [
       "<div>\n",
       "<style scoped>\n",
       "    .dataframe tbody tr th:only-of-type {\n",
       "        vertical-align: middle;\n",
       "    }\n",
       "\n",
       "    .dataframe tbody tr th {\n",
       "        vertical-align: top;\n",
       "    }\n",
       "\n",
       "    .dataframe thead th {\n",
       "        text-align: right;\n",
       "    }\n",
       "</style>\n",
       "<table border=\"1\" class=\"dataframe\">\n",
       "  <thead>\n",
       "    <tr style=\"text-align: right;\">\n",
       "      <th></th>\n",
       "      <th>app_name</th>\n",
       "      <th>playtime_forever</th>\n",
       "    </tr>\n",
       "  </thead>\n",
       "  <tbody>\n",
       "    <tr>\n",
       "      <th>5373</th>\n",
       "      <td>Unturned</td>\n",
       "      <td>1786035.0</td>\n",
       "    </tr>\n",
       "    <tr>\n",
       "      <th>2774</th>\n",
       "      <td>Loadout</td>\n",
       "      <td>1084753.0</td>\n",
       "    </tr>\n",
       "    <tr>\n",
       "      <th>3973</th>\n",
       "      <td>Robocraft</td>\n",
       "      <td>884821.0</td>\n",
       "    </tr>\n",
       "    <tr>\n",
       "      <th>2235</th>\n",
       "      <td>Heroes &amp; Generals</td>\n",
       "      <td>882531.0</td>\n",
       "    </tr>\n",
       "    <tr>\n",
       "      <th>2035</th>\n",
       "      <td>Goat Simulator</td>\n",
       "      <td>816752.0</td>\n",
       "    </tr>\n",
       "    <tr>\n",
       "      <th>...</th>\n",
       "      <td>...</td>\n",
       "      <td>...</td>\n",
       "    </tr>\n",
       "    <tr>\n",
       "      <th>5250</th>\n",
       "      <td>Trawl</td>\n",
       "      <td>0.0</td>\n",
       "    </tr>\n",
       "    <tr>\n",
       "      <th>5251</th>\n",
       "      <td>Trebuchet</td>\n",
       "      <td>0.0</td>\n",
       "    </tr>\n",
       "    <tr>\n",
       "      <th>3975</th>\n",
       "      <td>Robot Exploration Squad</td>\n",
       "      <td>0.0</td>\n",
       "    </tr>\n",
       "    <tr>\n",
       "      <th>5256</th>\n",
       "      <td>Tri Original Soundtrack + Artbook</td>\n",
       "      <td>0.0</td>\n",
       "    </tr>\n",
       "    <tr>\n",
       "      <th>1756</th>\n",
       "      <td>Fatehaven</td>\n",
       "      <td>0.0</td>\n",
       "    </tr>\n",
       "  </tbody>\n",
       "</table>\n",
       "<p>5741 rows × 2 columns</p>\n",
       "</div>"
      ],
      "text/plain": [
       "                               app_name  playtime_forever\n",
       "5373                           Unturned         1786035.0\n",
       "2774                            Loadout         1084753.0\n",
       "3973                          Robocraft          884821.0\n",
       "2235                  Heroes & Generals          882531.0\n",
       "2035                     Goat Simulator          816752.0\n",
       "...                                 ...               ...\n",
       "5250                              Trawl               0.0\n",
       "5251                          Trebuchet               0.0\n",
       "3975            Robot Exploration Squad               0.0\n",
       "5256  Tri Original Soundtrack + Artbook               0.0\n",
       "1756                          Fatehaven               0.0\n",
       "\n",
       "[5741 rows x 2 columns]"
      ]
     },
     "execution_count": 77,
     "metadata": {},
     "output_type": "execute_result"
    }
   ],
   "source": [
    "df_playtime.sort_values(by='playtime_forever',ascending=False)"
   ]
  },
  {
   "cell_type": "code",
   "execution_count": 78,
   "metadata": {},
   "outputs": [],
   "source": [
    "df_playtime=df_playtime[df_playtime['playtime_forever']>0]"
   ]
  },
  {
   "cell_type": "code",
   "execution_count": 79,
   "metadata": {},
   "outputs": [
    {
     "data": {
      "text/html": [
       "<div>\n",
       "<style scoped>\n",
       "    .dataframe tbody tr th:only-of-type {\n",
       "        vertical-align: middle;\n",
       "    }\n",
       "\n",
       "    .dataframe tbody tr th {\n",
       "        vertical-align: top;\n",
       "    }\n",
       "\n",
       "    .dataframe thead th {\n",
       "        text-align: right;\n",
       "    }\n",
       "</style>\n",
       "<table border=\"1\" class=\"dataframe\">\n",
       "  <thead>\n",
       "    <tr style=\"text-align: right;\">\n",
       "      <th></th>\n",
       "      <th>app_name</th>\n",
       "      <th>playtime_forever</th>\n",
       "    </tr>\n",
       "  </thead>\n",
       "  <tbody>\n",
       "    <tr>\n",
       "      <th>0</th>\n",
       "      <td>! That Bastard Is Trying To Steal Our Gold !</td>\n",
       "      <td>43.0</td>\n",
       "    </tr>\n",
       "    <tr>\n",
       "      <th>1</th>\n",
       "      <td>\"Glow Ball\" - The Billiard Puzzle Game</td>\n",
       "      <td>21.0</td>\n",
       "    </tr>\n",
       "    <tr>\n",
       "      <th>2</th>\n",
       "      <td>$1 Ride</td>\n",
       "      <td>1522.0</td>\n",
       "    </tr>\n",
       "    <tr>\n",
       "      <th>4</th>\n",
       "      <td>//N.P.P.D. Rush//- The Milk Of Ultraviolet</td>\n",
       "      <td>14722.0</td>\n",
       "    </tr>\n",
       "    <tr>\n",
       "      <th>5</th>\n",
       "      <td>//Snowflake Tattoo//</td>\n",
       "      <td>5034.0</td>\n",
       "    </tr>\n",
       "    <tr>\n",
       "      <th>...</th>\n",
       "      <td>...</td>\n",
       "      <td>...</td>\n",
       "    </tr>\n",
       "    <tr>\n",
       "      <th>5735</th>\n",
       "      <td>[The Sequence]</td>\n",
       "      <td>174.0</td>\n",
       "    </tr>\n",
       "    <tr>\n",
       "      <th>5736</th>\n",
       "      <td>Астролорды: Облако Оорта</td>\n",
       "      <td>310.0</td>\n",
       "    </tr>\n",
       "    <tr>\n",
       "      <th>5738</th>\n",
       "      <td>侠客风云传(Tale Of Wuxia)</td>\n",
       "      <td>92.0</td>\n",
       "    </tr>\n",
       "    <tr>\n",
       "      <th>5739</th>\n",
       "      <td>神明的一天世界(God'S One Day World)</td>\n",
       "      <td>249.0</td>\n",
       "    </tr>\n",
       "    <tr>\n",
       "      <th>5740</th>\n",
       "      <td>軒轅劍外傳穹之扉(The Gate Of Firmament)</td>\n",
       "      <td>431.0</td>\n",
       "    </tr>\n",
       "  </tbody>\n",
       "</table>\n",
       "<p>5197 rows × 2 columns</p>\n",
       "</div>"
      ],
      "text/plain": [
       "                                          app_name  playtime_forever\n",
       "0     ! That Bastard Is Trying To Steal Our Gold !              43.0\n",
       "1           \"Glow Ball\" - The Billiard Puzzle Game              21.0\n",
       "2                                          $1 Ride            1522.0\n",
       "4       //N.P.P.D. Rush//- The Milk Of Ultraviolet           14722.0\n",
       "5                             //Snowflake Tattoo//            5034.0\n",
       "...                                            ...               ...\n",
       "5735                                [The Sequence]             174.0\n",
       "5736                      Астролорды: Облако Оорта             310.0\n",
       "5738                          侠客风云传(Tale Of Wuxia)              92.0\n",
       "5739                  神明的一天世界(God'S One Day World)             249.0\n",
       "5740               軒轅劍外傳穹之扉(The Gate Of Firmament)             431.0\n",
       "\n",
       "[5197 rows x 2 columns]"
      ]
     },
     "execution_count": 79,
     "metadata": {},
     "output_type": "execute_result"
    }
   ],
   "source": [
    "df_playtime"
   ]
  },
  {
   "cell_type": "code",
   "execution_count": 41,
   "metadata": {},
   "outputs": [],
   "source": [
    "data=pd.merge(df_playtime['app_name'],df_games,left_on='app_name',right_on='app_name',how='inner')"
   ]
  },
  {
   "cell_type": "code",
   "execution_count": 47,
   "metadata": {},
   "outputs": [],
   "source": [
    "data.drop('release_year',axis=1,inplace=True)"
   ]
  },
  {
   "cell_type": "code",
   "execution_count": 48,
   "metadata": {},
   "outputs": [],
   "source": [
    "data.to_parquet('Datasets/data.parquet')"
   ]
  },
  {
   "cell_type": "markdown",
   "metadata": {},
   "source": [
    "## Modelo de la similitud del coseno"
   ]
  },
  {
   "cell_type": "code",
   "execution_count": 81,
   "metadata": {},
   "outputs": [],
   "source": [
    "df=pd.read_parquet('Datasets/data.parquet')"
   ]
  },
  {
   "cell_type": "code",
   "execution_count": 105,
   "metadata": {},
   "outputs": [
    {
     "name": "stdout",
     "output_type": "stream",
     "text": [
      "<class 'pandas.core.frame.DataFrame'>\n",
      "RangeIndex: 5211 entries, 0 to 5210\n",
      "Data columns (total 4 columns):\n",
      " #   Column    Non-Null Count  Dtype \n",
      "---  ------    --------------  ----- \n",
      " 0   app_name  5211 non-null   object\n",
      " 1   genres    5211 non-null   int32 \n",
      " 2   tags      5211 non-null   int32 \n",
      " 3   id        5211 non-null   int32 \n",
      "dtypes: int32(3), object(1)\n",
      "memory usage: 101.9+ KB\n"
     ]
    }
   ],
   "source": [
    "df.info()"
   ]
  },
  {
   "cell_type": "code",
   "execution_count": 97,
   "metadata": {},
   "outputs": [],
   "source": [
    "le = LabelEncoder()\n",
    "df['genres'] = le.fit_transform(df['genres'])\n",
    "df['tags'] = le.fit_transform(df['tags'])"
   ]
  },
  {
   "cell_type": "code",
   "execution_count": 55,
   "metadata": {},
   "outputs": [],
   "source": [
    "df.reset_index(drop=True, inplace=True)"
   ]
  },
  {
   "cell_type": "code",
   "execution_count": 56,
   "metadata": {},
   "outputs": [],
   "source": [
    "#Vectorizar el nombre de los productos\n",
    "vectorizer=TfidfVectorizer()\n",
    "tfidf_matrix=vectorizer.fit_transform(df['app_name'])"
   ]
  },
  {
   "cell_type": "code",
   "execution_count": 57,
   "metadata": {},
   "outputs": [
    {
     "name": "stdout",
     "output_type": "stream",
     "text": [
      "Memory: 0.18424224853515625 MB\n"
     ]
    }
   ],
   "source": [
    "# Calcular la cantidad de memoria en bytes\n",
    "memory_in_bytes = (tfidf_matrix.data.nbytes + tfidf_matrix.indices.nbytes + tfidf_matrix.indptr.nbytes)\n",
    "\n",
    "# Convertir a megabytes\n",
    "memory_in_megabytes = memory_in_bytes / (1024 * 1024)\n",
    "\n",
    "print(f\"Memory: {memory_in_megabytes} MB\")"
   ]
  },
  {
   "cell_type": "code",
   "execution_count": 98,
   "metadata": {},
   "outputs": [],
   "source": [
    "#Combinar características\n",
    "features=np.column_stack([tfidf_matrix.toarray(),df['genres'],df['tags']])"
   ]
  },
  {
   "cell_type": "code",
   "execution_count": 99,
   "metadata": {},
   "outputs": [],
   "source": [
    "#Calcular la matriz de similitud del coseno\n",
    "similarity_matrix=cosine_similarity(features)"
   ]
  },
  {
   "cell_type": "code",
   "execution_count": 104,
   "metadata": {},
   "outputs": [
    {
     "name": "stdout",
     "output_type": "stream",
     "text": [
      "Memory: 207.17255401611328 MB\n"
     ]
    }
   ],
   "source": [
    "\n",
    "# Calcular la cantidad de memoria en bytes\n",
    "memory_in_bytes = similarity_matrix.nbytes\n",
    "\n",
    "# Convertir a megabytes\n",
    "memory_in_megabytes = memory_in_bytes / (1024 * 1024)\n",
    "\n",
    "print(f\"Memory: {memory_in_megabytes} MB\")"
   ]
  },
  {
   "cell_type": "code",
   "execution_count": 101,
   "metadata": {},
   "outputs": [
    {
     "name": "stdout",
     "output_type": "stream",
     "text": [
      "<class 'pandas.core.frame.DataFrame'>\n",
      "RangeIndex: 5211 entries, 0 to 5210\n",
      "Data columns (total 4 columns):\n",
      " #   Column    Non-Null Count  Dtype \n",
      "---  ------    --------------  ----- \n",
      " 0   app_name  5211 non-null   object\n",
      " 1   genres    5211 non-null   int32 \n",
      " 2   tags      5211 non-null   int32 \n",
      " 3   id        5211 non-null   int32 \n",
      "dtypes: int32(3), object(1)\n",
      "memory usage: 101.9+ KB\n"
     ]
    }
   ],
   "source": [
    "df.info()"
   ]
  },
  {
   "cell_type": "code",
   "execution_count": 102,
   "metadata": {},
   "outputs": [
    {
     "data": {
      "text/html": [
       "<div>\n",
       "<style scoped>\n",
       "    .dataframe tbody tr th:only-of-type {\n",
       "        vertical-align: middle;\n",
       "    }\n",
       "\n",
       "    .dataframe tbody tr th {\n",
       "        vertical-align: top;\n",
       "    }\n",
       "\n",
       "    .dataframe thead th {\n",
       "        text-align: right;\n",
       "    }\n",
       "</style>\n",
       "<table border=\"1\" class=\"dataframe\">\n",
       "  <thead>\n",
       "    <tr style=\"text-align: right;\">\n",
       "      <th></th>\n",
       "      <th>app_name</th>\n",
       "      <th>genres</th>\n",
       "      <th>tags</th>\n",
       "      <th>id</th>\n",
       "    </tr>\n",
       "  </thead>\n",
       "  <tbody>\n",
       "    <tr>\n",
       "      <th>896</th>\n",
       "      <td>Co-Op : Decrypted</td>\n",
       "      <td>1</td>\n",
       "      <td>64</td>\n",
       "      <td>315130</td>\n",
       "    </tr>\n",
       "    <tr>\n",
       "      <th>897</th>\n",
       "      <td>Coast Guard</td>\n",
       "      <td>1</td>\n",
       "      <td>6</td>\n",
       "      <td>361200</td>\n",
       "    </tr>\n",
       "    <tr>\n",
       "      <th>898</th>\n",
       "      <td>Cobalt</td>\n",
       "      <td>0</td>\n",
       "      <td>4</td>\n",
       "      <td>357340</td>\n",
       "    </tr>\n",
       "    <tr>\n",
       "      <th>899</th>\n",
       "      <td>Code Of Princess</td>\n",
       "      <td>0</td>\n",
       "      <td>4</td>\n",
       "      <td>408640</td>\n",
       "    </tr>\n",
       "    <tr>\n",
       "      <th>900</th>\n",
       "      <td>Codename Cure</td>\n",
       "      <td>0</td>\n",
       "      <td>52</td>\n",
       "      <td>355180</td>\n",
       "    </tr>\n",
       "    <tr>\n",
       "      <th>...</th>\n",
       "      <td>...</td>\n",
       "      <td>...</td>\n",
       "      <td>...</td>\n",
       "      <td>...</td>\n",
       "    </tr>\n",
       "    <tr>\n",
       "      <th>968</th>\n",
       "      <td>Counter Spell</td>\n",
       "      <td>0</td>\n",
       "      <td>4</td>\n",
       "      <td>351230</td>\n",
       "    </tr>\n",
       "    <tr>\n",
       "      <th>969</th>\n",
       "      <td>Counter-Strike Nexon: Zombies</td>\n",
       "      <td>0</td>\n",
       "      <td>52</td>\n",
       "      <td>273110</td>\n",
       "    </tr>\n",
       "    <tr>\n",
       "      <th>970</th>\n",
       "      <td>Counterattack</td>\n",
       "      <td>0</td>\n",
       "      <td>42</td>\n",
       "      <td>451600</td>\n",
       "    </tr>\n",
       "    <tr>\n",
       "      <th>971</th>\n",
       "      <td>Countless Rooms Of Death</td>\n",
       "      <td>1</td>\n",
       "      <td>64</td>\n",
       "      <td>341380</td>\n",
       "    </tr>\n",
       "    <tr>\n",
       "      <th>972</th>\n",
       "      <td>Courier Of The Crypts</td>\n",
       "      <td>0</td>\n",
       "      <td>42</td>\n",
       "      <td>362940</td>\n",
       "    </tr>\n",
       "  </tbody>\n",
       "</table>\n",
       "<p>77 rows × 4 columns</p>\n",
       "</div>"
      ],
      "text/plain": [
       "                          app_name  genres  tags      id\n",
       "896              Co-Op : Decrypted       1    64  315130\n",
       "897                    Coast Guard       1     6  361200\n",
       "898                         Cobalt       0     4  357340\n",
       "899               Code Of Princess       0     4  408640\n",
       "900                  Codename Cure       0    52  355180\n",
       "..                             ...     ...   ...     ...\n",
       "968                  Counter Spell       0     4  351230\n",
       "969  Counter-Strike Nexon: Zombies       0    52  273110\n",
       "970                  Counterattack       0    42  451600\n",
       "971       Countless Rooms Of Death       1    64  341380\n",
       "972          Courier Of The Crypts       0    42  362940\n",
       "\n",
       "[77 rows x 4 columns]"
      ]
     },
     "execution_count": 102,
     "metadata": {},
     "output_type": "execute_result"
    }
   ],
   "source": [
    "df[df['app_name'].str.startswith('Co',na=False)]"
   ]
  },
  {
   "cell_type": "code",
   "execution_count": 112,
   "metadata": {},
   "outputs": [
    {
     "name": "stdout",
     "output_type": "stream",
     "text": [
      "3075                                         Omg Zombies!\n",
      "2232                                      Infinium Strike\n",
      "1028                          Ctu: Counter Terrorism Unit\n",
      "5162                                                    Z\n",
      "3561    Resident Evil Revelations 2 / Biohazard Revela...\n",
      "Name: app_name, dtype: object\n"
     ]
    }
   ],
   "source": [
    "\n",
    "item_id=273110\n",
    "if df[df['id']==item_id].empty:\n",
    "    print('No existe el item')\n",
    "else:\n",
    "    producto_index=df[df['id']==273110].index[0]\n",
    "    product_similarities=similarity_matrix[producto_index]\n",
    "    most_similar_products_index=np.argsort(-product_similarities)[1:6]\n",
    "    most_similar_products=df.loc[most_similar_products_index,'app_name']\n",
    "    print(most_similar_products)"
   ]
  },
  {
   "cell_type": "code",
   "execution_count": 116,
   "metadata": {},
   "outputs": [
    {
     "data": {
      "text/plain": [
       "'[\"Omg Zombies!\",\"Infinium Strike\",\"Ctu: Counter Terrorism Unit\",\"Z\",\"Resident Evil Revelations 2 \\\\/ Biohazard Revelations 2\"]'"
      ]
     },
     "execution_count": 116,
     "metadata": {},
     "output_type": "execute_result"
    }
   ],
   "source": [
    "most_similar_products.to_json(orient='records')"
   ]
  }
 ],
 "metadata": {
  "kernelspec": {
   "display_name": "Python 3",
   "language": "python",
   "name": "python3"
  },
  "language_info": {
   "codemirror_mode": {
    "name": "ipython",
    "version": 3
   },
   "file_extension": ".py",
   "mimetype": "text/x-python",
   "name": "python",
   "nbconvert_exporter": "python",
   "pygments_lexer": "ipython3",
   "version": "3.12.1"
  }
 },
 "nbformat": 4,
 "nbformat_minor": 2
}
