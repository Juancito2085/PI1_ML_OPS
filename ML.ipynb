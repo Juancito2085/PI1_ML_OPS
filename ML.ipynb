{
 "cells": [
  {
   "cell_type": "markdown",
   "metadata": {},
   "source": [
    "# ML similitud del coseno"
   ]
  },
  {
   "cell_type": "code",
   "execution_count": 1,
   "metadata": {},
   "outputs": [],
   "source": [
    "import pandas as pd\n",
    "import numpy as np\n",
    "from sklearn.feature_extraction.text import TfidfVectorizer\n",
    "from sklearn.metrics.pairwise import cosine_similarity\n",
    "from sklearn.preprocessing import LabelEncoder"
   ]
  },
  {
   "cell_type": "markdown",
   "metadata": {},
   "source": [
    "## EDA preliminar"
   ]
  },
  {
   "cell_type": "markdown",
   "metadata": {},
   "source": [
    "En primer lugar se realizará un análisis exploratorio para poder reducir los datos debido a los recursos del entorno donde se hace el despliegue de la aplicación "
   ]
  },
  {
   "cell_type": "code",
   "execution_count": 2,
   "metadata": {},
   "outputs": [],
   "source": [
    "#Se cargan los datos\n",
    "df_games=pd.read_parquet('Datasets/data_ML.parquet')"
   ]
  },
  {
   "cell_type": "code",
   "execution_count": 3,
   "metadata": {},
   "outputs": [],
   "source": [
    "df_users=pd.read_parquet('Datasets/users_items_clean.parquet')"
   ]
  },
  {
   "cell_type": "code",
   "execution_count": 4,
   "metadata": {},
   "outputs": [],
   "source": [
    "df_games['release_year']=df_games['release_year'].astype('int16')"
   ]
  },
  {
   "cell_type": "code",
   "execution_count": 5,
   "metadata": {},
   "outputs": [
    {
     "name": "stdout",
     "output_type": "stream",
     "text": [
      "<class 'pandas.core.frame.DataFrame'>\n",
      "RangeIndex: 27442 entries, 0 to 27441\n",
      "Data columns (total 5 columns):\n",
      " #   Column        Non-Null Count  Dtype \n",
      "---  ------        --------------  ----- \n",
      " 0   genres        27442 non-null  object\n",
      " 1   app_name      27442 non-null  object\n",
      " 2   tags          27442 non-null  object\n",
      " 3   id            27442 non-null  int32 \n",
      " 4   release_year  27442 non-null  int16 \n",
      "dtypes: int16(1), int32(1), object(3)\n",
      "memory usage: 804.1+ KB\n"
     ]
    }
   ],
   "source": [
    "df_games.info()"
   ]
  },
  {
   "cell_type": "code",
   "execution_count": 6,
   "metadata": {},
   "outputs": [
    {
     "name": "stdout",
     "output_type": "stream",
     "text": [
      "<class 'pandas.core.frame.DataFrame'>\n",
      "RangeIndex: 3865427 entries, 0 to 3865426\n",
      "Data columns (total 4 columns):\n",
      " #   Column            Dtype  \n",
      "---  ------            -----  \n",
      " 0   user_id           object \n",
      " 1   items_count       int16  \n",
      " 2   item_id           int32  \n",
      " 3   playtime_forever  float16\n",
      "dtypes: float16(1), int16(1), int32(1), object(1)\n",
      "memory usage: 59.0+ MB\n"
     ]
    }
   ],
   "source": [
    "df_users.info()"
   ]
  },
  {
   "cell_type": "code",
   "execution_count": 7,
   "metadata": {},
   "outputs": [],
   "source": [
    "df_most_popular=pd.merge(df_games,df_users[['item_id','playtime_forever']],left_on='id',right_on='item_id',how='inner')"
   ]
  },
  {
   "cell_type": "code",
   "execution_count": 8,
   "metadata": {},
   "outputs": [],
   "source": [
    "df_most_popular.drop(columns=['item_id','id'],inplace=True)"
   ]
  },
  {
   "cell_type": "markdown",
   "metadata": {},
   "source": [
    "Filtro los juegos por los que se lanzaron a partir del 2014."
   ]
  },
  {
   "cell_type": "code",
   "execution_count": 9,
   "metadata": {},
   "outputs": [],
   "source": [
    "df_most_popular=df_most_popular[df_most_popular['release_year']>=2014]"
   ]
  },
  {
   "cell_type": "code",
   "execution_count": 10,
   "metadata": {},
   "outputs": [],
   "source": [
    "df_playtime=df_most_popular.groupby('app_name')['playtime_forever'].sum().reset_index()"
   ]
  },
  {
   "cell_type": "code",
   "execution_count": 11,
   "metadata": {},
   "outputs": [
    {
     "data": {
      "text/html": [
       "<div>\n",
       "<style scoped>\n",
       "    .dataframe tbody tr th:only-of-type {\n",
       "        vertical-align: middle;\n",
       "    }\n",
       "\n",
       "    .dataframe tbody tr th {\n",
       "        vertical-align: top;\n",
       "    }\n",
       "\n",
       "    .dataframe thead th {\n",
       "        text-align: right;\n",
       "    }\n",
       "</style>\n",
       "<table border=\"1\" class=\"dataframe\">\n",
       "  <thead>\n",
       "    <tr style=\"text-align: right;\">\n",
       "      <th></th>\n",
       "      <th>app_name</th>\n",
       "      <th>playtime_forever</th>\n",
       "    </tr>\n",
       "  </thead>\n",
       "  <tbody>\n",
       "    <tr>\n",
       "      <th>5373</th>\n",
       "      <td>Unturned</td>\n",
       "      <td>1786035.0</td>\n",
       "    </tr>\n",
       "    <tr>\n",
       "      <th>2774</th>\n",
       "      <td>Loadout</td>\n",
       "      <td>1084753.0</td>\n",
       "    </tr>\n",
       "    <tr>\n",
       "      <th>3973</th>\n",
       "      <td>Robocraft</td>\n",
       "      <td>884821.0</td>\n",
       "    </tr>\n",
       "    <tr>\n",
       "      <th>2235</th>\n",
       "      <td>Heroes &amp; Generals</td>\n",
       "      <td>882531.0</td>\n",
       "    </tr>\n",
       "    <tr>\n",
       "      <th>2035</th>\n",
       "      <td>Goat Simulator</td>\n",
       "      <td>816752.0</td>\n",
       "    </tr>\n",
       "    <tr>\n",
       "      <th>...</th>\n",
       "      <td>...</td>\n",
       "      <td>...</td>\n",
       "    </tr>\n",
       "    <tr>\n",
       "      <th>5250</th>\n",
       "      <td>Trawl</td>\n",
       "      <td>0.0</td>\n",
       "    </tr>\n",
       "    <tr>\n",
       "      <th>5251</th>\n",
       "      <td>Trebuchet</td>\n",
       "      <td>0.0</td>\n",
       "    </tr>\n",
       "    <tr>\n",
       "      <th>3975</th>\n",
       "      <td>Robot Exploration Squad</td>\n",
       "      <td>0.0</td>\n",
       "    </tr>\n",
       "    <tr>\n",
       "      <th>5256</th>\n",
       "      <td>Tri Original Soundtrack + Artbook</td>\n",
       "      <td>0.0</td>\n",
       "    </tr>\n",
       "    <tr>\n",
       "      <th>1756</th>\n",
       "      <td>Fatehaven</td>\n",
       "      <td>0.0</td>\n",
       "    </tr>\n",
       "  </tbody>\n",
       "</table>\n",
       "<p>5741 rows × 2 columns</p>\n",
       "</div>"
      ],
      "text/plain": [
       "                               app_name  playtime_forever\n",
       "5373                           Unturned         1786035.0\n",
       "2774                            Loadout         1084753.0\n",
       "3973                          Robocraft          884821.0\n",
       "2235                  Heroes & Generals          882531.0\n",
       "2035                     Goat Simulator          816752.0\n",
       "...                                 ...               ...\n",
       "5250                              Trawl               0.0\n",
       "5251                          Trebuchet               0.0\n",
       "3975            Robot Exploration Squad               0.0\n",
       "5256  Tri Original Soundtrack + Artbook               0.0\n",
       "1756                          Fatehaven               0.0\n",
       "\n",
       "[5741 rows x 2 columns]"
      ]
     },
     "execution_count": 11,
     "metadata": {},
     "output_type": "execute_result"
    }
   ],
   "source": [
    "df_playtime.sort_values(by='playtime_forever',ascending=False)"
   ]
  },
  {
   "cell_type": "code",
   "execution_count": 12,
   "metadata": {},
   "outputs": [],
   "source": [
    "df_playtime=df_playtime[df_playtime['playtime_forever']>0]"
   ]
  },
  {
   "cell_type": "code",
   "execution_count": 13,
   "metadata": {},
   "outputs": [
    {
     "data": {
      "text/html": [
       "<div>\n",
       "<style scoped>\n",
       "    .dataframe tbody tr th:only-of-type {\n",
       "        vertical-align: middle;\n",
       "    }\n",
       "\n",
       "    .dataframe tbody tr th {\n",
       "        vertical-align: top;\n",
       "    }\n",
       "\n",
       "    .dataframe thead th {\n",
       "        text-align: right;\n",
       "    }\n",
       "</style>\n",
       "<table border=\"1\" class=\"dataframe\">\n",
       "  <thead>\n",
       "    <tr style=\"text-align: right;\">\n",
       "      <th></th>\n",
       "      <th>app_name</th>\n",
       "      <th>playtime_forever</th>\n",
       "    </tr>\n",
       "  </thead>\n",
       "  <tbody>\n",
       "    <tr>\n",
       "      <th>0</th>\n",
       "      <td>! That Bastard Is Trying To Steal Our Gold !</td>\n",
       "      <td>43.0</td>\n",
       "    </tr>\n",
       "    <tr>\n",
       "      <th>1</th>\n",
       "      <td>\"Glow Ball\" - The Billiard Puzzle Game</td>\n",
       "      <td>21.0</td>\n",
       "    </tr>\n",
       "    <tr>\n",
       "      <th>2</th>\n",
       "      <td>$1 Ride</td>\n",
       "      <td>1522.0</td>\n",
       "    </tr>\n",
       "    <tr>\n",
       "      <th>4</th>\n",
       "      <td>//N.P.P.D. Rush//- The Milk Of Ultraviolet</td>\n",
       "      <td>14722.0</td>\n",
       "    </tr>\n",
       "    <tr>\n",
       "      <th>5</th>\n",
       "      <td>//Snowflake Tattoo//</td>\n",
       "      <td>5034.0</td>\n",
       "    </tr>\n",
       "    <tr>\n",
       "      <th>...</th>\n",
       "      <td>...</td>\n",
       "      <td>...</td>\n",
       "    </tr>\n",
       "    <tr>\n",
       "      <th>5735</th>\n",
       "      <td>[The Sequence]</td>\n",
       "      <td>174.0</td>\n",
       "    </tr>\n",
       "    <tr>\n",
       "      <th>5736</th>\n",
       "      <td>Астролорды: Облако Оорта</td>\n",
       "      <td>310.0</td>\n",
       "    </tr>\n",
       "    <tr>\n",
       "      <th>5738</th>\n",
       "      <td>侠客风云传(Tale Of Wuxia)</td>\n",
       "      <td>92.0</td>\n",
       "    </tr>\n",
       "    <tr>\n",
       "      <th>5739</th>\n",
       "      <td>神明的一天世界(God'S One Day World)</td>\n",
       "      <td>249.0</td>\n",
       "    </tr>\n",
       "    <tr>\n",
       "      <th>5740</th>\n",
       "      <td>軒轅劍外傳穹之扉(The Gate Of Firmament)</td>\n",
       "      <td>431.0</td>\n",
       "    </tr>\n",
       "  </tbody>\n",
       "</table>\n",
       "<p>5197 rows × 2 columns</p>\n",
       "</div>"
      ],
      "text/plain": [
       "                                          app_name  playtime_forever\n",
       "0     ! That Bastard Is Trying To Steal Our Gold !              43.0\n",
       "1           \"Glow Ball\" - The Billiard Puzzle Game              21.0\n",
       "2                                          $1 Ride            1522.0\n",
       "4       //N.P.P.D. Rush//- The Milk Of Ultraviolet           14722.0\n",
       "5                             //Snowflake Tattoo//            5034.0\n",
       "...                                            ...               ...\n",
       "5735                                [The Sequence]             174.0\n",
       "5736                      Астролорды: Облако Оорта             310.0\n",
       "5738                          侠客风云传(Tale Of Wuxia)              92.0\n",
       "5739                  神明的一天世界(God'S One Day World)             249.0\n",
       "5740               軒轅劍外傳穹之扉(The Gate Of Firmament)             431.0\n",
       "\n",
       "[5197 rows x 2 columns]"
      ]
     },
     "execution_count": 13,
     "metadata": {},
     "output_type": "execute_result"
    }
   ],
   "source": [
    "df_playtime"
   ]
  },
  {
   "cell_type": "code",
   "execution_count": 14,
   "metadata": {},
   "outputs": [],
   "source": [
    "data=pd.merge(df_playtime['app_name'],df_games,left_on='app_name',right_on='app_name',how='inner')"
   ]
  },
  {
   "cell_type": "code",
   "execution_count": 15,
   "metadata": {},
   "outputs": [
    {
     "name": "stdout",
     "output_type": "stream",
     "text": [
      "<class 'pandas.core.frame.DataFrame'>\n",
      "RangeIndex: 5211 entries, 0 to 5210\n",
      "Data columns (total 5 columns):\n",
      " #   Column        Non-Null Count  Dtype \n",
      "---  ------        --------------  ----- \n",
      " 0   app_name      5211 non-null   object\n",
      " 1   genres        5211 non-null   object\n",
      " 2   tags          5211 non-null   object\n",
      " 3   id            5211 non-null   int32 \n",
      " 4   release_year  5211 non-null   int16 \n",
      "dtypes: int16(1), int32(1), object(3)\n",
      "memory usage: 152.8+ KB\n"
     ]
    }
   ],
   "source": [
    "data.info()"
   ]
  },
  {
   "cell_type": "code",
   "execution_count": 16,
   "metadata": {},
   "outputs": [],
   "source": [
    "data.drop('release_year',axis=1,inplace=True)"
   ]
  },
  {
   "cell_type": "code",
   "execution_count": 17,
   "metadata": {},
   "outputs": [],
   "source": [
    "data.to_parquet('Datasets/data.parquet')"
   ]
  },
  {
   "cell_type": "markdown",
   "metadata": {},
   "source": [
    "## Modelo de la similitud del coseno"
   ]
  },
  {
   "cell_type": "code",
   "execution_count": 18,
   "metadata": {},
   "outputs": [],
   "source": [
    "df=pd.read_parquet('Datasets/data.parquet')"
   ]
  },
  {
   "cell_type": "code",
   "execution_count": 19,
   "metadata": {},
   "outputs": [
    {
     "name": "stdout",
     "output_type": "stream",
     "text": [
      "<class 'pandas.core.frame.DataFrame'>\n",
      "RangeIndex: 5211 entries, 0 to 5210\n",
      "Data columns (total 4 columns):\n",
      " #   Column    Non-Null Count  Dtype \n",
      "---  ------    --------------  ----- \n",
      " 0   app_name  5211 non-null   object\n",
      " 1   genres    5211 non-null   object\n",
      " 2   tags      5211 non-null   object\n",
      " 3   id        5211 non-null   int32 \n",
      "dtypes: int32(1), object(3)\n",
      "memory usage: 142.6+ KB\n"
     ]
    }
   ],
   "source": [
    "df.info()"
   ]
  },
  {
   "cell_type": "code",
   "execution_count": 20,
   "metadata": {},
   "outputs": [],
   "source": [
    "df.reset_index(drop=True, inplace=True)"
   ]
  },
  {
   "cell_type": "code",
   "execution_count": 21,
   "metadata": {},
   "outputs": [],
   "source": [
    "#Vectorizar el nombre de los productos\n",
    "vectorizer=TfidfVectorizer()\n",
    "tfidf_matrix=vectorizer.fit_transform(df[['app_name','genres','tags']].apply(lambda x: ' '.join(x),axis=1))"
   ]
  },
  {
   "cell_type": "code",
   "execution_count": 22,
   "metadata": {},
   "outputs": [
    {
     "name": "stdout",
     "output_type": "stream",
     "text": [
      "Memory: 0.2952156066894531 MB\n"
     ]
    }
   ],
   "source": [
    "# Calcular la cantidad de memoria en bytes\n",
    "memory_in_bytes = (tfidf_matrix.data.nbytes + tfidf_matrix.indices.nbytes + tfidf_matrix.indptr.nbytes)\n",
    "\n",
    "# Convertir a megabytes\n",
    "memory_in_megabytes = memory_in_bytes / (1024 * 1024)\n",
    "\n",
    "print(f\"Memory: {memory_in_megabytes} MB\")"
   ]
  },
  {
   "cell_type": "code",
   "execution_count": 23,
   "metadata": {},
   "outputs": [],
   "source": [
    "#Combinar características\n",
    "#features=np.column_stack([tfidf_matrix.toarray(),df['genres'],df['tags']])"
   ]
  },
  {
   "cell_type": "code",
   "execution_count": 24,
   "metadata": {},
   "outputs": [],
   "source": [
    "#Calcular la matriz de similitud del coseno\n",
    "similarity_matrix=cosine_similarity(tfidf_matrix)"
   ]
  },
  {
   "cell_type": "code",
   "execution_count": 25,
   "metadata": {},
   "outputs": [
    {
     "name": "stdout",
     "output_type": "stream",
     "text": [
      "Memory: 207.17255401611328 MB\n"
     ]
    }
   ],
   "source": [
    "\n",
    "# Calcular la cantidad de memoria en bytes\n",
    "memory_in_bytes = similarity_matrix.nbytes\n",
    "\n",
    "# Convertir a megabytes\n",
    "memory_in_megabytes = memory_in_bytes / (1024 * 1024)\n",
    "\n",
    "print(f\"Memory: {memory_in_megabytes} MB\")"
   ]
  },
  {
   "cell_type": "code",
   "execution_count": 26,
   "metadata": {},
   "outputs": [
    {
     "data": {
      "text/html": [
       "<div>\n",
       "<style scoped>\n",
       "    .dataframe tbody tr th:only-of-type {\n",
       "        vertical-align: middle;\n",
       "    }\n",
       "\n",
       "    .dataframe tbody tr th {\n",
       "        vertical-align: top;\n",
       "    }\n",
       "\n",
       "    .dataframe thead th {\n",
       "        text-align: right;\n",
       "    }\n",
       "</style>\n",
       "<table border=\"1\" class=\"dataframe\">\n",
       "  <thead>\n",
       "    <tr style=\"text-align: right;\">\n",
       "      <th></th>\n",
       "      <th>app_name</th>\n",
       "      <th>genres</th>\n",
       "      <th>tags</th>\n",
       "      <th>id</th>\n",
       "    </tr>\n",
       "  </thead>\n",
       "  <tbody>\n",
       "    <tr>\n",
       "      <th>0</th>\n",
       "      <td>! That Bastard Is Trying To Steal Our Gold !</td>\n",
       "      <td>Action</td>\n",
       "      <td>Action</td>\n",
       "      <td>449940</td>\n",
       "    </tr>\n",
       "    <tr>\n",
       "      <th>1</th>\n",
       "      <td>\"Glow Ball\" - The Billiard Puzzle Game</td>\n",
       "      <td>Casual</td>\n",
       "      <td>Strategy</td>\n",
       "      <td>388390</td>\n",
       "    </tr>\n",
       "    <tr>\n",
       "      <th>2</th>\n",
       "      <td>$1 Ride</td>\n",
       "      <td>Action</td>\n",
       "      <td>Casual</td>\n",
       "      <td>508290</td>\n",
       "    </tr>\n",
       "    <tr>\n",
       "      <th>3</th>\n",
       "      <td>//N.P.P.D. Rush//- The Milk Of Ultraviolet</td>\n",
       "      <td>Action</td>\n",
       "      <td>Indie</td>\n",
       "      <td>270090</td>\n",
       "    </tr>\n",
       "    <tr>\n",
       "      <th>4</th>\n",
       "      <td>//Snowflake Tattoo//</td>\n",
       "      <td>Action</td>\n",
       "      <td>Adventure</td>\n",
       "      <td>355430</td>\n",
       "    </tr>\n",
       "    <tr>\n",
       "      <th>...</th>\n",
       "      <td>...</td>\n",
       "      <td>...</td>\n",
       "      <td>...</td>\n",
       "      <td>...</td>\n",
       "    </tr>\n",
       "    <tr>\n",
       "      <th>5206</th>\n",
       "      <td>[The Sequence]</td>\n",
       "      <td>Indie</td>\n",
       "      <td>Indie</td>\n",
       "      <td>454320</td>\n",
       "    </tr>\n",
       "    <tr>\n",
       "      <th>5207</th>\n",
       "      <td>Астролорды: Облако Оорта</td>\n",
       "      <td>Free to Play</td>\n",
       "      <td>Free to Play</td>\n",
       "      <td>385530</td>\n",
       "    </tr>\n",
       "    <tr>\n",
       "      <th>5208</th>\n",
       "      <td>侠客风云传(Tale Of Wuxia)</td>\n",
       "      <td>Adventure</td>\n",
       "      <td>RPG</td>\n",
       "      <td>377530</td>\n",
       "    </tr>\n",
       "    <tr>\n",
       "      <th>5209</th>\n",
       "      <td>神明的一天世界(God'S One Day World)</td>\n",
       "      <td>Adventure</td>\n",
       "      <td>Adventure</td>\n",
       "      <td>490390</td>\n",
       "    </tr>\n",
       "    <tr>\n",
       "      <th>5210</th>\n",
       "      <td>軒轅劍外傳穹之扉(The Gate Of Firmament)</td>\n",
       "      <td>RPG</td>\n",
       "      <td>RPG</td>\n",
       "      <td>427030</td>\n",
       "    </tr>\n",
       "  </tbody>\n",
       "</table>\n",
       "<p>5211 rows × 4 columns</p>\n",
       "</div>"
      ],
      "text/plain": [
       "                                          app_name        genres  \\\n",
       "0     ! That Bastard Is Trying To Steal Our Gold !        Action   \n",
       "1           \"Glow Ball\" - The Billiard Puzzle Game        Casual   \n",
       "2                                          $1 Ride        Action   \n",
       "3       //N.P.P.D. Rush//- The Milk Of Ultraviolet        Action   \n",
       "4                             //Snowflake Tattoo//        Action   \n",
       "...                                            ...           ...   \n",
       "5206                                [The Sequence]         Indie   \n",
       "5207                      Астролорды: Облако Оорта  Free to Play   \n",
       "5208                          侠客风云传(Tale Of Wuxia)     Adventure   \n",
       "5209                  神明的一天世界(God'S One Day World)     Adventure   \n",
       "5210               軒轅劍外傳穹之扉(The Gate Of Firmament)           RPG   \n",
       "\n",
       "              tags      id  \n",
       "0           Action  449940  \n",
       "1         Strategy  388390  \n",
       "2           Casual  508290  \n",
       "3            Indie  270090  \n",
       "4        Adventure  355430  \n",
       "...            ...     ...  \n",
       "5206         Indie  454320  \n",
       "5207  Free to Play  385530  \n",
       "5208           RPG  377530  \n",
       "5209     Adventure  490390  \n",
       "5210           RPG  427030  \n",
       "\n",
       "[5211 rows x 4 columns]"
      ]
     },
     "execution_count": 26,
     "metadata": {},
     "output_type": "execute_result"
    }
   ],
   "source": [
    "df"
   ]
  },
  {
   "cell_type": "code",
   "execution_count": 27,
   "metadata": {},
   "outputs": [
    {
     "name": "stdout",
     "output_type": "stream",
     "text": [
      "3592             Ride The Bullet\n",
      "3591                        Ride\n",
      "3925           Slide Ride Arcade\n",
      "1764    Funfair Ride Simulator 3\n",
      "3458                   R.O.O.T.S\n",
      "Name: app_name, dtype: object\n"
     ]
    }
   ],
   "source": [
    "\n",
    "item_id=508290\n",
    "if df[df['id']==item_id].empty:\n",
    "    print('No existe el item')\n",
    "else:\n",
    "    producto_index=df[df['id']==item_id].index[0]\n",
    "    product_similarities=similarity_matrix[producto_index]\n",
    "    most_similar_products_index=np.argsort(-product_similarities)[1:6]\n",
    "    most_similar_products=df.loc[most_similar_products_index,'app_name']\n",
    "    print(most_similar_products)"
   ]
  },
  {
   "cell_type": "code",
   "execution_count": 28,
   "metadata": {},
   "outputs": [
    {
     "data": {
      "text/plain": [
       "['Ride The Bullet',\n",
       " 'Ride',\n",
       " 'Slide Ride Arcade',\n",
       " 'Funfair Ride Simulator 3',\n",
       " 'R.O.O.T.S']"
      ]
     },
     "execution_count": 28,
     "metadata": {},
     "output_type": "execute_result"
    }
   ],
   "source": [
    "most_similar_products.values.tolist()"
   ]
  },
  {
   "cell_type": "code",
   "execution_count": 29,
   "metadata": {},
   "outputs": [
    {
     "data": {
      "text/plain": [
       "'[\"Ride The Bullet\",\"Ride\",\"Slide Ride Arcade\",\"Funfair Ride Simulator 3\",\"R.O.O.T.S\"]'"
      ]
     },
     "execution_count": 29,
     "metadata": {},
     "output_type": "execute_result"
    }
   ],
   "source": [
    "most_similar_products.to_json(orient='records')"
   ]
  },
  {
   "cell_type": "code",
   "execution_count": 30,
   "metadata": {},
   "outputs": [
    {
     "data": {
      "text/plain": [
       "{'Recomendación': '[\"Ride The Bullet\",\"Ride\",\"Slide Ride Arcade\",\"Funfair Ride Simulator 3\",\"R.O.O.T.S\"]'}"
      ]
     },
     "execution_count": 30,
     "metadata": {},
     "output_type": "execute_result"
    }
   ],
   "source": [
    "{\"Recomendación\": most_similar_products.to_json(orient='records')}"
   ]
  }
 ],
 "metadata": {
  "kernelspec": {
   "display_name": "Python 3",
   "language": "python",
   "name": "python3"
  },
  "language_info": {
   "codemirror_mode": {
    "name": "ipython",
    "version": 3
   },
   "file_extension": ".py",
   "mimetype": "text/x-python",
   "name": "python",
   "nbconvert_exporter": "python",
   "pygments_lexer": "ipython3",
   "version": "3.12.1"
  }
 },
 "nbformat": 4,
 "nbformat_minor": 2
}
