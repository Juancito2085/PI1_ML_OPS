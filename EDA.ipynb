{
 "cells": [
  {
   "cell_type": "markdown",
   "metadata": {},
   "source": [
    "# EDA\n",
    "En este notebook se hará un análisis exploratorio para poder tener una información mínima de los datos y se planteará como objetivo la reducción de la cantidad de datos debido a que se hara un deploy en la capa gratuita de Render y esta no cuenta con una gran catidad de recursos a nivel computacional."
   ]
  },
  {
   "cell_type": "markdown",
   "metadata": {},
   "source": [
    "## Análisis del archivo steam_games"
   ]
  },
  {
   "cell_type": "code",
   "execution_count": 134,
   "metadata": {},
   "outputs": [],
   "source": [
    "import pandas as pd\n",
    "import numpy as np\n",
    "import gzip\n",
    "import re\n",
    "import ast"
   ]
  },
  {
   "cell_type": "code",
   "execution_count": 135,
   "metadata": {},
   "outputs": [],
   "source": [
    "with gzip.open(r'E:\\Data Science\\PI1\\Datasets\\steam_games.json.gz','rt',encoding='utf-8') as f:\n",
    "    df_games= pd.read_json(f, lines=True)"
   ]
  },
  {
   "cell_type": "code",
   "execution_count": 136,
   "metadata": {},
   "outputs": [
    {
     "data": {
      "text/html": [
       "<div>\n",
       "<style scoped>\n",
       "    .dataframe tbody tr th:only-of-type {\n",
       "        vertical-align: middle;\n",
       "    }\n",
       "\n",
       "    .dataframe tbody tr th {\n",
       "        vertical-align: top;\n",
       "    }\n",
       "\n",
       "    .dataframe thead th {\n",
       "        text-align: right;\n",
       "    }\n",
       "</style>\n",
       "<table border=\"1\" class=\"dataframe\">\n",
       "  <thead>\n",
       "    <tr style=\"text-align: right;\">\n",
       "      <th></th>\n",
       "      <th>publisher</th>\n",
       "      <th>genres</th>\n",
       "      <th>app_name</th>\n",
       "      <th>title</th>\n",
       "      <th>url</th>\n",
       "      <th>release_date</th>\n",
       "      <th>tags</th>\n",
       "      <th>reviews_url</th>\n",
       "      <th>specs</th>\n",
       "      <th>price</th>\n",
       "      <th>early_access</th>\n",
       "      <th>id</th>\n",
       "      <th>developer</th>\n",
       "    </tr>\n",
       "  </thead>\n",
       "  <tbody>\n",
       "    <tr>\n",
       "      <th>0</th>\n",
       "      <td>None</td>\n",
       "      <td>None</td>\n",
       "      <td>None</td>\n",
       "      <td>None</td>\n",
       "      <td>None</td>\n",
       "      <td>None</td>\n",
       "      <td>None</td>\n",
       "      <td>None</td>\n",
       "      <td>None</td>\n",
       "      <td>None</td>\n",
       "      <td>NaN</td>\n",
       "      <td>NaN</td>\n",
       "      <td>None</td>\n",
       "    </tr>\n",
       "    <tr>\n",
       "      <th>1</th>\n",
       "      <td>None</td>\n",
       "      <td>None</td>\n",
       "      <td>None</td>\n",
       "      <td>None</td>\n",
       "      <td>None</td>\n",
       "      <td>None</td>\n",
       "      <td>None</td>\n",
       "      <td>None</td>\n",
       "      <td>None</td>\n",
       "      <td>None</td>\n",
       "      <td>NaN</td>\n",
       "      <td>NaN</td>\n",
       "      <td>None</td>\n",
       "    </tr>\n",
       "    <tr>\n",
       "      <th>2</th>\n",
       "      <td>None</td>\n",
       "      <td>None</td>\n",
       "      <td>None</td>\n",
       "      <td>None</td>\n",
       "      <td>None</td>\n",
       "      <td>None</td>\n",
       "      <td>None</td>\n",
       "      <td>None</td>\n",
       "      <td>None</td>\n",
       "      <td>None</td>\n",
       "      <td>NaN</td>\n",
       "      <td>NaN</td>\n",
       "      <td>None</td>\n",
       "    </tr>\n",
       "    <tr>\n",
       "      <th>3</th>\n",
       "      <td>None</td>\n",
       "      <td>None</td>\n",
       "      <td>None</td>\n",
       "      <td>None</td>\n",
       "      <td>None</td>\n",
       "      <td>None</td>\n",
       "      <td>None</td>\n",
       "      <td>None</td>\n",
       "      <td>None</td>\n",
       "      <td>None</td>\n",
       "      <td>NaN</td>\n",
       "      <td>NaN</td>\n",
       "      <td>None</td>\n",
       "    </tr>\n",
       "    <tr>\n",
       "      <th>4</th>\n",
       "      <td>None</td>\n",
       "      <td>None</td>\n",
       "      <td>None</td>\n",
       "      <td>None</td>\n",
       "      <td>None</td>\n",
       "      <td>None</td>\n",
       "      <td>None</td>\n",
       "      <td>None</td>\n",
       "      <td>None</td>\n",
       "      <td>None</td>\n",
       "      <td>NaN</td>\n",
       "      <td>NaN</td>\n",
       "      <td>None</td>\n",
       "    </tr>\n",
       "  </tbody>\n",
       "</table>\n",
       "</div>"
      ],
      "text/plain": [
       "  publisher genres app_name title   url release_date  tags reviews_url specs  \\\n",
       "0      None   None     None  None  None         None  None        None  None   \n",
       "1      None   None     None  None  None         None  None        None  None   \n",
       "2      None   None     None  None  None         None  None        None  None   \n",
       "3      None   None     None  None  None         None  None        None  None   \n",
       "4      None   None     None  None  None         None  None        None  None   \n",
       "\n",
       "  price  early_access  id developer  \n",
       "0  None           NaN NaN      None  \n",
       "1  None           NaN NaN      None  \n",
       "2  None           NaN NaN      None  \n",
       "3  None           NaN NaN      None  \n",
       "4  None           NaN NaN      None  "
      ]
     },
     "execution_count": 136,
     "metadata": {},
     "output_type": "execute_result"
    }
   ],
   "source": [
    "df_games.head()"
   ]
  },
  {
   "cell_type": "markdown",
   "metadata": {},
   "source": [
    "Se ve primero un vistazo general del dataframe y se evaluará que columnas son utiles para el MVP."
   ]
  },
  {
   "cell_type": "code",
   "execution_count": 137,
   "metadata": {},
   "outputs": [
    {
     "name": "stdout",
     "output_type": "stream",
     "text": [
      "<class 'pandas.core.frame.DataFrame'>\n",
      "RangeIndex: 120445 entries, 0 to 120444\n",
      "Data columns (total 13 columns):\n",
      " #   Column        Non-Null Count  Dtype  \n",
      "---  ------        --------------  -----  \n",
      " 0   publisher     24083 non-null  object \n",
      " 1   genres        28852 non-null  object \n",
      " 2   app_name      32133 non-null  object \n",
      " 3   title         30085 non-null  object \n",
      " 4   url           32135 non-null  object \n",
      " 5   release_date  30068 non-null  object \n",
      " 6   tags          31972 non-null  object \n",
      " 7   reviews_url   32133 non-null  object \n",
      " 8   specs         31465 non-null  object \n",
      " 9   price         30758 non-null  object \n",
      " 10  early_access  32135 non-null  float64\n",
      " 11  id            32133 non-null  float64\n",
      " 12  developer     28836 non-null  object \n",
      "dtypes: float64(2), object(11)\n",
      "memory usage: 11.9+ MB\n"
     ]
    }
   ],
   "source": [
    "df_games.info()"
   ]
  },
  {
   "cell_type": "markdown",
   "metadata": {},
   "source": [
    "Como primer paso se eliminan los datos que no aportan nada de información."
   ]
  },
  {
   "cell_type": "code",
   "execution_count": 138,
   "metadata": {},
   "outputs": [],
   "source": [
    "df_games.drop(['publisher','url','specs','early_access','reviews_url'],axis=1,inplace=True)"
   ]
  },
  {
   "cell_type": "markdown",
   "metadata": {},
   "source": [
    "Se ve como alrededor del 25% del total de entradas tienen información, por lo que se eliminan las filas vacias a continuación."
   ]
  },
  {
   "cell_type": "code",
   "execution_count": 139,
   "metadata": {},
   "outputs": [],
   "source": [
    "df_games=df_games.dropna(how='all')"
   ]
  },
  {
   "cell_type": "markdown",
   "metadata": {},
   "source": [
    "Veremos ahora la cantidad de nulos"
   ]
  },
  {
   "cell_type": "code",
   "execution_count": 140,
   "metadata": {},
   "outputs": [
    {
     "data": {
      "text/plain": [
       "genres          3283\n",
       "app_name           2\n",
       "title           2050\n",
       "release_date    2067\n",
       "tags             163\n",
       "price           1377\n",
       "id                 2\n",
       "developer       3299\n",
       "dtype: int64"
      ]
     },
     "execution_count": 140,
     "metadata": {},
     "output_type": "execute_result"
    }
   ],
   "source": [
    "df_games.isnull().sum()"
   ]
  },
  {
   "cell_type": "markdown",
   "metadata": {},
   "source": [
    "Primero se va a eliminar las filas donde los campos tengan pocos datos faltantes como *app_name*,*tags* e *id*."
   ]
  },
  {
   "cell_type": "code",
   "execution_count": 141,
   "metadata": {},
   "outputs": [],
   "source": [
    "df_games.dropna(subset=['app_name','tags','id'],inplace=True)"
   ]
  },
  {
   "cell_type": "markdown",
   "metadata": {},
   "source": [
    "Por simplicidad y debido a que es un MVP se borrarán los nulos de las columnas *genres*, *release_date*, *price* y *developer*.  "
   ]
  },
  {
   "cell_type": "code",
   "execution_count": 142,
   "metadata": {},
   "outputs": [],
   "source": [
    "df_games.dropna(subset=['genres','release_date','price','developer'],inplace=True)"
   ]
  },
  {
   "cell_type": "markdown",
   "metadata": {},
   "source": [
    "Se verifica a continuación el estado del daframe para verificar si sigue habiendo datos nulos."
   ]
  },
  {
   "cell_type": "code",
   "execution_count": 143,
   "metadata": {},
   "outputs": [
    {
     "data": {
      "text/plain": [
       "genres          0\n",
       "app_name        0\n",
       "title           0\n",
       "release_date    0\n",
       "tags            0\n",
       "price           0\n",
       "id              0\n",
       "developer       0\n",
       "dtype: int64"
      ]
     },
     "execution_count": 143,
     "metadata": {},
     "output_type": "execute_result"
    }
   ],
   "source": [
    "df_games.isnull().sum()"
   ]
  },
  {
   "cell_type": "markdown",
   "metadata": {},
   "source": [
    "Ahora se comparan las columnas de *app_name* y *title* para ver su similitud y se tiene datos redundantes."
   ]
  },
  {
   "cell_type": "code",
   "execution_count": 144,
   "metadata": {},
   "outputs": [
    {
     "data": {
      "text/html": [
       "<div>\n",
       "<style scoped>\n",
       "    .dataframe tbody tr th:only-of-type {\n",
       "        vertical-align: middle;\n",
       "    }\n",
       "\n",
       "    .dataframe tbody tr th {\n",
       "        vertical-align: top;\n",
       "    }\n",
       "\n",
       "    .dataframe thead th {\n",
       "        text-align: right;\n",
       "    }\n",
       "</style>\n",
       "<table border=\"1\" class=\"dataframe\">\n",
       "  <thead>\n",
       "    <tr style=\"text-align: right;\">\n",
       "      <th></th>\n",
       "      <th>genres</th>\n",
       "      <th>app_name</th>\n",
       "      <th>title</th>\n",
       "      <th>release_date</th>\n",
       "      <th>tags</th>\n",
       "      <th>price</th>\n",
       "      <th>id</th>\n",
       "      <th>developer</th>\n",
       "    </tr>\n",
       "  </thead>\n",
       "  <tbody>\n",
       "    <tr>\n",
       "      <th>88390</th>\n",
       "      <td>[Action, Adventure]</td>\n",
       "      <td>Sam &amp; Max 101: Culture Shock</td>\n",
       "      <td>Sam &amp;amp; Max 101: Culture Shock</td>\n",
       "      <td>2006-10-17</td>\n",
       "      <td>[Point &amp; Click, Comedy, Adventure, Detective, ...</td>\n",
       "      <td>19.99</td>\n",
       "      <td>8200.0</td>\n",
       "      <td>Telltale Games</td>\n",
       "    </tr>\n",
       "    <tr>\n",
       "      <th>88393</th>\n",
       "      <td>[Action, Adventure]</td>\n",
       "      <td>Sam &amp; Max 102: Situation: Comedy</td>\n",
       "      <td>Sam &amp;amp; Max 102: Situation: Comedy</td>\n",
       "      <td>2006-12-20</td>\n",
       "      <td>[Adventure, Action]</td>\n",
       "      <td>19.99</td>\n",
       "      <td>8210.0</td>\n",
       "      <td>Telltale Games</td>\n",
       "    </tr>\n",
       "    <tr>\n",
       "      <th>88419</th>\n",
       "      <td>[Strategy]</td>\n",
       "      <td>Command &amp; Conquer: Red Alert 3</td>\n",
       "      <td>Command &amp;amp; Conquer: Red Alert 3</td>\n",
       "      <td>2008-10-28</td>\n",
       "      <td>[Strategy, RTS, Base Building, Multiplayer, Co...</td>\n",
       "      <td>19.99</td>\n",
       "      <td>17480.0</td>\n",
       "      <td>EA Los Angeles</td>\n",
       "    </tr>\n",
       "    <tr>\n",
       "      <th>88492</th>\n",
       "      <td>[Strategy]</td>\n",
       "      <td>Heroes of Might &amp; Magic V: Hammers of Fate</td>\n",
       "      <td>Heroes of Might &amp;amp; Magic V: Hammers of Fate</td>\n",
       "      <td>2006-11-14</td>\n",
       "      <td>[Strategy, Turn-Based Strategy, Turn-Based, Fa...</td>\n",
       "      <td>9.99</td>\n",
       "      <td>15380.0</td>\n",
       "      <td>Nival</td>\n",
       "    </tr>\n",
       "    <tr>\n",
       "      <th>88494</th>\n",
       "      <td>[Strategy]</td>\n",
       "      <td>Heroes of Might &amp; Magic V: Tribes of the East</td>\n",
       "      <td>Heroes of Might &amp;amp; Magic V: Tribes of the East</td>\n",
       "      <td>2007-10-16</td>\n",
       "      <td>[Strategy, Turn-Based Strategy, Turn-Based, Fa...</td>\n",
       "      <td>9.99</td>\n",
       "      <td>15370.0</td>\n",
       "      <td>Nival</td>\n",
       "    </tr>\n",
       "    <tr>\n",
       "      <th>...</th>\n",
       "      <td>...</td>\n",
       "      <td>...</td>\n",
       "      <td>...</td>\n",
       "      <td>...</td>\n",
       "      <td>...</td>\n",
       "      <td>...</td>\n",
       "      <td>...</td>\n",
       "      <td>...</td>\n",
       "    </tr>\n",
       "    <tr>\n",
       "      <th>120181</th>\n",
       "      <td>[Action, Adventure]</td>\n",
       "      <td>Sam &amp; Max 105: Reality 2.0</td>\n",
       "      <td>Sam &amp;amp; Max 105: Reality 2.0</td>\n",
       "      <td>2007-03-29</td>\n",
       "      <td>[Adventure, Action]</td>\n",
       "      <td>19.99</td>\n",
       "      <td>8240.0</td>\n",
       "      <td>Telltale Games</td>\n",
       "    </tr>\n",
       "    <tr>\n",
       "      <th>120182</th>\n",
       "      <td>[Action, Adventure]</td>\n",
       "      <td>Sam &amp; Max 104: Abe Lincoln Must Die!</td>\n",
       "      <td>Sam &amp;amp; Max 104: Abe Lincoln Must Die!</td>\n",
       "      <td>2007-02-22</td>\n",
       "      <td>[Adventure, Action, Point &amp; Click, Free to Pla...</td>\n",
       "      <td>19.99</td>\n",
       "      <td>8230.0</td>\n",
       "      <td>Telltale Games</td>\n",
       "    </tr>\n",
       "    <tr>\n",
       "      <th>120183</th>\n",
       "      <td>[Action, Adventure]</td>\n",
       "      <td>Sam &amp; Max 106: Bright Side of the Moon</td>\n",
       "      <td>Sam &amp;amp; Max 106: Bright Side of the Moon</td>\n",
       "      <td>2007-04-26</td>\n",
       "      <td>[Adventure, Action]</td>\n",
       "      <td>19.99</td>\n",
       "      <td>8250.0</td>\n",
       "      <td>Telltale Games</td>\n",
       "    </tr>\n",
       "    <tr>\n",
       "      <th>120208</th>\n",
       "      <td>[Action, Strategy]</td>\n",
       "      <td>Making History: The Calm &amp; the Storm</td>\n",
       "      <td>Making History: The Calm &amp;amp; the Storm</td>\n",
       "      <td>2007-03-13</td>\n",
       "      <td>[Strategy, Action, Turn-Based Strategy, Grand ...</td>\n",
       "      <td>4.99</td>\n",
       "      <td>6250.0</td>\n",
       "      <td>Muzzy Lane</td>\n",
       "    </tr>\n",
       "    <tr>\n",
       "      <th>120362</th>\n",
       "      <td>[Action, RPG]</td>\n",
       "      <td>Dark Messiah of Might &amp; Magic</td>\n",
       "      <td>Dark Messiah of Might &amp;amp; Magic</td>\n",
       "      <td>2006-10-25</td>\n",
       "      <td>[RPG, Action, First-Person, Fantasy, Adventure...</td>\n",
       "      <td>9.99</td>\n",
       "      <td>2100.0</td>\n",
       "      <td>Arkane Studios</td>\n",
       "    </tr>\n",
       "  </tbody>\n",
       "</table>\n",
       "<p>531 rows × 8 columns</p>\n",
       "</div>"
      ],
      "text/plain": [
       "                     genres                                       app_name  \\\n",
       "88390   [Action, Adventure]                   Sam & Max 101: Culture Shock   \n",
       "88393   [Action, Adventure]               Sam & Max 102: Situation: Comedy   \n",
       "88419            [Strategy]                 Command & Conquer: Red Alert 3   \n",
       "88492            [Strategy]     Heroes of Might & Magic V: Hammers of Fate   \n",
       "88494            [Strategy]  Heroes of Might & Magic V: Tribes of the East   \n",
       "...                     ...                                            ...   \n",
       "120181  [Action, Adventure]                     Sam & Max 105: Reality 2.0   \n",
       "120182  [Action, Adventure]           Sam & Max 104: Abe Lincoln Must Die!   \n",
       "120183  [Action, Adventure]         Sam & Max 106: Bright Side of the Moon   \n",
       "120208   [Action, Strategy]           Making History: The Calm & the Storm   \n",
       "120362        [Action, RPG]                  Dark Messiah of Might & Magic   \n",
       "\n",
       "                                                    title release_date  \\\n",
       "88390                    Sam &amp; Max 101: Culture Shock   2006-10-17   \n",
       "88393                Sam &amp; Max 102: Situation: Comedy   2006-12-20   \n",
       "88419                  Command &amp; Conquer: Red Alert 3   2008-10-28   \n",
       "88492      Heroes of Might &amp; Magic V: Hammers of Fate   2006-11-14   \n",
       "88494   Heroes of Might &amp; Magic V: Tribes of the East   2007-10-16   \n",
       "...                                                   ...          ...   \n",
       "120181                     Sam &amp; Max 105: Reality 2.0   2007-03-29   \n",
       "120182           Sam &amp; Max 104: Abe Lincoln Must Die!   2007-02-22   \n",
       "120183         Sam &amp; Max 106: Bright Side of the Moon   2007-04-26   \n",
       "120208           Making History: The Calm &amp; the Storm   2007-03-13   \n",
       "120362                  Dark Messiah of Might &amp; Magic   2006-10-25   \n",
       "\n",
       "                                                     tags  price       id  \\\n",
       "88390   [Point & Click, Comedy, Adventure, Detective, ...  19.99   8200.0   \n",
       "88393                                 [Adventure, Action]  19.99   8210.0   \n",
       "88419   [Strategy, RTS, Base Building, Multiplayer, Co...  19.99  17480.0   \n",
       "88492   [Strategy, Turn-Based Strategy, Turn-Based, Fa...   9.99  15380.0   \n",
       "88494   [Strategy, Turn-Based Strategy, Turn-Based, Fa...   9.99  15370.0   \n",
       "...                                                   ...    ...      ...   \n",
       "120181                                [Adventure, Action]  19.99   8240.0   \n",
       "120182  [Adventure, Action, Point & Click, Free to Pla...  19.99   8230.0   \n",
       "120183                                [Adventure, Action]  19.99   8250.0   \n",
       "120208  [Strategy, Action, Turn-Based Strategy, Grand ...   4.99   6250.0   \n",
       "120362  [RPG, Action, First-Person, Fantasy, Adventure...   9.99   2100.0   \n",
       "\n",
       "             developer  \n",
       "88390   Telltale Games  \n",
       "88393   Telltale Games  \n",
       "88419   EA Los Angeles  \n",
       "88492            Nival  \n",
       "88494            Nival  \n",
       "...                ...  \n",
       "120181  Telltale Games  \n",
       "120182  Telltale Games  \n",
       "120183  Telltale Games  \n",
       "120208      Muzzy Lane  \n",
       "120362  Arkane Studios  \n",
       "\n",
       "[531 rows x 8 columns]"
      ]
     },
     "execution_count": 144,
     "metadata": {},
     "output_type": "execute_result"
    }
   ],
   "source": [
    "df_games[df_games['app_name']!=df_games['title']]"
   ]
  },
  {
   "cell_type": "markdown",
   "metadata": {},
   "source": [
    "Se va a eliminar la columna *title* debido a la cantidad de erroes basado solo con una simple inspección visual"
   ]
  },
  {
   "cell_type": "code",
   "execution_count": 145,
   "metadata": {},
   "outputs": [],
   "source": [
    "df_games.drop('title',axis=1,inplace=True)"
   ]
  },
  {
   "cell_type": "code",
   "execution_count": 146,
   "metadata": {},
   "outputs": [
    {
     "name": "stdout",
     "output_type": "stream",
     "text": [
      "<class 'pandas.core.frame.DataFrame'>\n",
      "Index: 27449 entries, 88310 to 120443\n",
      "Data columns (total 7 columns):\n",
      " #   Column        Non-Null Count  Dtype  \n",
      "---  ------        --------------  -----  \n",
      " 0   genres        27449 non-null  object \n",
      " 1   app_name      27449 non-null  object \n",
      " 2   release_date  27449 non-null  object \n",
      " 3   tags          27449 non-null  object \n",
      " 4   price         27449 non-null  object \n",
      " 5   id            27449 non-null  float64\n",
      " 6   developer     27449 non-null  object \n",
      "dtypes: float64(1), object(6)\n",
      "memory usage: 1.7+ MB\n"
     ]
    }
   ],
   "source": [
    "df_games.info()"
   ]
  },
  {
   "cell_type": "markdown",
   "metadata": {},
   "source": [
    "Se verificara que no haya duplicados en las columnas"
   ]
  },
  {
   "cell_type": "code",
   "execution_count": 147,
   "metadata": {},
   "outputs": [
    {
     "data": {
      "text/plain": [
       "1"
      ]
     },
     "execution_count": 147,
     "metadata": {},
     "output_type": "execute_result"
    }
   ],
   "source": [
    "df_games['id'].duplicated().sum()"
   ]
  },
  {
   "cell_type": "code",
   "execution_count": 148,
   "metadata": {},
   "outputs": [],
   "source": [
    "df_games.drop_duplicates(subset='id',inplace=True)"
   ]
  },
  {
   "cell_type": "code",
   "execution_count": 149,
   "metadata": {},
   "outputs": [
    {
     "data": {
      "text/plain": [
       "18"
      ]
     },
     "execution_count": 149,
     "metadata": {},
     "output_type": "execute_result"
    }
   ],
   "source": [
    "df_games['app_name'].duplicated().sum()"
   ]
  },
  {
   "cell_type": "code",
   "execution_count": 150,
   "metadata": {},
   "outputs": [],
   "source": [
    "df_games.drop_duplicates(subset='app_name',inplace=True)"
   ]
  },
  {
   "cell_type": "code",
   "execution_count": 151,
   "metadata": {},
   "outputs": [
    {
     "data": {
      "text/plain": [
       "0"
      ]
     },
     "execution_count": 151,
     "metadata": {},
     "output_type": "execute_result"
    }
   ],
   "source": [
    "df_games['app_name'].duplicated().sum()"
   ]
  },
  {
   "cell_type": "markdown",
   "metadata": {},
   "source": [
    "Se modificará el campo *release_date* ya que solo se necesita el año por lo que se procede a crear una función para modificar esta columna"
   ]
  },
  {
   "cell_type": "code",
   "execution_count": 152,
   "metadata": {},
   "outputs": [],
   "source": [
    "#ESe eliminan los valores SOON, SOON™ y coming soon de la columna 'release_date' que son juegos que están por salir\n",
    "# Se crea una lista con los valores a eliminar\n",
    "valores = ['SOON', 'SOON™','coming soon']\n",
    "\n",
    "# Eliminar las filas donde 'release_date' es 'SOON' o 'SOON™'\n",
    "df_games = df_games[~df_games['release_date'].isin(valores)]"
   ]
  },
  {
   "cell_type": "code",
   "execution_count": 153,
   "metadata": {},
   "outputs": [],
   "source": [
    "#Se crea un función para extraer los 4 primeros o ultimos caracteres de la columna 'release_date'\n",
    "def extract_four_numbers(s):\n",
    "    if re.match('^\\\\d{4}', s):\n",
    "        return s[:4]  \n",
    "    else:\n",
    "        return s[-4:]  \n",
    "\n",
    "# Aplica la función a la columna 'release_date' y crea una nueva columna 'release_year'\n",
    "df_games['release_year'] = df_games['release_date'].apply(extract_four_numbers)"
   ]
  },
  {
   "cell_type": "markdown",
   "metadata": {},
   "source": [
    "Se elimina la columna *release_date* ya que es innecesaria."
   ]
  },
  {
   "cell_type": "code",
   "execution_count": 154,
   "metadata": {},
   "outputs": [],
   "source": [
    "df_games.drop('release_date',axis=1,inplace=True)"
   ]
  },
  {
   "cell_type": "markdown",
   "metadata": {},
   "source": [
    "Ahora se va a modificar la columna *price* para cambiar los strings de *free to play* a 0."
   ]
  },
  {
   "cell_type": "code",
   "execution_count": 155,
   "metadata": {},
   "outputs": [],
   "source": [
    "df_games['price'] = df_games['price'].apply(lambda x: 0 if isinstance(x, str) else x)"
   ]
  },
  {
   "cell_type": "markdown",
   "metadata": {},
   "source": [
    "Se verifica que no haya mas strings."
   ]
  },
  {
   "cell_type": "code",
   "execution_count": 156,
   "metadata": {},
   "outputs": [
    {
     "data": {
      "text/plain": [
       "price\n",
       "<class 'float'>    27427\n",
       "Name: count, dtype: int64"
      ]
     },
     "execution_count": 156,
     "metadata": {},
     "output_type": "execute_result"
    }
   ],
   "source": [
    "df_games['price'].apply(type).value_counts()"
   ]
  },
  {
   "cell_type": "markdown",
   "metadata": {},
   "source": [
    "Se normanliza *app_name* y *developer* pcon la funcion title()"
   ]
  },
  {
   "cell_type": "code",
   "execution_count": 157,
   "metadata": {},
   "outputs": [],
   "source": [
    "df_games['app_name']=df_games['app_name'].apply(lambda x: x.title())"
   ]
  },
  {
   "cell_type": "code",
   "execution_count": 158,
   "metadata": {},
   "outputs": [],
   "source": [
    "df_games['developer']=df_games['developer'].apply(lambda x: x.title())"
   ]
  },
  {
   "cell_type": "markdown",
   "metadata": {},
   "source": [
    "Se proceden a cambiar los tipos de datos para que esten acordes a los datos de las columnas.\n"
   ]
  },
  {
   "cell_type": "code",
   "execution_count": 159,
   "metadata": {},
   "outputs": [
    {
     "data": {
      "text/plain": [
       "2028850.0"
      ]
     },
     "execution_count": 159,
     "metadata": {},
     "output_type": "execute_result"
    }
   ],
   "source": [
    "#Primero se verifica el valor maximo de la columna id\n",
    "df_games['id'].max()"
   ]
  },
  {
   "cell_type": "code",
   "execution_count": 166,
   "metadata": {},
   "outputs": [],
   "source": [
    "df_games[['id', 'price']] = df_games[['id', 'price']].astype({'id': 'int32', 'price': 'float16'})"
   ]
  },
  {
   "cell_type": "code",
   "execution_count": 168,
   "metadata": {},
   "outputs": [],
   "source": [
    "df_games['price']=df_games['price'].apply(lambda x: round(x,2))"
   ]
  },
  {
   "cell_type": "markdown",
   "metadata": {},
   "source": [
    "Se guardan los datos limpios en formato parquet."
   ]
  },
  {
   "cell_type": "code",
   "execution_count": 170,
   "metadata": {},
   "outputs": [],
   "source": [
    "df_games.to_parquet(r'Datasets\\steam_games_clean.parquet',index=False)"
   ]
  }
 ],
 "metadata": {
  "kernelspec": {
   "display_name": "Python 3",
   "language": "python",
   "name": "python3"
  },
  "language_info": {
   "codemirror_mode": {
    "name": "ipython",
    "version": 3
   },
   "file_extension": ".py",
   "mimetype": "text/x-python",
   "name": "python",
   "nbconvert_exporter": "python",
   "pygments_lexer": "ipython3",
   "version": "3.12.1"
  }
 },
 "nbformat": 4,
 "nbformat_minor": 2
}
